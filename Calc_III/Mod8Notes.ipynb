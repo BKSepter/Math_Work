{
 "cells": [
  {
   "cell_type": "code",
   "execution_count": 1,
   "metadata": {},
   "outputs": [],
   "source": [
    "import sympy as smp\n",
    "from sympy import *\n",
    "import numpy as np\n",
    "from numpy import *\n",
    "import scipy as sp\n",
    "from scipy.integrate import solve_ivp\n",
    "from scipy.interpolate import interp1d\n",
    "from scipy.integrate import odeint\n",
    "from fractions import Fraction\n",
    "import matplotlib.pyplot as plt\n",
    "import scienceplots\n",
    "plt.style.use(['science', 'notebook', 'grid'])\n",
    "\n",
    "x, y, t, n, a, b, C, c, r, u, s, A, i, j, k, z, w = smp.symbols('x y t n a b C c r u s A i j k z w')\n",
    "f, g, m = smp.symbols('f g m', cls=smp.Function)"
   ]
  },
  {
   "cell_type": "markdown",
   "metadata": {},
   "source": [
    "# 1\n",
    "\n",
    "Find a parameterization of the paraboloid:\n",
    "\n",
    "100z = 25x^2 + 4y^2, z =< 16"
   ]
  },
  {
   "cell_type": "code",
   "execution_count": 3,
   "metadata": {},
   "outputs": [
    {
     "name": "stdout",
     "output_type": "stream",
     "text": [
      "x(u, v) =\n"
     ]
    },
    {
     "data": {
      "text/latex": [
       "$\\displaystyle v \\cos{\\left(u \\right)}$"
      ],
      "text/plain": [
       "v*cos(u)"
      ]
     },
     "metadata": {},
     "output_type": "display_data"
    },
    {
     "name": "stdout",
     "output_type": "stream",
     "text": [
      "y(u, v) =\n"
     ]
    },
    {
     "data": {
      "text/latex": [
       "$\\displaystyle v \\sin{\\left(u \\right)}$"
      ],
      "text/plain": [
       "v*sin(u)"
      ]
     },
     "metadata": {},
     "output_type": "display_data"
    },
    {
     "name": "stdout",
     "output_type": "stream",
     "text": [
      "z(u, v) =\n"
     ]
    },
    {
     "data": {
      "text/latex": [
       "$\\displaystyle \\frac{v^{2} \\cdot \\left(25 - 21 \\sin^{2}{\\left(u \\right)}\\right)}{100}$"
      ],
      "text/plain": [
       "v**2*(25 - 21*sin(u)**2)/100"
      ]
     },
     "metadata": {},
     "output_type": "display_data"
    }
   ],
   "source": [
    "# Define the variables\n",
    "x, y, z, u, v = smp.symbols('x y z u v')\n",
    "\n",
    "# Define the equation of the paraboloid\n",
    "equation = smp.Eq(100*z, 25*x**2 + 4*y**2)\n",
    "\n",
    "# Parameterize x and y using polar coordinates\n",
    "x_param = v * smp.cos(u)\n",
    "y_param = v * smp.sin(u)\n",
    "\n",
    "# Substitute the parameterized values into the equation\n",
    "z_param = smp.solve(equation.subs({x: x_param, y: y_param}), z)[0]\n",
    "\n",
    "# Print the parameterized equations\n",
    "print(\"x(u, v) =\")\n",
    "display(x_param)\n",
    "print(\"y(u, v) =\")\n",
    "display(y_param)\n",
    "print(\"z(u, v) =\")\n",
    "display(z_param)"
   ]
  },
  {
   "cell_type": "markdown",
   "metadata": {},
   "source": [
    "# 2\n",
    "\n",
    "Find a parametrization of the surface:\n",
    "\n",
    "The first-octant portion of the cone z = (sqrt(x^2 + y^2))/8 between the planes z = 0 and z = 6"
   ]
  },
  {
   "cell_type": "code",
   "execution_count": 8,
   "metadata": {},
   "outputs": [
    {
     "name": "stdout",
     "output_type": "stream",
     "text": [
      "x(r, theta) =\n"
     ]
    },
    {
     "data": {
      "text/latex": [
       "$\\displaystyle r \\cos{\\left(\\theta \\right)}$"
      ],
      "text/plain": [
       "r*cos(theta)"
      ]
     },
     "metadata": {},
     "output_type": "display_data"
    },
    {
     "name": "stdout",
     "output_type": "stream",
     "text": [
      "y(r, theta) =\n"
     ]
    },
    {
     "data": {
      "text/latex": [
       "$\\displaystyle r \\sin{\\left(\\theta \\right)}$"
      ],
      "text/plain": [
       "r*sin(theta)"
      ]
     },
     "metadata": {},
     "output_type": "display_data"
    },
    {
     "name": "stdout",
     "output_type": "stream",
     "text": [
      "z(r, theta) =\n"
     ]
    },
    {
     "data": {
      "text/latex": [
       "$\\displaystyle \\frac{\\sqrt{r^{2}}}{8}$"
      ],
      "text/plain": [
       "sqrt(r**2)/8"
      ]
     },
     "metadata": {},
     "output_type": "display_data"
    },
    {
     "name": "stdout",
     "output_type": "stream",
     "text": [
      "Range for r: 0 <= r <= 48\n",
      "Range for theta: 0 <= theta <= pi/2\n"
     ]
    }
   ],
   "source": [
    "# Define the variables\n",
    "x, y, z, r, theta = smp.symbols('x y z r theta')\n",
    "\n",
    "# Define the equation of the cone\n",
    "equation = smp.Eq(z, smp.sqrt(x**2 + y**2)/8)\n",
    "\n",
    "# Parameterize x and y using polar coordinates\n",
    "x_param = r * smp.cos(theta)\n",
    "y_param = r * smp.sin(theta)\n",
    "\n",
    "# Substitute the parameterized values into the equation\n",
    "z_param = smp.solve(equation.subs({x: x_param, y: y_param}), z)[0]\n",
    "\n",
    "# Print the parameterized equations\n",
    "print(\"x(r, theta) =\")\n",
    "display(x_param)\n",
    "print(\"y(r, theta) =\")\n",
    "display(y_param)\n",
    "print(\"z(r, theta) =\")\n",
    "display(z_param)\n",
    "\n",
    "# Determine the range for r and theta\n",
    "r_max = 8 * 6  # from z = 6\n",
    "theta_range = (0, smp.pi/2)  # first octant\n",
    "\n",
    "print(f\"Range for r: 0 <= r <= {r_max}\")\n",
    "print(f\"Range for theta: {theta_range[0]} <= theta <= {theta_range[1]}\")"
   ]
  },
  {
   "cell_type": "markdown",
   "metadata": {},
   "source": [
    "# 3\n",
    "\n",
    "Use a parametrization to express the area of the surface as a double integral. Then evaluate the integral:\n",
    "\n",
    "The portion of the cylinder x^2 + y^2 = 4 between the planes z = 4 and z = 7\n",
    "\n",
    "Let u = z and v = theta and use the cylindrical coordinates to parameterize the surface. \n",
    "\n",
    "Set up the double integral to find the surface area."
   ]
  },
  {
   "cell_type": "code",
   "execution_count": 9,
   "metadata": {},
   "outputs": [
    {
     "name": "stdout",
     "output_type": "stream",
     "text": [
      "Surface Area:\n"
     ]
    },
    {
     "data": {
      "text/latex": [
       "$\\displaystyle 12 \\pi$"
      ],
      "text/plain": [
       "12*pi"
      ]
     },
     "metadata": {},
     "output_type": "display_data"
    }
   ],
   "source": [
    "# Define the variables\n",
    "u, v = smp.symbols('u v')\n",
    "\n",
    "# Parameterization of the cylinder using cylindrical coordinates\n",
    "x = 2 * smp.cos(v)\n",
    "y = 2 * smp.sin(v)\n",
    "z = u\n",
    "\n",
    "# Compute the partial derivatives\n",
    "r_u = smp.Matrix([[x.diff(u)], [y.diff(u)], [z.diff(u)]])\n",
    "r_v = smp.Matrix([[x.diff(v)], [y.diff(v)], [z.diff(v)]])\n",
    "\n",
    "# Compute the cross product\n",
    "cross_product = r_u.cross(r_v)\n",
    "\n",
    "# Compute the magnitude of the cross product\n",
    "magnitude = cross_product.norm()\n",
    "\n",
    "# Set up the double integral for the surface area\n",
    "surface_area = smp.integrate(magnitude, (u, 4, 7), (v, 0, 2*smp.pi))\n",
    "\n",
    "print(\"Surface Area:\")\n",
    "display(surface_area)"
   ]
  },
  {
   "cell_type": "markdown",
   "metadata": {},
   "source": [
    "# 4\n",
    "\n",
    "Find the area of the surface cut from the paraboloid x^2 + y^2 + z = 0 by the plane z = -20"
   ]
  },
  {
   "cell_type": "code",
   "execution_count": 10,
   "metadata": {},
   "outputs": [
    {
     "name": "stdout",
     "output_type": "stream",
     "text": [
      "Surface Area:\n"
     ]
    },
    {
     "data": {
      "text/latex": [
       "$\\displaystyle \\frac{364 \\pi}{3}$"
      ],
      "text/plain": [
       "364*pi/3"
      ]
     },
     "metadata": {},
     "output_type": "display_data"
    }
   ],
   "source": [
    "# Define the variables\n",
    "r, theta = smp.symbols('r theta')\n",
    "\n",
    "# Parameterization of the paraboloid using polar coordinates\n",
    "x = r * smp.cos(theta)\n",
    "y = r * smp.sin(theta)\n",
    "z = -r**2\n",
    "\n",
    "# Compute the differential area element in polar coordinates\n",
    "dS = r * smp.sqrt(1 + (smp.diff(z, r))**2)\n",
    "\n",
    "# Set up the double integral for the surface area\n",
    "surface_area = smp.integrate(dS, (r, 0, 2*smp.sqrt(5)), (theta, 0, 2*smp.pi))\n",
    "\n",
    "print(\"Surface Area:\")\n",
    "display(surface_area)"
   ]
  },
  {
   "cell_type": "markdown",
   "metadata": {},
   "source": [
    "# 5\n",
    "\n",
    "Find the area of the region cut from the plane 8x + y + 4z = 6 by the cylinder whose walls are x = y^2 and x = 2 - y^2\n",
    "\n",
    "Answer:\n",
    "\n",
    "The area of the surface is 6"
   ]
  },
  {
   "cell_type": "code",
   "execution_count": 15,
   "metadata": {},
   "outputs": [
    {
     "name": "stdout",
     "output_type": "stream",
     "text": [
      "9.0 - 9.0*y**2\n"
     ]
    },
    {
     "ename": "",
     "evalue": "",
     "output_type": "error",
     "traceback": [
      "\u001b[1;31mThe Kernel crashed while executing code in the the current cell or a previous cell. Please review the code in the cell(s) to identify a possible cause of the failure. Click <a href='https://aka.ms/vscodeJupyterKernelCrash'>here</a> for more info. View Jupyter <a href='command:jupyter.viewOutput'>log</a> for further details."
     ]
    }
   ],
   "source": [
    "# FIXME\n",
    "\n",
    "# Define the variables\n",
    "x, y = smp.symbols('x y')\n",
    "\n",
    "# Define the function for z from the plane equation\n",
    "z = (6 - 8*x - y) / 4\n",
    "\n",
    "# Compute the gradient (normal vector) of the function\n",
    "gradient = smp.Matrix([z.diff(var) for var in (x, y)])\n",
    "gradient = gradient.row_insert(2, smp.Matrix([-1]))  # Add -1 for dz\n",
    "\n",
    "# Find the magnitude of the gradient\n",
    "magnitude = gradient.norm()\n",
    "\n",
    "# Set up and evaluate the double integral\n",
    "area = smp.integrate(magnitude, (y, -1, 1), (x, y**2, 2 - y**2))\n",
    "\n",
    "# Print the result\n",
    "print(area.evalf())"
   ]
  },
  {
   "cell_type": "markdown",
   "metadata": {},
   "source": [
    "# 6\n",
    "\n",
    "Integrate the given function over the given surface:\n",
    "\n",
    "G(x, y, z) = z over the parabolic cylinder y = z^2, 0 =< x =< 1, 0 =< z =< sqrt(3)/2"
   ]
  },
  {
   "cell_type": "code",
   "execution_count": 4,
   "metadata": {},
   "outputs": [
    {
     "data": {
      "text/latex": [
       "$\\displaystyle \\frac{7}{12}$"
      ],
      "text/plain": [
       "7/12"
      ]
     },
     "execution_count": 4,
     "metadata": {},
     "output_type": "execute_result"
    }
   ],
   "source": [
    "# Define the variables and the parameterization\n",
    "x, z = smp.symbols('x z')\n",
    "r = smp.Matrix([x, z**2, z])\n",
    "\n",
    "# Compute the tangent vectors and the normal vector\n",
    "rx = r.diff(x)\n",
    "rz = r.diff(z)\n",
    "n = rx.cross(rz)\n",
    "\n",
    "# Compute the magnitude of the normal vector\n",
    "n_magnitude = n.norm()\n",
    "\n",
    "# Define the function G(x, y, z)\n",
    "G = r[2]  # This is z from our parameterization\n",
    "\n",
    "# Set up and evaluate the surface integral\n",
    "integral_value = smp.integrate(G * n_magnitude, (x, 0, 1), (z, 0, smp.sqrt(3)/2))\n",
    "\n",
    "integral_value"
   ]
  },
  {
   "cell_type": "markdown",
   "metadata": {},
   "source": [
    "# 7\n",
    "\n",
    "Integrate the function H(x, y, z) = (x^2)sqrt(17-8z) over the parabolic dome z = 2 - 2x^2 - 2y^2, z >= 0"
   ]
  },
  {
   "cell_type": "code",
   "execution_count": null,
   "metadata": {},
   "outputs": [],
   "source": []
  },
  {
   "cell_type": "markdown",
   "metadata": {},
   "source": [
    "# 8\n",
    "\n",
    "Use a parameterization to find the flux ∫∫(S) F * n dσ of F = (z^2)i + (x)j - (3z)k in the outward direction (normal away from the x-axis) across the surface cut from the parabolic cylinder z = 16 - y^2 by the planes x = 0, x = 1, and z = 0"
   ]
  },
  {
   "cell_type": "code",
   "execution_count": 23,
   "metadata": {},
   "outputs": [
    {
     "data": {
      "text/latex": [
       "$\\displaystyle -256$"
      ],
      "text/plain": [
       "-256"
      ]
     },
     "execution_count": 23,
     "metadata": {},
     "output_type": "execute_result"
    }
   ],
   "source": [
    "# Define the variables\n",
    "x, y, z = smp.symbols('x y z')\n",
    "\n",
    "# Define the vector field F\n",
    "F = smp.Matrix([z**2, x, -3*z])\n",
    "\n",
    "# Parameterize the surface of the parabolic cylinder\n",
    "r = smp.Matrix([x, y, 16 - y**2])\n",
    "\n",
    "# Compute the tangent vectors\n",
    "drdx = r.diff(x)\n",
    "drdy = r.diff(y)\n",
    "\n",
    "# Compute the outward normal using the cross product\n",
    "n = drdx.cross(drdy)\n",
    "\n",
    "# Compute the dot product of F and n\n",
    "Fn_dot_n = F.dot(n)\n",
    "\n",
    "# Substitute the parameterized value of z\n",
    "Fn_dot_n_substituted = Fn_dot_n.subs(z, 16 - y**2)\n",
    "\n",
    "# Integrate over the surface\n",
    "flux = smp.integrate(Fn_dot_n_substituted, (x, 0, 1), (y, -4, 4))\n",
    "\n",
    "flux"
   ]
  },
  {
   "cell_type": "markdown",
   "metadata": {},
   "source": [
    "# 9\n",
    "\n",
    "Find the surface integral of the field F(x, y, z) = -i + 5j + 3k across the rectangular surface z = 0, 0 =< x =< 2, 0 =< y =< 2 in the k direction"
   ]
  },
  {
   "cell_type": "code",
   "execution_count": 19,
   "metadata": {},
   "outputs": [
    {
     "data": {
      "text/latex": [
       "$\\displaystyle 12$"
      ],
      "text/plain": [
       "12"
      ]
     },
     "execution_count": 19,
     "metadata": {},
     "output_type": "execute_result"
    }
   ],
   "source": [
    "# Define the variables\n",
    "x, y = smp.symbols('x y')\n",
    "\n",
    "# Define the vector field F\n",
    "F = smp.Matrix([-1, 5, 3])\n",
    "\n",
    "# Since we're integrating over the xy-plane and in the k direction, \n",
    "# we only need the k component of F\n",
    "F_k = F[2]\n",
    "\n",
    "# Compute the double integral over the given rectangular region\n",
    "surface_integral = smp.integrate(F_k, (x, 0, 2), (y, 0, 2))\n",
    "\n",
    "surface_integral"
   ]
  },
  {
   "cell_type": "markdown",
   "metadata": {},
   "source": [
    "# 10\n",
    "\n",
    "Find the surface integral of the field F(x, y, z) = 6x(i) + 6y(j) + 6z(k) across the portion of the sphere x^2 + y^2 + z^2 = a^2 in the first octant in the direction away from the origin."
   ]
  },
  {
   "cell_type": "code",
   "execution_count": 15,
   "metadata": {},
   "outputs": [
    {
     "data": {
      "text/latex": [
       "$\\displaystyle 3 \\pi a^{3}$"
      ],
      "text/plain": [
       "3*pi*a**3"
      ]
     },
     "execution_count": 15,
     "metadata": {},
     "output_type": "execute_result"
    }
   ],
   "source": [
    "# Define the variables\n",
    "x, y, z, a, phi, theta = smp.symbols('x y z a phi theta')\n",
    "\n",
    "# Parametrize the surface using spherical coordinates\n",
    "x_spherical = a * smp.sin(phi) * smp.cos(theta)\n",
    "y_spherical = a * smp.sin(phi) * smp.sin(theta)\n",
    "z_spherical = a * smp.cos(phi)\n",
    "\n",
    "# Define the vector field F\n",
    "F = smp.Matrix([6*x_spherical, 6*y_spherical, 6*z_spherical])\n",
    "\n",
    "# Compute the normal vector n using the gradient of the surface\n",
    "n = smp.Matrix([x_spherical/a, y_spherical/a, z_spherical/a])\n",
    "\n",
    "# Compute the dot product F.n\n",
    "dot_product = F.dot(n)\n",
    "\n",
    "# Integrate over the region 0 <= theta <= pi/2 and 0 <= phi <= pi/2\n",
    "surface_integral = smp.integrate(dot_product * a**2 * smp.sin(phi), (phi, 0, smp.pi/2), (theta, 0, smp.pi/2))\n",
    "\n",
    "surface_integral"
   ]
  },
  {
   "cell_type": "markdown",
   "metadata": {},
   "source": [
    "# 11\n",
    "\n",
    "Find the curl of the vector field F:\n",
    "\n",
    "F = (x - y - z)i + (3x + y + 5z)j + (5x + 8y - z)k"
   ]
  },
  {
   "cell_type": "code",
   "execution_count": 16,
   "metadata": {},
   "outputs": [
    {
     "name": "stdout",
     "output_type": "stream",
     "text": [
      "curl F = (3)i + (-6)j + (4)k\n"
     ]
    }
   ],
   "source": [
    "# Define the symbols\n",
    "x, y, z = smp.symbols('x y z')\n",
    "\n",
    "# Define the vector field F\n",
    "F_i = x - y - z\n",
    "F_j = 3*x + y + 5*z\n",
    "F_k = 5*x + 8*y - z\n",
    "\n",
    "# Compute the curl of F\n",
    "curl_F_i = smp.diff(F_k, y) - smp.diff(F_j, z)\n",
    "curl_F_j = smp.diff(F_i, z) - smp.diff(F_k, x)\n",
    "curl_F_k = smp.diff(F_j, x) - smp.diff(F_i, y)\n",
    "\n",
    "print(f\"curl F = ({curl_F_i})i + ({curl_F_j})j + ({curl_F_k})k\")"
   ]
  },
  {
   "cell_type": "markdown",
   "metadata": {},
   "source": [
    "# 12\n",
    "\n",
    "Use the surface integral in Stokes' Theorem to calculate the circulation of the field F = (y^2 + z^2)i + (x^2 + y^2)j + (x^2 + y^2)k around the curve C: The square bounded by the lines x +- 1 and y = +- 1 in the xy-plane, counterclockwise when viewed from above."
   ]
  },
  {
   "cell_type": "code",
   "execution_count": 18,
   "metadata": {},
   "outputs": [
    {
     "name": "stdout",
     "output_type": "stream",
     "text": [
      "curl F = (2*y)i + (-2*x + 2*z)j + (2*x - 2*y)k\n"
     ]
    }
   ],
   "source": [
    "# Define the symbols\n",
    "x, y, z = sp.symbols('x y z')\n",
    "\n",
    "# Define the vector field F\n",
    "F_i = y**2 + z**2\n",
    "F_j = x**2 + y**2\n",
    "F_k = x**2 + y**2\n",
    "\n",
    "# Compute the curl of F\n",
    "curl_F_i = sp.diff(F_k, y) - sp.diff(F_j, z)\n",
    "curl_F_j = sp.diff(F_i, z) - sp.diff(F_k, x)\n",
    "curl_F_k = sp.diff(F_j, x) - sp.diff(F_i, y)\n",
    "\n",
    "print(f\"curl F = ({curl_F_i})i + ({curl_F_j})j + ({curl_F_k})k\")\n",
    "# Surface Integral = 0"
   ]
  },
  {
   "cell_type": "markdown",
   "metadata": {},
   "source": [
    "# 13\n",
    "\n",
    "Let S be the cylinder x^2 + y^2 = a^2, 0 =< z =< h, together with its top, x^2 + y^2 =< a^2, z = h.\n",
    "\n",
    "Let F = -y(i) + x(j) + (x^2)k\n",
    "\n",
    "Use Stokes' Theorem to find the flux of ▽ x F through S in the direction away from the interior of the cylinder\n",
    "\n",
    "The flux of ▽ x F outward through S is: \n",
    "\n",
    "2pi(a^2)"
   ]
  },
  {
   "cell_type": "code",
   "execution_count": 33,
   "metadata": {},
   "outputs": [
    {
     "data": {
      "text/latex": [
       "$\\displaystyle 2 \\pi a^{2}$"
      ],
      "text/plain": [
       "2*pi*a**2"
      ]
     },
     "execution_count": 33,
     "metadata": {},
     "output_type": "execute_result"
    }
   ],
   "source": [
    "# Define the variables\n",
    "x, y, z, a, r, theta = smp.symbols('x y z a r theta')\n",
    "\n",
    "# Define the vector field F\n",
    "F = smp.Matrix([-y, x, x**2])\n",
    "\n",
    "# Compute the curl of F correctly\n",
    "curl_F = smp.Matrix([\n",
    "    F[2].diff(y) - F[1].diff(z),\n",
    "    F[0].diff(z) - F[2].diff(x),\n",
    "    F[1].diff(x) - F[0].diff(y)\n",
    "])\n",
    "\n",
    "# Parametrize the top surface of the cylinder in terms of r and theta\n",
    "x_param = r * smp.cos(theta)\n",
    "y_param = r * smp.sin(theta)\n",
    "z_param = a**2  # Since z = h and x^2 + y^2 = a^2\n",
    "\n",
    "# Substitute the parametrization into the curl\n",
    "curl_F_param = curl_F.subs({x: x_param, y: y_param, z: z_param})\n",
    "\n",
    "# The outward normal vector for the top surface is k\n",
    "n = smp.Matrix([0, 0, 1])\n",
    "\n",
    "# Compute the dot product of the curl and the normal vector\n",
    "dot_product = curl_F_param.dot(n)\n",
    "\n",
    "# Compute the flux through the top surface using a double integral\n",
    "flux_top = smp.integrate(dot_product * r, (r, 0, a), (theta, 0, 2*smp.pi))\n",
    "\n",
    "flux_top"
   ]
  },
  {
   "cell_type": "markdown",
   "metadata": {},
   "source": [
    "Let S be the cylinder x^2 + y^2 = a^2, 0 =< z =< h, together with its top, x^2 + y^2 =< a^2, z = h.\n",
    "\n",
    "Let F = -3y(i) + 3x(j) + 3(x^2)k\n",
    "\n",
    "Use Stokes' Theorem to find the flux of ▽ x F through S in the direction away from the interior of the cylinder\n",
    "\n",
    "The flux of ▽ x F outward through S is: \n",
    "\n",
    "6pi(a^2)"
   ]
  },
  {
   "cell_type": "code",
   "execution_count": 34,
   "metadata": {},
   "outputs": [
    {
     "data": {
      "text/latex": [
       "$\\displaystyle 6 \\pi a^{2}$"
      ],
      "text/plain": [
       "6*pi*a**2"
      ]
     },
     "execution_count": 34,
     "metadata": {},
     "output_type": "execute_result"
    }
   ],
   "source": [
    "# Define the variables\n",
    "x, y, z, a, r, theta = smp.symbols('x y z a r theta')\n",
    "\n",
    "# Define the vector field F\n",
    "F = smp.Matrix([-3*y, 3*x, 3*x**2])\n",
    "\n",
    "# Compute the curl of F correctly\n",
    "curl_F = smp.Matrix([\n",
    "    F[2].diff(y) - F[1].diff(z),\n",
    "    F[0].diff(z) - F[2].diff(x),\n",
    "    F[1].diff(x) - F[0].diff(y)\n",
    "])\n",
    "\n",
    "# Parametrize the top surface of the cylinder in terms of r and theta\n",
    "x_param = r * smp.cos(theta)\n",
    "y_param = r * smp.sin(theta)\n",
    "z_param = a**2  # Since z = h and x^2 + y^2 = a^2\n",
    "\n",
    "# Substitute the parametrization into the curl\n",
    "curl_F_param = curl_F.subs({x: x_param, y: y_param, z: z_param})\n",
    "\n",
    "# The outward normal vector for the top surface is k\n",
    "n = smp.Matrix([0, 0, 1])\n",
    "\n",
    "# Compute the dot product of the curl and the normal vector\n",
    "dot_product = curl_F_param.dot(n)\n",
    "\n",
    "# Compute the flux through the top surface using a double integral\n",
    "flux_top = smp.integrate(dot_product * r, (r, 0, a), (theta, 0, 2*smp.pi))\n",
    "\n",
    "flux_top"
   ]
  },
  {
   "cell_type": "markdown",
   "metadata": {},
   "source": [
    "# 14\n",
    "\n",
    "Use the surface integral in Stokes' Theorem to calculate the flux of the curl of the field F = (3z)i + (3x)j + (5y)k across the surface S: r(r, theta) = r(cos(theta))i + r(sin(theta))j + (4-r^2)k, 0 =< r =< 2, 0 =< theta =< 2pi in the direction away from the origin. \n",
    "\n",
    "The flux of the curl of the field F is:\n",
    "\n",
    "12pi"
   ]
  },
  {
   "cell_type": "code",
   "execution_count": 35,
   "metadata": {},
   "outputs": [
    {
     "ename": "NameError",
     "evalue": "name 'r_vec' is not defined",
     "output_type": "error",
     "traceback": [
      "\u001b[0;31m---------------------------------------------------------------------------\u001b[0m",
      "\u001b[0;31mNameError\u001b[0m                                 Traceback (most recent call last)",
      "Cell \u001b[0;32mIn[35], line 12\u001b[0m\n\u001b[1;32m      9\u001b[0m curl_F \u001b[39m=\u001b[39m F\u001b[39m.\u001b[39mdiff(y)\u001b[39m.\u001b[39mjacobian(smp\u001b[39m.\u001b[39mMatrix([x, y, z]))\n\u001b[1;32m     11\u001b[0m \u001b[39m# Compute Tangent Vectors and Normal Vector\u001b[39;00m\n\u001b[0;32m---> 12\u001b[0m dr \u001b[39m=\u001b[39m r_vec\u001b[39m.\u001b[39mdiff(r)\n\u001b[1;32m     13\u001b[0m dtheta \u001b[39m=\u001b[39m r_vec\u001b[39m.\u001b[39mdiff(theta)\n\u001b[1;32m     14\u001b[0m n \u001b[39m=\u001b[39m dr\u001b[39m.\u001b[39mcross(dtheta)\n",
      "\u001b[0;31mNameError\u001b[0m: name 'r_vec' is not defined"
     ]
    }
   ],
   "source": [
    "# FIXME\n",
    "\n",
    "# Variables and Vector Field\n",
    "x, y, z, r, theta = smp.symbols('x y z r theta')\n",
    "F = smp.Matrix([3*z, 3*x, 5*y])\n",
    "\n",
    "# Compute curl of F\n",
    "curl_F = F.diff(y).jacobian(smp.Matrix([x, y, z]))\n",
    "\n",
    "# Parameterize the surface of S\n",
    "curl_F = F.diff(y).jacobian(smp.Matrix([x, y, z]))\n",
    "\n",
    "# Compute Tangent Vectors and Normal Vector\n",
    "dr = r_vec.diff(r)\n",
    "dtheta = r_vec.diff(theta)\n",
    "n = dr.cross(dtheta)\n",
    "\n",
    "# Compute the Dot Product of the curl and the Normal Vector\n",
    "dot_product = curl_F.dot(n)\n",
    "\n",
    "# Integrate over the surface\n",
    "flux = smp.integrate(dot_product * r, (r, 0, 2), (theta, 0, 2*sp.pi))\n",
    "\n",
    "flux"
   ]
  },
  {
   "cell_type": "markdown",
   "metadata": {},
   "source": [
    "# 15\n",
    "\n",
    "Use the surface integral in Stokes' Theorem to calculate the flux of the curl of the field F across the surface S in the direction away from the origin.\n",
    "\n",
    "F = (3y)i + (5-3x)j + (z^2 - 2)k\n",
    "\n",
    "S: r(phi, theta) = (2sin(phi)cos(theta))i + (2sin(phi)sin(theta))j + (2cos(phi))k, 0 =< phi =< pi/2, 0 =< theta =< 2pi\n",
    "\n",
    "Answer:\n",
    "\n",
    "The flux of the curl of the field F across the surface S in the direction of the outward unit normal n is: \n",
    "\n",
    "-24pi"
   ]
  },
  {
   "cell_type": "code",
   "execution_count": 47,
   "metadata": {},
   "outputs": [
    {
     "data": {
      "text/latex": [
       "$\\displaystyle - 24 \\pi$"
      ],
      "text/plain": [
       "-24*pi"
      ]
     },
     "execution_count": 47,
     "metadata": {},
     "output_type": "execute_result"
    }
   ],
   "source": [
    "# Define the variables\n",
    "phi, theta = smp.symbols('phi theta')\n",
    "\n",
    "# Define the integrand\n",
    "integrand = -12 * smp.sin(2*phi)\n",
    "\n",
    "# Compute the double integral over the given bounds\n",
    "flux_phi = smp.integrate(integrand, (phi, 0, smp.pi/2))\n",
    "flux_total = flux_phi * smp.integrate(1, (theta, 0, 2*smp.pi))\n",
    "\n",
    "flux_total"
   ]
  },
  {
   "cell_type": "markdown",
   "metadata": {},
   "source": [
    "Use the surface integral in Stokes' Theorem to calculate the flux of the curl of the field F across the surface S in the direction away from the origin.\n",
    "\n",
    "F = (3y)i + (5-3x)j + (z^2 - 2)k\n",
    "\n",
    "S: r(phi, theta) = (sqrt(6)sin(phi)cos(theta))i + (sqrt(6)sin(phi)sin(theta))j + (sqrt(6)cos(phi))k, 0 =< phi =< pi/2, 0 =< theta =< 2pi\n",
    "\n",
    "Answer:\n",
    "\n",
    "The flux of the curl of the field F across the surface S in the direction of the outward unit normal n is ?\n"
   ]
  },
  {
   "cell_type": "code",
   "execution_count": 48,
   "metadata": {},
   "outputs": [
    {
     "data": {
      "text/latex": [
       "$\\displaystyle - 3 \\sqrt{5} \\pi$"
      ],
      "text/plain": [
       "-3*sqrt(5)*pi"
      ]
     },
     "execution_count": 48,
     "metadata": {},
     "output_type": "execute_result"
    },
    {
     "ename": "",
     "evalue": "",
     "output_type": "error",
     "traceback": [
      "\u001b[1;31mThe Kernel crashed while executing code in the the current cell or a previous cell. Please review the code in the cell(s) to identify a possible cause of the failure. Click <a href='https://aka.ms/vscodeJupyterKernelCrash'>here</a> for more info. View Jupyter <a href='command:jupyter.viewOutput'>log</a> for further details."
     ]
    }
   ],
   "source": [
    "# Define the variables\n",
    "phi, theta = smp.symbols('phi theta')\n",
    "\n",
    "# Define the integrand\n",
    "integrand = -3 * smp.sqrt(5) * smp.sin(phi) * smp.cos(phi)\n",
    "\n",
    "# Compute the double integral over the given bounds\n",
    "flux_phi = smp.integrate(integrand, (phi, 0, smp.pi/2))\n",
    "flux_total = flux_phi * smp.integrate(1, (theta, 0, 2*smp.pi))\n",
    "\n",
    "flux_total"
   ]
  },
  {
   "cell_type": "markdown",
   "metadata": {},
   "source": [
    "# 16\n",
    "\n",
    "Find the divergence of the field:\n",
    "\n",
    "F = (-8x + 7y + 6z)i + (3x - 7y + 8x)j + (-3x + 3y - 2z)k\n",
    "\n",
    "Answer:\n",
    "\n",
    "div F = -17"
   ]
  },
  {
   "cell_type": "code",
   "execution_count": 46,
   "metadata": {},
   "outputs": [
    {
     "data": {
      "text/latex": [
       "$\\displaystyle -17$"
      ],
      "text/plain": [
       "-17"
      ]
     },
     "execution_count": 46,
     "metadata": {},
     "output_type": "execute_result"
    }
   ],
   "source": [
    "# Define the variables\n",
    "x, y, z = smp.symbols('x y z')\n",
    "\n",
    "# Define the components of the vector field F\n",
    "Fi = -8*x + 7*y + 6*z\n",
    "Fj = 3*x - 7*y + 8*x\n",
    "Fk = -3*x + 3*y - 2*z\n",
    "\n",
    "# Compute the divergence of F\n",
    "div_F = smp.diff(Fi, x) + smp.diff(Fj, y) + smp.diff(Fk, z)\n",
    "\n",
    "div_F"
   ]
  },
  {
   "cell_type": "markdown",
   "metadata": {},
   "source": []
  },
  {
   "cell_type": "markdown",
   "metadata": {},
   "source": [
    "# 17\n",
    "\n",
    "Find the divergence of the spin field pictured at the right.\n",
    "\n",
    "The equation for the spin field is F = ((-4y)i + (4x)j) / (x^2 + y^2)^(1/2)\n",
    "\n",
    "Answer:\n",
    "\n",
    "div F = 0"
   ]
  },
  {
   "cell_type": "code",
   "execution_count": 45,
   "metadata": {},
   "outputs": [
    {
     "data": {
      "text/latex": [
       "$\\displaystyle 0$"
      ],
      "text/plain": [
       "0"
      ]
     },
     "execution_count": 45,
     "metadata": {},
     "output_type": "execute_result"
    }
   ],
   "source": [
    "# Define the variables\n",
    "x, y = smp.symbols('x y')\n",
    "\n",
    "# Define the vector field F\n",
    "Fi = (-4*y) / smp.sqrt(x**2 + y**2)\n",
    "Fj = (4*x) / smp.sqrt(x**2 + y**2)\n",
    "\n",
    "# Compute the divergence of F\n",
    "div_F = smp.diff(Fi, x) + smp.diff(Fj, y)\n",
    "\n",
    "div_F"
   ]
  },
  {
   "cell_type": "markdown",
   "metadata": {},
   "source": [
    "# 18\n",
    "\n",
    "Use the divergence theorem to find the outward flux of F across the boundary of the region D:\n",
    "\n",
    "F = (x^3)i - ((3x^2)y)j + (7xz)k\n",
    "\n",
    "D: The region cut from the first octant by the sphere x^2 + y^2 + z^2 = 1\n",
    "\n",
    "Answer:\n",
    "\n",
    "The outward flux is: (7pi)/16"
   ]
  },
  {
   "cell_type": "code",
   "execution_count": 44,
   "metadata": {},
   "outputs": [
    {
     "name": "stderr",
     "output_type": "stream",
     "text": [
      "/tmp/ipykernel_20933/1226718802.py:9: DeprecationWarning: Calling np.sum(generator) is deprecated, and in the future will give a different result. Use np.sum(np.fromiter(generator)) or the python sum builtin instead.\n",
      "  div_F = sum(smp.diff(F[i], [x, y, z][i]) for i in range(3))\n"
     ]
    },
    {
     "data": {
      "text/latex": [
       "$\\displaystyle \\frac{7 \\pi}{16}$"
      ],
      "text/plain": [
       "7*pi/16"
      ]
     },
     "execution_count": 44,
     "metadata": {},
     "output_type": "execute_result"
    }
   ],
   "source": [
    "# Define the variables\n",
    "x, y, z = smp.symbols('x y z')\n",
    "rho, phi, theta = smp.symbols('rho phi theta')\n",
    "\n",
    "# Define the vector field F\n",
    "F = [x**3, -3*x**2*y, 7*x*z]\n",
    "\n",
    "# Compute the divergence of F\n",
    "div_F = sum(smp.diff(F[i], [x, y, z][i]) for i in range(3))\n",
    "\n",
    "# Convert to spherical coordinates\n",
    "x_spherical = rho * smp.sin(phi) * smp.cos(theta)\n",
    "y_spherical = rho * smp.sin(phi) * smp.sin(theta)\n",
    "z_spherical = rho * smp.cos(phi)\n",
    "\n",
    "div_F_spherical = div_F.subs({x: x_spherical, y: y_spherical, z: z_spherical})\n",
    "\n",
    "# Compute the triple integral over the volume D\n",
    "integrand = div_F_spherical * rho**2 * smp.sin(phi)\n",
    "flux = smp.integrate(integrand, (rho, 0, 1), (phi, 0, smp.pi/2), (theta, 0, smp.pi/2))\n",
    "\n",
    "flux"
   ]
  },
  {
   "cell_type": "markdown",
   "metadata": {},
   "source": [
    "# 19\n",
    "\n",
    "Use the divergence theorem to find the outward flux of F across the boundary of the region D:\n",
    "\n",
    "F = sqrt(x^2 + y^2 + z^2)(x(i) + y(j) + z(k))\n",
    "\n",
    "D: The region 3 =< x^2 + y^2 + z^2 =< 5\n",
    "\n",
    "Answer:\n",
    "\n",
    "The outward flux is 64pi"
   ]
  },
  {
   "cell_type": "code",
   "execution_count": 41,
   "metadata": {},
   "outputs": [
    {
     "name": "stdout",
     "output_type": "stream",
     "text": [
      "Total Flux: 201.06192982974687\n"
     ]
    }
   ],
   "source": [
    "# Numeric\n",
    "\n",
    "from scipy.integrate import nquad\n",
    "\n",
    "# Define the vector field and normal vectors\n",
    "def F(x, y, z):\n",
    "    magnitude = np.sqrt(x**2 + y**2 + z**2)\n",
    "    return magnitude * np.array([x, y, z])\n",
    "\n",
    "def normal_outer(x, y, z):\n",
    "    magnitude = np.sqrt(x**2 + y**2 + z**2)\n",
    "    return np.array([x, y, z]) / magnitude\n",
    "\n",
    "def normal_inner(x, y, z):\n",
    "    return -normal_outer(x, y, z)\n",
    "\n",
    "# Parametrize the surfaces and compute the dot product\n",
    "def integrand_outer(theta, phi):\n",
    "    rho = np.sqrt(5)\n",
    "    x = rho * np.sin(phi) * np.cos(theta)\n",
    "    y = rho * np.sin(phi) * np.sin(theta)\n",
    "    z = rho * np.cos(phi)\n",
    "    return np.dot(F(x, y, z), normal_outer(x, y, z)) * rho**2 * np.sin(phi)\n",
    "\n",
    "def integrand_inner(theta, phi):\n",
    "    rho = np.sqrt(3)\n",
    "    x = rho * np.sin(phi) * np.cos(theta)\n",
    "    y = rho * np.sin(phi) * np.sin(theta)\n",
    "    z = rho * np.cos(phi)\n",
    "    return np.dot(F(x, y, z), normal_inner(x, y, z)) * rho**2 * np.sin(phi)\n",
    "\n",
    "# Integrate over the surfaces\n",
    "flux_outer, _ = nquad(integrand_outer, [[0, 2*np.pi], [0, np.pi]])\n",
    "flux_inner, _ = nquad(integrand_inner, [[0, 2*np.pi], [0, np.pi]])\n",
    "total_flux = flux_outer + flux_inner\n",
    "\n",
    "# Print the result\n",
    "print(f\"Total Flux: {total_flux}\")"
   ]
  },
  {
   "cell_type": "code",
   "execution_count": null,
   "metadata": {},
   "outputs": [],
   "source": []
  }
 ],
 "metadata": {
  "kernelspec": {
   "display_name": "Env1",
   "language": "python",
   "name": "python3"
  },
  "language_info": {
   "codemirror_mode": {
    "name": "ipython",
    "version": 3
   },
   "file_extension": ".py",
   "mimetype": "text/x-python",
   "name": "python",
   "nbconvert_exporter": "python",
   "pygments_lexer": "ipython3",
   "version": "3.10.10"
  },
  "orig_nbformat": 4
 },
 "nbformat": 4,
 "nbformat_minor": 2
}
