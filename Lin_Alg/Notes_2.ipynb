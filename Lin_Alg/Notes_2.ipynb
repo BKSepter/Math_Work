{
 "cells": [
  {
   "cell_type": "code",
   "execution_count": 135,
   "metadata": {},
   "outputs": [],
   "source": [
    "import sympy as smp\n",
    "from sympy import *\n",
    "import numpy as np\n",
    "from numpy import *\n",
    "import scipy as sp\n",
    "from scipy.integrate import solve_ivp\n",
    "from scipy.interpolate import interp1d\n",
    "from scipy.integrate import odeint\n",
    "from fractions import Fraction\n",
    "import matplotlib.pyplot as plt\n",
    "import scienceplots\n",
    "plt.style.use(['science', 'notebook', 'grid'])\n",
    "\n",
    "x, y, t, n, a, b, C, c, r, u, s, A = smp.symbols('x y t n a b C c r u s A')\n",
    "f, g, m = smp.symbols('f g m', cls=smp.Function)"
   ]
  },
  {
   "attachments": {},
   "cell_type": "markdown",
   "metadata": {},
   "source": [
    "Position Vector:\n",
    "\n",
    "[b1 - a1, b2 - a2, b3 - a3]\n",
    "\n",
    "Matgnitude = Pythagorean Theorem\n",
    "\n",
    "Direction of a Vector = \n",
    "\n",
    "tan(theta) = v2/v1\n",
    "\n",
    "or\n",
    "\n",
    "theta = tan^-1 (v2/v1)"
   ]
  },
  {
   "cell_type": "code",
   "execution_count": 2,
   "metadata": {},
   "outputs": [
    {
     "data": {
      "image/png": "[encoded data removed]",
      "text/plain": [
       "<Figure size 800x600 with 1 Axes>"
      ]
     },
     "metadata": {},
     "output_type": "display_data"
    }
   ],
   "source": [
    "# Postion Vector = [-3, 4]\n",
    "\n",
    "# Points\n",
    "A = [7, -3]\n",
    "B = [4, 1]\n",
    "\n",
    "# Create the vector v from A to B\n",
    "v = [B[0] - A[0], B[1] - A[1]]\n",
    "\n",
    "# Create the plot\n",
    "plt.figure()\n",
    "\n",
    "# Add the vector v = AB\n",
    "plt.quiver(*A, *v, angles='xy', scale_units='xy', scale=1, color='r')\n",
    "\n",
    "# Set the limits\n",
    "plt.xlim(0, 10)\n",
    "plt.ylim(-5, 5)\n",
    "\n",
    "# Add labels and title\n",
    "plt.xlabel('X')\n",
    "plt.ylabel('Y')\n",
    "plt.title('Vector v')\n",
    "\n",
    "# Add grid\n",
    "plt.grid()\n",
    "\n",
    "# Show the plot with the vector\n",
    "plt.show()"
   ]
  },
  {
   "cell_type": "code",
   "execution_count": 9,
   "metadata": {},
   "outputs": [
    {
     "name": "stdout",
     "output_type": "stream",
     "text": [
      "The arctan of 4/-3 is -0.9272952180016122 radians or -53.13010235415598 degrees.\n"
     ]
    }
   ],
   "source": [
    "# Calculate the inverse tangent\n",
    "rad = np.arctan(4/-3)\n",
    "\n",
    "# Convert to degrees\n",
    "deg = np.degrees(rad)\n",
    "\n",
    "print(f\"The arctan of 4/-3 is {rad} radians or {deg} degrees.\")"
   ]
  },
  {
   "attachments": {},
   "cell_type": "markdown",
   "metadata": {},
   "source": [
    "This angle is in the 4th quadrant, but vector v is in the 2nd quadrant. \n",
    "\n",
    "To find the direction of v, add 180 degrees. \n",
    "\n",
    "Ans = *** 126.9 degrees ***"
   ]
  },
  {
   "attachments": {},
   "cell_type": "markdown",
   "metadata": {},
   "source": [
    "Vector addition/subtraction/multiplication/division"
   ]
  },
  {
   "cell_type": "code",
   "execution_count": 12,
   "metadata": {},
   "outputs": [
    {
     "data": {
      "text/plain": [
       "array([[13,  2,  3]])"
      ]
     },
     "execution_count": 12,
     "metadata": {},
     "output_type": "execute_result"
    }
   ],
   "source": [
    "a = np.array([[-2, 5, 0]])\n",
    "b = np.array([[3, 4, 1]])\n",
    "c = np.array([[2, 4, -2, 1, 5, -3]])\n",
    "d = np.array([[-1, 3, 8, 0, 4, 6]])\n",
    "\n",
    "# a + b\n",
    "# c - d\n",
    "# 3*b - 2*a"
   ]
  },
  {
   "cell_type": "code",
   "execution_count": 19,
   "metadata": {},
   "outputs": [
    {
     "data": {
      "text/plain": [
       "array([[  7, -18]])"
      ]
     },
     "execution_count": 19,
     "metadata": {},
     "output_type": "execute_result"
    }
   ],
   "source": [
    "u = np.array([[2, 4]])\n",
    "v = np.array([[6, -9]])\n",
    "w = np.array([[-7, -3]])\n",
    "\n",
    "-3*u + v - w"
   ]
  },
  {
   "attachments": {},
   "cell_type": "markdown",
   "metadata": {},
   "source": [
    "Parallelogram Rule = The sum of two vectors is given by the diagonal of the parallelogram created by using the two vectors as adjacent sides\n",
    "\n",
    "||x|| = magnitude of x\n",
    "\n",
    "***||w|| = sqrt(3^2 + 2^2 + 36^2) = 7***\n",
    "\n",
    "Unit vector = 1/||x||\n",
    "\n",
    "***1/||w|| = (1/7)[3, -2, 6] = [(3/7), (-2/7), (6/7)]***"
   ]
  },
  {
   "attachments": {},
   "cell_type": "markdown",
   "metadata": {},
   "source": [
    "Unit Vector Notation = [i, j, k]\n",
    "\n",
    "Ex : \n",
    "\n",
    "[-2, 7] = -2i + 7j\n",
    "\n",
    "[3, 1, -4] = 3i + j - 4k"
   ]
  },
  {
   "attachments": {},
   "cell_type": "markdown",
   "metadata": {},
   "source": [
    "Unit Vector Example: \n",
    "\n",
    "u = [-2, 6]\n",
    "\n",
    "unit vector = -.32, .95"
   ]
  },
  {
   "attachments": {},
   "cell_type": "markdown",
   "metadata": {},
   "source": [
    "Dot Products"
   ]
  },
  {
   "attachments": {},
   "cell_type": "markdown",
   "metadata": {},
   "source": [
    "# Vector Projections / Scalar Projections / Etc"
   ]
  },
  {
   "cell_type": "code",
   "execution_count": 63,
   "metadata": {},
   "outputs": [
    {
     "data": {
      "text/plain": [
       "array([[ 3, 35]])"
      ]
     },
     "execution_count": 63,
     "metadata": {},
     "output_type": "execute_result"
    }
   ],
   "source": [
    "# Dot Product\n",
    "\n",
    "a = np.array([[-3, 7]])\n",
    "b = np.array([[-1, 5]])\n",
    "\n",
    "np.multiply(a, b)\n",
    "\n",
    "# Ans = 38"
   ]
  },
  {
   "cell_type": "code",
   "execution_count": 24,
   "metadata": {},
   "outputs": [
    {
     "data": {
      "text/plain": [
       "array([[-18,   0,   1,   0,   8]])"
      ]
     },
     "execution_count": 24,
     "metadata": {},
     "output_type": "execute_result"
    }
   ],
   "source": [
    "# Dot Product\n",
    "\n",
    "a = np.array([[2, 0, 1, 0, -4]])\n",
    "b = np.array([[-9, 4, 1, 0, -2]])\n",
    "\n",
    "np.multiply(a, b)\n",
    "\n",
    "# Ans = -9"
   ]
  },
  {
   "cell_type": "code",
   "execution_count": 29,
   "metadata": {},
   "outputs": [
    {
     "data": {
      "text/plain": [
       "array([[ 45, -21]])"
      ]
     },
     "execution_count": 29,
     "metadata": {},
     "output_type": "execute_result"
    }
   ],
   "source": [
    "# Dot Product\n",
    "\n",
    "x = np.array([[5, 3]])\n",
    "y = np.array([[9, -7]])\n",
    "\n",
    "np.multiply(x, y)\n",
    "\n",
    "# Ans = 24"
   ]
  },
  {
   "cell_type": "code",
   "execution_count": 31,
   "metadata": {},
   "outputs": [
    {
     "data": {
      "text/plain": [
       "array([[21,  8, 15]])"
      ]
     },
     "execution_count": 31,
     "metadata": {},
     "output_type": "execute_result"
    }
   ],
   "source": [
    "# Dot Product\n",
    "\n",
    "a = np.array([[-7, -8, 5]])\n",
    "b = np.array([[-3, -1, 3]])\n",
    "\n",
    "np.multiply(a, b)\n",
    "\n",
    "# Ans = 44"
   ]
  },
  {
   "cell_type": "code",
   "execution_count": 33,
   "metadata": {},
   "outputs": [
    {
     "data": {
      "text/plain": [
       "array([[-28,  -8,  12,   0]])"
      ]
     },
     "execution_count": 33,
     "metadata": {},
     "output_type": "execute_result"
    }
   ],
   "source": [
    "# Dot Product\n",
    "\n",
    "u = np.array([[-7, -1, -3, 0]])\n",
    "v = np.array([[4, 8, -4, 2]])\n",
    "\n",
    "np.multiply(u, v)\n",
    "\n",
    "# Ans = -24"
   ]
  },
  {
   "attachments": {},
   "cell_type": "markdown",
   "metadata": {},
   "source": [
    "Gemetric Interpretation of the Dot Product\n",
    "\n",
    "u * v = ||u||*||v|| cos(theta)\n",
    "\n",
    "or\n",
    "\n",
    "cos(theta) = (u * v) / (||u||*||v||)\n",
    "\n",
    "or\n",
    "\n",
    "theta = cos^-1 (u * v) / (||u||*||v||)"
   ]
  },
  {
   "cell_type": "code",
   "execution_count": 64,
   "metadata": {},
   "outputs": [
    {
     "data": {
      "text/plain": [
       "40.236358309273825"
      ]
     },
     "execution_count": 64,
     "metadata": {},
     "output_type": "execute_result"
    }
   ],
   "source": [
    "# Geometric Interpretation of Dot Product\n",
    "\n",
    "a = np.array([[2, 5]])\n",
    "b = np.array([[-1, 3]])\n",
    "\n",
    "np.multiply(a, b)\n",
    "\n",
    "# Dot Product = 13\n",
    "\n",
    "# ||a|| = sqrt(29)\n",
    "# ||b|| = sqrt(10)\n",
    "\n",
    "rad = np.arccos(13 / (np.sqrt(29)*(np.sqrt(10)))) # Answer in radians\n",
    "\n",
    "np.degrees(rad) # Answer in degrees"
   ]
  },
  {
   "cell_type": "code",
   "execution_count": 40,
   "metadata": {},
   "outputs": [
    {
     "data": {
      "text/plain": [
       "78.6546428196285"
      ]
     },
     "execution_count": 40,
     "metadata": {},
     "output_type": "execute_result"
    }
   ],
   "source": [
    "# Geometric Interpretation of Dot Product\n",
    "\n",
    "m = np.array([[0, -4, 1]])\n",
    "n = np.array([[6, -1, 1]])\n",
    "\n",
    "np.multiply(m, n)\n",
    "\n",
    "# Dot Product = 5\n",
    "\n",
    "# ||m|| = sqrt(17)\n",
    "# ||n|| = sqrt(38)\n",
    "\n",
    "rad = np.arccos(5 / (np.sqrt(17)*(np.sqrt(38)))) # Answer in radians\n",
    "\n",
    "np.degrees(rad) # Answer in degrees"
   ]
  },
  {
   "cell_type": "code",
   "execution_count": 43,
   "metadata": {},
   "outputs": [
    {
     "data": {
      "text/plain": [
       "25.057615418303023"
      ]
     },
     "execution_count": 43,
     "metadata": {},
     "output_type": "execute_result"
    }
   ],
   "source": [
    "# Geometric Interpretation of Dot Product\n",
    "\n",
    "f = np.array([[-4, 3]])\n",
    "g = np.array([[-8, 15]])\n",
    "\n",
    "np.multiply(f, g)\n",
    "\n",
    "# Dot Product = 77\n",
    "\n",
    "# ||f|| = 5\n",
    "# ||g|| = 17\n",
    "\n",
    "rad = np.arccos(77 / (5*17)) # Answer in radians\n",
    "\n",
    "np.degrees(rad) # Answer in degrees"
   ]
  },
  {
   "cell_type": "code",
   "execution_count": 48,
   "metadata": {},
   "outputs": [
    {
     "data": {
      "text/plain": [
       "82.2506336217016"
      ]
     },
     "execution_count": 48,
     "metadata": {},
     "output_type": "execute_result"
    }
   ],
   "source": [
    "# Geometric Interpretation of Dot Product\n",
    "\n",
    "a = np.array([[2, 0, -4]])\n",
    "b = np.array([[3, -1, 1]])\n",
    "\n",
    "np.multiply(a, b)\n",
    "\n",
    "# Dot Product = 2\n",
    "\n",
    "# ||a|| = sqrt(20)\n",
    "# ||b|| = sqrt(11)\n",
    "\n",
    "rad = np.arccos(2 / (np.sqrt(20)*(np.sqrt(11)))) # Answer in radians\n",
    "\n",
    "np.degrees(rad) # Answer in degrees"
   ]
  },
  {
   "attachments": {},
   "cell_type": "markdown",
   "metadata": {},
   "source": [
    "Orthogonal = Angle between two vectors = 90 degrees\n",
    "\n",
    "Two vectors are orthogonal if and only if the dot product of the vectors is zero"
   ]
  },
  {
   "cell_type": "code",
   "execution_count": 50,
   "metadata": {},
   "outputs": [
    {
     "data": {
      "text/plain": [
       "6.095861544595815"
      ]
     },
     "execution_count": 50,
     "metadata": {},
     "output_type": "execute_result"
    }
   ],
   "source": [
    "# Geometric Interpretation of Dot Product\n",
    "\n",
    "u = np.array([[5, 7]])\n",
    "v = np.array([[8, 9]])\n",
    "\n",
    "np.multiply(u, v)\n",
    "\n",
    "# Dot Product = 103\n",
    "\n",
    "# ||a|| = sqrt(74)\n",
    "# ||b|| = sqrt(145)\n",
    "\n",
    "rad = np.arccos(103 / (np.sqrt(74)*(np.sqrt(145)))) # Answer in radians\n",
    "\n",
    "np.degrees(rad) # Answer in degrees"
   ]
  },
  {
   "cell_type": "code",
   "execution_count": 52,
   "metadata": {},
   "outputs": [
    {
     "data": {
      "text/plain": [
       "124.55634944060688"
      ]
     },
     "execution_count": 52,
     "metadata": {},
     "output_type": "execute_result"
    }
   ],
   "source": [
    "# Geometric Interpretation of Dot Product\n",
    "\n",
    "u = np.array([[4, 9, -5]])\n",
    "v = np.array([[7, -9, 5]])\n",
    "\n",
    "np.multiply(u, v)\n",
    "\n",
    "# Dot Product = -78\n",
    "\n",
    "# ||a|| = sqrt(122)\n",
    "# ||b|| = sqrt(155)\n",
    "\n",
    "rad = np.arccos(-78 / (np.sqrt(122)*(np.sqrt(155)))) # Answer in radians\n",
    "\n",
    "np.degrees(rad) # Answer in degrees"
   ]
  },
  {
   "cell_type": "code",
   "execution_count": 55,
   "metadata": {},
   "outputs": [
    {
     "name": "stdout",
     "output_type": "stream",
     "text": [
      "The solution for 'a' is: [1]\n"
     ]
    }
   ],
   "source": [
    "# Solving for vectors to be orthogonal\n",
    "\n",
    "a = symbols('a')\n",
    "\n",
    "# Define the vectors\n",
    "u = np.array([-3, -1])\n",
    "v = np.array([a, -3])\n",
    "\n",
    "# Calculate the dot product and set up the equation\n",
    "dot_product = np.dot(u, v)\n",
    "equation = Eq(dot_product, 0)\n",
    "\n",
    "# Solve for a\n",
    "solution = solve(equation, a)\n",
    "\n",
    "print(f\"The solution for 'a' is: {solution}\")"
   ]
  },
  {
   "cell_type": "code",
   "execution_count": 56,
   "metadata": {},
   "outputs": [
    {
     "name": "stdout",
     "output_type": "stream",
     "text": [
      "The solution for 'a' is: [5]\n"
     ]
    }
   ],
   "source": [
    "# Solving for vectors to be orthogonal\n",
    "\n",
    "a = symbols('a')\n",
    "\n",
    "# Define the vectors\n",
    "u = np.array([5, -5, a])\n",
    "v = np.array([9, 6, -3])\n",
    "\n",
    "# Calculate the dot product and set up the equation\n",
    "dot_product = np.dot(u, v)\n",
    "equation = Eq(dot_product, 0)\n",
    "\n",
    "# Solve for a\n",
    "solution = solve(equation, a)\n",
    "\n",
    "print(f\"The solution for 'a' is: {solution}\")"
   ]
  },
  {
   "attachments": {},
   "cell_type": "markdown",
   "metadata": {},
   "source": [
    "Scalar Projection = Scalar that gives the length of the component of u in the direction of v\n",
    "\n",
    "Scalar Projection of vector u onto vector v = \n",
    "\n",
    "(comp_v)u = (u * v) / ||v||"
   ]
  },
  {
   "cell_type": "code",
   "execution_count": 58,
   "metadata": {},
   "outputs": [
    {
     "data": {
      "text/plain": [
       "2.0"
      ]
     },
     "execution_count": 58,
     "metadata": {},
     "output_type": "execute_result"
    }
   ],
   "source": [
    "# Scalar Projection of u onto v\n",
    "# (comp_v)u\n",
    "\n",
    "u = np.array([[-2, 1]])\n",
    "v = np.array([[-3, 0]])\n",
    "\n",
    "np.multiply(u, v)\n",
    "\n",
    "# Dot Product = 6\n",
    "# ||v|| = 3\n",
    "\n",
    "6/3"
   ]
  },
  {
   "cell_type": "code",
   "execution_count": 60,
   "metadata": {},
   "outputs": [
    {
     "data": {
      "text/plain": [
       "-1.6903085094570331"
      ]
     },
     "execution_count": 60,
     "metadata": {},
     "output_type": "execute_result"
    }
   ],
   "source": [
    "# Scalar Projection of a onto b\n",
    "# (comp_b)a\n",
    "\n",
    "a = np.array([[-2, 0, -4]])\n",
    "b = np.array([[-1, 5, 3]])\n",
    "\n",
    "np.multiply(a, b)\n",
    "\n",
    "# Dot Product = -10\n",
    "# ||b|| = sqrt(35)\n",
    "\n",
    "-10 / np.sqrt(35)"
   ]
  },
  {
   "cell_type": "code",
   "execution_count": 62,
   "metadata": {},
   "outputs": [
    {
     "data": {
      "text/plain": [
       "5.659799760886717"
      ]
     },
     "execution_count": 62,
     "metadata": {},
     "output_type": "execute_result"
    }
   ],
   "source": [
    "# Scalar Projection of m onto n\n",
    "# (comp_n)m\n",
    "\n",
    "m = np.array([[1, 6, -3, 0, 5]])\n",
    "n = np.array([[-2, 1, -4, 0, 3]])\n",
    "\n",
    "np.multiply(m, n)\n",
    "\n",
    "# Dot Product = 31\n",
    "# ||n|| = sqrt(30)\n",
    "\n",
    "31 / np.sqrt(30)"
   ]
  },
  {
   "attachments": {},
   "cell_type": "markdown",
   "metadata": {},
   "source": [
    "Scalar projection gives magnitude of a projected vector component\n",
    "\n",
    "Component vector formed from a projection is the Vector Projection\n",
    "\n",
    "Vector Projection of vector u onto vector v = (proj_v)u\n",
    "\n",
    "(proj_v)u = ((u * v) / ||v||^2) * v"
   ]
  },
  {
   "cell_type": "code",
   "execution_count": 80,
   "metadata": {},
   "outputs": [
    {
     "data": {
      "text/plain": [
       "array([[ 0.4, -0.2]])"
      ]
     },
     "execution_count": 80,
     "metadata": {},
     "output_type": "execute_result"
    }
   ],
   "source": [
    "# Vector Projection of u onto v\n",
    "# (proj_v)u\n",
    "\n",
    "u = np.array([[3, 5]])\n",
    "v = np.array([[2, -1]])\n",
    "\n",
    "np.multiply(u, v)\n",
    "\n",
    "# Dot Product = 1\n",
    "# ||v|| = sqrt(5)\n",
    "\n",
    "ans = (1/5) # Dot Product divided by ||v|| squared\n",
    "\n",
    "np.multiply(v, ans)"
   ]
  },
  {
   "cell_type": "code",
   "execution_count": 88,
   "metadata": {},
   "outputs": [
    {
     "data": {
      "text/plain": [
       "array([[-2. , -1.5,  0.5]])"
      ]
     },
     "execution_count": 88,
     "metadata": {},
     "output_type": "execute_result"
    }
   ],
   "source": [
    "# Vector Projection of p onto q\n",
    "# (proj_q)p\n",
    "\n",
    "p = np.array([[-0.5, -3, 2]])\n",
    "q = np.array([[4, 3, -1]])\n",
    "\n",
    "np.multiply(p, q)\n",
    "\n",
    "# Dot Product = -13\n",
    "# ||q|| = sqrt(26)\n",
    "\n",
    "ans = (-13 / np.sqrt(26)**2)\n",
    "\n",
    "np.multiply(q, ans)"
   ]
  },
  {
   "cell_type": "code",
   "execution_count": 90,
   "metadata": {},
   "outputs": [
    {
     "data": {
      "text/plain": [
       "array([[ 0.33333333,  1.66666667, -1.        ,  0.33333333,  0.        ]])"
      ]
     },
     "execution_count": 90,
     "metadata": {},
     "output_type": "execute_result"
    }
   ],
   "source": [
    "# Vector Projection of s onto t\n",
    "# (proj_t)s\n",
    "\n",
    "s = np.array([[7, 0, -1, 2, 4]])\n",
    "t = np.array([[1, 5, -3, 1, 0]])\n",
    "\n",
    "np.multiply(s, t)\n",
    "\n",
    "# Dot Product = 12\n",
    "# ||t|| = 6\n",
    "\n",
    "ans = (12 / 36)\n",
    "\n",
    "np.multiply(t, ans)"
   ]
  },
  {
   "cell_type": "code",
   "execution_count": 93,
   "metadata": {},
   "outputs": [
    {
     "data": {
      "text/plain": [
       "-6.490229342872016"
      ]
     },
     "execution_count": 93,
     "metadata": {},
     "output_type": "execute_result"
    }
   ],
   "source": [
    "# Scalar Projection of u onto v\n",
    "# (comp_v)u\n",
    "\n",
    "u = np.array([[-8, -2]])\n",
    "v = np.array([[7, 9]])\n",
    "\n",
    "np.multiply(u, v)\n",
    "\n",
    "# Dot Product = -74\n",
    "# ||v|| = sqrt(130)\n",
    "\n",
    "(-74 / np.sqrt(130))"
   ]
  },
  {
   "cell_type": "code",
   "execution_count": 95,
   "metadata": {},
   "outputs": [
    {
     "data": {
      "text/plain": [
       "-4.997560380435394"
      ]
     },
     "execution_count": 95,
     "metadata": {},
     "output_type": "execute_result"
    }
   ],
   "source": [
    "# Scalar Projection of u onto v\n",
    "# (comp_v)u\n",
    "\n",
    "u = np.array([[-8, 0]])\n",
    "v = np.array([[4, -5]])\n",
    "\n",
    "np.multiply(u, v)\n",
    "\n",
    "# Dot Product = -32\n",
    "# ||v|| = sqrt(41)\n",
    "\n",
    "(-32 / np.sqrt(41))"
   ]
  },
  {
   "cell_type": "code",
   "execution_count": 97,
   "metadata": {},
   "outputs": [
    {
     "data": {
      "text/plain": [
       "-10.771876964268266"
      ]
     },
     "execution_count": 97,
     "metadata": {},
     "output_type": "execute_result"
    }
   ],
   "source": [
    "# Scalar Projection of u onto v\n",
    "# (comp_v)u\n",
    "\n",
    "u = np.array([[2, 8, 9]])\n",
    "v = np.array([[1, -2, -5]])\n",
    "\n",
    "np.multiply(u, v)\n",
    "\n",
    "# Dot Product = -59\n",
    "# ||v|| = sqrt(30)\n",
    "\n",
    "(-59 / np.sqrt(30))"
   ]
  },
  {
   "cell_type": "code",
   "execution_count": 99,
   "metadata": {},
   "outputs": [
    {
     "data": {
      "text/plain": [
       "array([[-3.01724138,  1.29310345]])"
      ]
     },
     "execution_count": 99,
     "metadata": {},
     "output_type": "execute_result"
    }
   ],
   "source": [
    "# Vector Projection of u onto v\n",
    "# (proj_v)u\n",
    "\n",
    "u = np.array([[-7, -8]])\n",
    "v = np.array([[7, -3]])\n",
    "\n",
    "np.multiply(u, v)\n",
    "\n",
    "# Dot Product = -25\n",
    "# ||v|| = sqrt(58)\n",
    "\n",
    "ans = (-25 / np.sqrt(58)**2)\n",
    "\n",
    "np.multiply(v, ans)"
   ]
  },
  {
   "cell_type": "code",
   "execution_count": 102,
   "metadata": {},
   "outputs": [
    {
     "data": {
      "text/plain": [
       "array([[0.12121212, 0.21212121, 0.03030303]])"
      ]
     },
     "execution_count": 102,
     "metadata": {},
     "output_type": "execute_result"
    }
   ],
   "source": [
    "# Vector Projection of u onto v\n",
    "# (proj_v)u\n",
    "\n",
    "u = np.array([[2, 0, -6]])\n",
    "v = np.array([[-4, -7, -1]])\n",
    "\n",
    "np.multiply(u, v)\n",
    "\n",
    "# Dot Product = -2\n",
    "# ||v|| = sqrt(66)\n",
    "\n",
    "ans = (-2 / np.sqrt(66)**2)\n",
    "\n",
    "np.multiply(v, ans)"
   ]
  },
  {
   "attachments": {},
   "cell_type": "markdown",
   "metadata": {},
   "source": [
    "Cross Product = operations between two vectors in (Real Numbers)^3 that produces a vector orthogonal to the vectors in the product"
   ]
  },
  {
   "cell_type": "code",
   "execution_count": 103,
   "metadata": {},
   "outputs": [
    {
     "data": {
      "text/plain": [
       "array([[-22,   2,   7]])"
      ]
     },
     "execution_count": 103,
     "metadata": {},
     "output_type": "execute_result"
    }
   ],
   "source": [
    "# Cross Product\n",
    "\n",
    "x = np.array([[2, 1, 6]])\n",
    "y = np.array([[3, 5, 8]])\n",
    "\n",
    "np.cross(x, y)"
   ]
  },
  {
   "cell_type": "code",
   "execution_count": 104,
   "metadata": {},
   "outputs": [
    {
     "data": {
      "text/plain": [
       "array([[  5, -12,  -4]])"
      ]
     },
     "execution_count": 104,
     "metadata": {},
     "output_type": "execute_result"
    }
   ],
   "source": [
    "# Cross Product\n",
    "\n",
    "x = np.array([[0, 1, -3]])\n",
    "y = np.array([[4, 0, 5]])\n",
    "\n",
    "np.cross(x, y)"
   ]
  },
  {
   "cell_type": "code",
   "execution_count": 106,
   "metadata": {},
   "outputs": [
    {
     "data": {
      "text/plain": [
       "array([[-5, 12,  4]])"
      ]
     },
     "execution_count": 106,
     "metadata": {},
     "output_type": "execute_result"
    }
   ],
   "source": [
    "# Cross Product\n",
    "\n",
    "x = np.array([[4, 0, 5]])\n",
    "y = np.array([[0, 1, -3]])\n",
    "\n",
    "np.cross(x, y)"
   ]
  },
  {
   "attachments": {},
   "cell_type": "markdown",
   "metadata": {},
   "source": [
    "Cross Product of two vectors is another vector that is orthogonal to each vector in the product.\n",
    "\n",
    "Let (theta) be the angle between vectors a and b\n",
    "\n",
    "For any 0 =< theta =< pi, the cross product = \n",
    "\n",
    "a * b = ||a|| * ||b|| sin(theta) n [where n = unit vector perpendicular to the plane containing a and b]"
   ]
  },
  {
   "cell_type": "code",
   "execution_count": 110,
   "metadata": {},
   "outputs": [
    {
     "data": {
      "text/plain": [
       "array([[-1, -7, 28]])"
      ]
     },
     "execution_count": 110,
     "metadata": {},
     "output_type": "execute_result"
    }
   ],
   "source": [
    "u = np.array([[-7, 1, 0]])\n",
    "v = np.array([[7, -5, -1]])\n",
    "\n",
    "np.cross(u, v)\n",
    "\n",
    "# To find area, find the magnitude of the cross product\n",
    "# 1^2 + 7^2 + 28^2 = 834\n",
    "# sqrt(834) = 28.897..."
   ]
  },
  {
   "attachments": {},
   "cell_type": "markdown",
   "metadata": {},
   "source": [
    "Triangle formed by points:\n",
    "\n",
    "A = np.array([[6, 9, -8]])\n",
    "\n",
    "B = np.array([[0, -9, -1]])\n",
    "\n",
    "C = np.array([[-8, -9, 2]])"
   ]
  },
  {
   "cell_type": "code",
   "execution_count": 116,
   "metadata": {},
   "outputs": [
    {
     "data": {
      "text/plain": [
       "array([[ -54,  -38, -144]])"
      ]
     },
     "execution_count": 116,
     "metadata": {},
     "output_type": "execute_result"
    }
   ],
   "source": [
    "A = np.array([[6, 9, -8]])\n",
    "B = np.array([[0, -9, -1]])\n",
    "C = np.array([[-8, -9, 2]])\n",
    "\n",
    "AB = B-A # Position Vector AB\n",
    "AC = C-A # Position Vector AC\n",
    "np.cross(AB, AC) # AB * AC\n",
    "# Cross Product magnitude for area:\n",
    "# sqrt(54^2 + 38^2 + 144^2) = 158.417...\n",
    "\n",
    "# Area of the triangle = Area / 2 = 79.2085..."
   ]
  },
  {
   "attachments": {},
   "cell_type": "markdown",
   "metadata": {},
   "source": [
    "Scalar Triple Product\n",
    "\n",
    "For vectors a, b, c, the scalar triple product is a * (b x c)\n",
    "\n",
    "Used to find the volume of a parallelepiped and to find the equation of a plane given three points\n",
    "\n",
    "Parallelepiped = polyhedron formed by six parallelograms\n",
    "\n",
    "Coplanar = Let a, b, c be vectors in (Real Nums)^3\n",
    "\n",
    "a * (b x c) = 0 if and only if a, b, and c are coplanar"
   ]
  },
  {
   "cell_type": "code",
   "execution_count": 119,
   "metadata": {},
   "outputs": [
    {
     "data": {
      "text/plain": [
       "array([[45, 10, -8]])"
      ]
     },
     "execution_count": 119,
     "metadata": {},
     "output_type": "execute_result"
    }
   ],
   "source": [
    "u = np.array([[3, 2, 1]])\n",
    "v = np.array([[-1, 3, 0]])\n",
    "w = np.array([[2, 2, 5]])\n",
    "\n",
    "ans = np.cross(v, w)\n",
    "\n",
    "# Volume\n",
    "np.multiply(u, ans)\n",
    "# Volume = 47"
   ]
  },
  {
   "cell_type": "code",
   "execution_count": 120,
   "metadata": {},
   "outputs": [
    {
     "data": {
      "text/plain": [
       "array([[-36,  27, -20]])"
      ]
     },
     "execution_count": 120,
     "metadata": {},
     "output_type": "execute_result"
    }
   ],
   "source": [
    "# Cross Product\n",
    "\n",
    "u = np.array([[-1, -8, -9]])\n",
    "v = np.array([[-3, -4, 0]])\n",
    "\n",
    "np.cross(u, v)"
   ]
  },
  {
   "cell_type": "code",
   "execution_count": 121,
   "metadata": {},
   "outputs": [
    {
     "data": {
      "text/plain": [
       "array([[-32,  12,  76]])"
      ]
     },
     "execution_count": 121,
     "metadata": {},
     "output_type": "execute_result"
    }
   ],
   "source": [
    "# Area of the Parallelogram\n",
    "\n",
    "u = np.array([[-3, -8, 0]])\n",
    "v = np.array([[8, -4, 4]])\n",
    "\n",
    "np.cross(u, v)\n",
    "\n",
    "# To find area, find the magnitude of the cross product\n",
    "# 32^2 + 12^2 + 76^2 = 6944\n",
    "# sqrt(834) = 83.33..."
   ]
  },
  {
   "cell_type": "code",
   "execution_count": 124,
   "metadata": {},
   "outputs": [
    {
     "data": {
      "text/plain": [
       "array([[-66, 160,   0]])"
      ]
     },
     "execution_count": 124,
     "metadata": {},
     "output_type": "execute_result"
    }
   ],
   "source": [
    "# Scalar Triple Product u * (v x w)\n",
    "\n",
    "u = np.array([[3, -2, 0]])\n",
    "v = np.array([[-8, 6, 8]])\n",
    "w = np.array([[-9, 2, -1]])\n",
    "\n",
    "ans = np.cross(v, w)\n",
    "\n",
    "np.multiply(u, ans)\n",
    "# Answer = 94"
   ]
  },
  {
   "cell_type": "code",
   "execution_count": 127,
   "metadata": {},
   "outputs": [
    {
     "data": {
      "text/plain": [
       "array([[ 90,   0, -96]])"
      ]
     },
     "execution_count": 127,
     "metadata": {},
     "output_type": "execute_result"
    }
   ],
   "source": [
    "# Volume of the parallelepiped spanned by the vectors below:\n",
    "\n",
    "u = np.array([[6, 0, 8]])\n",
    "v = np.array([[-4, 0, -5]])\n",
    "w = np.array([[4, 3, 5]])\n",
    "\n",
    "ans = np.cross(v, w)\n",
    "\n",
    "# Volume\n",
    "np.multiply(u, ans)\n",
    "# Answer = -6 BUT... Take the absolute value for volume\n",
    "# Answer = 6"
   ]
  },
  {
   "cell_type": "code",
   "execution_count": 128,
   "metadata": {},
   "outputs": [
    {
     "data": {
      "text/plain": [
       "array([[ 42, -32,  96]])"
      ]
     },
     "execution_count": 128,
     "metadata": {},
     "output_type": "execute_result"
    }
   ],
   "source": [
    "# Volume of the parallelepiped spanned by the vectors below:\n",
    "\n",
    "u = np.array([[7, -2, -8]])\n",
    "v = np.array([[-6, 6, 5]])\n",
    "w = np.array([[2, 0, 1]])\n",
    "\n",
    "ans = np.cross(v, w)\n",
    "\n",
    "# Volume\n",
    "np.multiply(u, ans)\n",
    "# Answer = 106"
   ]
  },
  {
   "attachments": {},
   "cell_type": "markdown",
   "metadata": {},
   "source": [
    "# Determinants\n",
    "\n",
    "The determinant of a square matrix A, denoted by detA, det(A), det[A], or |A|, is a numerical quantity calculated using the entries of the matrix\n",
    "\n",
    "If determinant = 0, then the system does not have a unique solution\n",
    "\n",
    "Determinant of 1 x 1 matrix A = [a_11] is defined to be a_11\n",
    "\n",
    "Determinant of 2 x 2 matrix is found using formula:\n",
    "\n",
    "det(A) = det ([[a, b], [c, d]]) = |([[a, b], [c, d]])| = ad - bc"
   ]
  },
  {
   "attachments": {},
   "cell_type": "markdown",
   "metadata": {},
   "source": [
    "Example:\n",
    "\n",
    "A = np.array([[2, 5], [3, 1]])\n",
    "\n",
    "C = np.array([[-4, 10], [-6, 7]])\n",
    "\n",
    "Solution = \n",
    "\n",
    "det(A) = |A| = 2(1) - 5(3) = -13\n",
    "\n",
    "det(C) = |C| = -4(7) - 10 (-6) = 32"
   ]
  },
  {
   "cell_type": "code",
   "execution_count": 140,
   "metadata": {},
   "outputs": [
    {
     "data": {
      "text/plain": [
       "-13.0"
      ]
     },
     "execution_count": 140,
     "metadata": {},
     "output_type": "execute_result"
    }
   ],
   "source": [
    "# Determinant\n",
    "\n",
    "A = np.array([[2, 5], [3, 1]])\n",
    "\n",
    "np.linalg.det(A)"
   ]
  },
  {
   "cell_type": "code",
   "execution_count": 139,
   "metadata": {},
   "outputs": [
    {
     "data": {
      "text/plain": [
       "32.0"
      ]
     },
     "execution_count": 139,
     "metadata": {},
     "output_type": "execute_result"
    }
   ],
   "source": [
    "# Determinant\n",
    "\n",
    "C = np.array([[-4, 10], [-6, 7]])\n",
    "\n",
    "np.linalg.det(C)"
   ]
  },
  {
   "cell_type": "code",
   "execution_count": 138,
   "metadata": {},
   "outputs": [
    {
     "data": {
      "text/plain": [
       "0.0"
      ]
     },
     "execution_count": 138,
     "metadata": {},
     "output_type": "execute_result"
    }
   ],
   "source": [
    "# Determinant\n",
    "\n",
    "X = np.array([[3, 5], [6, 10]])\n",
    "\n",
    "np.linalg.det(X)"
   ]
  },
  {
   "cell_type": "code",
   "execution_count": 141,
   "metadata": {},
   "outputs": [
    {
     "data": {
      "text/plain": [
       "3.999999999999999"
      ]
     },
     "execution_count": 141,
     "metadata": {},
     "output_type": "execute_result"
    }
   ],
   "source": [
    "# Determinant\n",
    "\n",
    "Y = np.array([[-2, 4], [3, -8]])\n",
    "\n",
    "np.linalg.det(Y) # ???????"
   ]
  },
  {
   "cell_type": "code",
   "execution_count": 142,
   "metadata": {},
   "outputs": [
    {
     "data": {
      "text/plain": [
       "54.00000000000001"
      ]
     },
     "execution_count": 142,
     "metadata": {},
     "output_type": "execute_result"
    }
   ],
   "source": [
    "# Determinant\n",
    "\n",
    "X = np.array([[6, 8], [0, 9]])\n",
    "\n",
    "np.linalg.det(X)"
   ]
  },
  {
   "cell_type": "code",
   "execution_count": 143,
   "metadata": {},
   "outputs": [
    {
     "data": {
      "text/plain": [
       "15.0"
      ]
     },
     "execution_count": 143,
     "metadata": {},
     "output_type": "execute_result"
    }
   ],
   "source": [
    "# Determinant\n",
    "\n",
    "X = np.array([[3, 0], [1, 5]])\n",
    "\n",
    "np.linalg.det(X)"
   ]
  },
  {
   "cell_type": "code",
   "execution_count": 144,
   "metadata": {},
   "outputs": [
    {
     "data": {
      "text/plain": [
       "-105.99999999999997"
      ]
     },
     "execution_count": 144,
     "metadata": {},
     "output_type": "execute_result"
    }
   ],
   "source": [
    "# Determinant\n",
    "\n",
    "X = np.array([[3, 0, 1], [2, 7, 5], [4, 6, 0]])\n",
    "\n",
    "np.linalg.det(X)"
   ]
  },
  {
   "cell_type": "code",
   "execution_count": 145,
   "metadata": {},
   "outputs": [
    {
     "data": {
      "text/plain": [
       "4.000000000000001"
      ]
     },
     "execution_count": 145,
     "metadata": {},
     "output_type": "execute_result"
    }
   ],
   "source": [
    "# Determinant\n",
    "\n",
    "X = np.array([[-1, 2, 0], [0, 3, 1], [-3, 4, -2]])\n",
    "\n",
    "np.linalg.det(X)"
   ]
  },
  {
   "cell_type": "code",
   "execution_count": 146,
   "metadata": {},
   "outputs": [
    {
     "data": {
      "text/plain": [
       "-457.9999999999998"
      ]
     },
     "execution_count": 146,
     "metadata": {},
     "output_type": "execute_result"
    }
   ],
   "source": [
    "# Determinant\n",
    "\n",
    "X = np.array([[6, 11, 9], [2, 12, 5], [8, 7, 1]])\n",
    "\n",
    "np.linalg.det(X)"
   ]
  },
  {
   "cell_type": "code",
   "execution_count": 147,
   "metadata": {},
   "outputs": [
    {
     "data": {
      "text/plain": [
       "-312.00000000000006"
      ]
     },
     "execution_count": 147,
     "metadata": {},
     "output_type": "execute_result"
    }
   ],
   "source": [
    "# Determinant\n",
    "\n",
    "X = np.array([[-9, -3, 6], [-5, 1, 4], [8, 0, 7]])\n",
    "\n",
    "np.linalg.det(X)"
   ]
  },
  {
   "attachments": {},
   "cell_type": "markdown",
   "metadata": {},
   "source": [
    "The points (x1, y1), (x2, y2), and (x3, y3) are collinear if and only if the determinant of the 3 x 3 matrix\n",
    "\n",
    "np.array([[x1, y1, 1], [x2, y2, 1], [x3, y3, 1]]) is 0"
   ]
  },
  {
   "cell_type": "code",
   "execution_count": 149,
   "metadata": {},
   "outputs": [
    {
     "data": {
      "text/plain": [
       "0.0"
      ]
     },
     "execution_count": 149,
     "metadata": {},
     "output_type": "execute_result"
    }
   ],
   "source": [
    "# Consider the points (-1, 3), (-2, 1), and (1, 7)\n",
    "\n",
    "A = np.array([[-1, 3, 1], [-2, 1, 1], [1, 7, 1]])\n",
    "\n",
    "np.linalg.det(A) # Collinear"
   ]
  },
  {
   "cell_type": "code",
   "execution_count": 151,
   "metadata": {},
   "outputs": [
    {
     "data": {
      "text/plain": [
       "-3.999999999999999"
      ]
     },
     "execution_count": 151,
     "metadata": {},
     "output_type": "execute_result"
    }
   ],
   "source": [
    "# Consider the points (0, 3), (-3, -4), and (-1, 2)\n",
    "\n",
    "A = np.array([[0, 3, 1], [-3, -4, 1], [-1, 2, 1]])\n",
    "\n",
    "np.linalg.det(A) # Not Collinear"
   ]
  },
  {
   "cell_type": "code",
   "execution_count": 152,
   "metadata": {},
   "outputs": [
    {
     "name": "stdout",
     "output_type": "stream",
     "text": [
      "The equation of the line is y = -3.0x + 6.0\n"
     ]
    }
   ],
   "source": [
    "# PART I\n",
    "# Find the matrix and the line equation with: (-1, 9) and (0, 6)\n",
    "\n",
    "# Points\n",
    "x1, y1 = -1, 9\n",
    "x2, y2 = 0, 6\n",
    "\n",
    "# Calculate the slope\n",
    "m = (y2 - y1) / (x2 - x1)\n",
    "\n",
    "# Calculate the y-intercept\n",
    "b = y2 - m*x2\n",
    "\n",
    "print(f\"The equation of the line is y = {m}x + {b}\")"
   ]
  },
  {
   "cell_type": "code",
   "execution_count": 166,
   "metadata": {},
   "outputs": [
    {
     "data": {
      "text/plain": [
       "array([['x', 'y', '1'],\n",
       "       ['-1', '9', '1'],\n",
       "       ['0', '6', '1']], dtype='<U21')"
      ]
     },
     "execution_count": 166,
     "metadata": {},
     "output_type": "execute_result"
    }
   ],
   "source": [
    "# PART II\n",
    "# Find the matrix and the line equation with: (-1, 9) and (0, 6)\n",
    "\n",
    "def get_matrix(point1, point2):\n",
    "    # Unpack the points\n",
    "    x1, y1 = point1\n",
    "    x2, y2 = point2\n",
    "\n",
    "    # Use the symbolic variables x and y for the first row\n",
    "    matrix = np.array([\n",
    "        [\"x\", \"y\", 1],\n",
    "        [x1, y1, 1],\n",
    "        [x2, y2, 1]\n",
    "    ])\n",
    "    return matrix\n",
    "\n",
    "# Define the points\n",
    "point1 = (-1, 9)\n",
    "point2 = (0, 6)\n",
    "\n",
    "# Get the matrix\n",
    "matrix = get_matrix(point1, point2)\n",
    "\n",
    "matrix"
   ]
  },
  {
   "cell_type": "code",
   "execution_count": 164,
   "metadata": {},
   "outputs": [
    {
     "name": "stdout",
     "output_type": "stream",
     "text": [
      "The equation of the line is y = 2.0x + 4.0\n"
     ]
    }
   ],
   "source": [
    "# PART I\n",
    "# Find the matrix and the line equation with: (0, 4) and (-3, -2)\n",
    "\n",
    "# Points\n",
    "x1, y1 = 0, 4\n",
    "x2, y2 = -3, -2\n",
    "\n",
    "# Calculate the slope\n",
    "m = (y2 - y1) / (x2 - x1)\n",
    "\n",
    "# Calculate the y-intercept\n",
    "b = y2 - m*x2\n",
    "\n",
    "print(f\"The equation of the line is y = {m}x + {b}\")"
   ]
  },
  {
   "cell_type": "code",
   "execution_count": 167,
   "metadata": {},
   "outputs": [
    {
     "data": {
      "text/plain": [
       "array([['x', 'y', '1'],\n",
       "       ['0', '4', '1'],\n",
       "       ['-3', '-2', '1']], dtype='<U21')"
      ]
     },
     "execution_count": 167,
     "metadata": {},
     "output_type": "execute_result"
    }
   ],
   "source": [
    "# PART II\n",
    "# Find the matrix and the line equation with: (0, 4) and (-3, -2)\n",
    "\n",
    "def get_matrix(point1, point2):\n",
    "    # Unpack the points\n",
    "    x1, y1 = point1\n",
    "    x2, y2 = point2\n",
    "\n",
    "    # Use the symbolic variables x and y for the first row\n",
    "    matrix = np.array([\n",
    "        [\"x\", \"y\", 1],\n",
    "        [x1, y1, 1],\n",
    "        [x2, y2, 1]\n",
    "    ])\n",
    "    return matrix\n",
    "\n",
    "# Define the points\n",
    "point1 = (0, 4)\n",
    "point2 = (-3, -2)\n",
    "\n",
    "# Get the matrix\n",
    "matrix = get_matrix(point1, point2)\n",
    "\n",
    "matrix"
   ]
  },
  {
   "attachments": {},
   "cell_type": "markdown",
   "metadata": {},
   "source": [
    "# Minor and Cofactor of a Matrix\n",
    "\n",
    "Given a square matrix A, the minor of a matrix entry a_ij, denoted M_ij, is the determinant of the matrix formed by omitting the i-th row of the matrix and the j-th column from the matrix. \n",
    "\n",
    "The cofactor of a matrix entry a_ij, denoted C_ij, is given by the value C_ij = (-1)^(i+j) M_ij\n",
    "\n",
    "Minors and cofactors can be used to find a determinant for any square matrix"
   ]
  },
  {
   "attachments": {},
   "cell_type": "markdown",
   "metadata": {},
   "source": [
    "Find the indicated minor or cofactor:\n",
    "\n",
    "np.array([[1, 3, -1], [0, 2, 1], [0, -3, 5]])\n",
    "\n",
    "np.array(\n",
    "    [\n",
    "        \n",
    "        [1, 3, -1],\n",
    "\n",
    "        [0, 2, 1], \n",
    "        \n",
    "        [0, -3, 5]\n",
    "    ]\n",
    ")\n",
    "\n",
    "M_13 = Row 1 and Column 3 are ommitted and the determinant of the resulting submatrix is found.\n",
    "\n",
    "C_32 = Row 3 and Column 2 are omitted and the determinant of the resulting submatrix is found. The determinant is multiplied by the factor (-1)^(3+2)"
   ]
  },
  {
   "cell_type": "code",
   "execution_count": 170,
   "metadata": {},
   "outputs": [
    {
     "data": {
      "text/plain": [
       "0.0"
      ]
     },
     "execution_count": 170,
     "metadata": {},
     "output_type": "execute_result"
    }
   ],
   "source": [
    "# M_13\n",
    "\n",
    "M_13 = np.array([[0, 2], [0, -3]])\n",
    "\n",
    "np.linalg.det(M_13)"
   ]
  },
  {
   "cell_type": "code",
   "execution_count": 173,
   "metadata": {},
   "outputs": [
    {
     "data": {
      "text/plain": [
       "-1.0"
      ]
     },
     "execution_count": 173,
     "metadata": {},
     "output_type": "execute_result"
    }
   ],
   "source": [
    "# C_32\n",
    "\n",
    "C_32 = np.array([[1, -1], [0, 1]])\n",
    "\n",
    "ans = np.linalg.det(C_32)\n",
    "\n",
    "# Determinant is multiplied by the factor (-1)^(3+2)\n",
    "(-1**5)*ans"
   ]
  },
  {
   "cell_type": "code",
   "execution_count": 174,
   "metadata": {},
   "outputs": [
    {
     "data": {
      "text/plain": [
       "29.99999999999999"
      ]
     },
     "execution_count": 174,
     "metadata": {},
     "output_type": "execute_result"
    }
   ],
   "source": [
    "# Determinant\n",
    "\n",
    "A = np.array([[4, -2], [3, 6]])\n",
    "\n",
    "np.linalg.det(A)"
   ]
  },
  {
   "cell_type": "code",
   "execution_count": 175,
   "metadata": {},
   "outputs": [
    {
     "data": {
      "text/plain": [
       "20.99999999999999"
      ]
     },
     "execution_count": 175,
     "metadata": {},
     "output_type": "execute_result"
    }
   ],
   "source": [
    "# Determinant\n",
    "\n",
    "B = np.array([[2, -1, 4], [1, 0, -2], [4, 2, -3]])\n",
    "\n",
    "np.linalg.det(B)"
   ]
  },
  {
   "cell_type": "code",
   "execution_count": 176,
   "metadata": {},
   "outputs": [
    {
     "data": {
      "text/plain": [
       "0.0"
      ]
     },
     "execution_count": 176,
     "metadata": {},
     "output_type": "execute_result"
    }
   ],
   "source": [
    "# Determinant\n",
    "\n",
    "D = np.array([[4, 3, -1, 8], [6, 1, 7, 5], [0, 0, 0, 0], [2, 0, 5, -5]])\n",
    "\n",
    "np.linalg.det(D)"
   ]
  },
  {
   "cell_type": "code",
   "execution_count": 181,
   "metadata": {},
   "outputs": [
    {
     "data": {
      "text/plain": [
       "-9150.000000000007"
      ]
     },
     "execution_count": 181,
     "metadata": {},
     "output_type": "execute_result"
    }
   ],
   "source": [
    "# Determinant\n",
    "\n",
    "a = np.array([[0, -4, 12, 7], [0, -7, 11, -6], [10, 5, 3, 0], [0, 2, 9, 1]])\n",
    "np.linalg.det(a)"
   ]
  },
  {
   "cell_type": "code",
   "execution_count": 184,
   "metadata": {},
   "outputs": [
    {
     "data": {
      "text/plain": [
       "47.999999999999986"
      ]
     },
     "execution_count": 184,
     "metadata": {},
     "output_type": "execute_result"
    }
   ],
   "source": [
    "# Determinant\n",
    "\n",
    "b = np.array([[8, 6, -5, 7, 3], [0, 1, 3, 6, 2], [0, 0, -3, 5, 10], [0, 0, 0, -1, 6], [0, 0, 0, 0, 2]])\n",
    "np.linalg.det(b)"
   ]
  },
  {
   "cell_type": "code",
   "execution_count": 186,
   "metadata": {},
   "outputs": [
    {
     "data": {
      "text/plain": [
       "-863.9999999999997"
      ]
     },
     "execution_count": 186,
     "metadata": {},
     "output_type": "execute_result"
    }
   ],
   "source": [
    "# Determinant\n",
    "\n",
    "c = np.array([[12, 0, 0, 0], [1, 4, 0, 0], [9, -4, -9, 0], [10, 5, -7, 2]])\n",
    "\n",
    "np.linalg.det(c)"
   ]
  },
  {
   "cell_type": "code",
   "execution_count": 209,
   "metadata": {},
   "outputs": [
    {
     "name": "stderr",
     "output_type": "stream",
     "text": [
      "/tmp/ipykernel_96685/2611591398.py:5: RuntimeWarning: divide by zero encountered in scalar power\n",
      "  np.linalg.det(A)**-1\n"
     ]
    },
    {
     "data": {
      "text/plain": [
       "inf"
      ]
     },
     "execution_count": 209,
     "metadata": {},
     "output_type": "execute_result"
    }
   ],
   "source": [
    "# DNE\n",
    "\n",
    "A = np.array([[0, 1, 3], [0, 0, 5], [0, 0, 1]])\n",
    "\n",
    "np.linalg.det(A)**-1"
   ]
  },
  {
   "cell_type": "code",
   "execution_count": 217,
   "metadata": {},
   "outputs": [
    {
     "data": {
      "text/plain": [
       "0.0"
      ]
     },
     "execution_count": 217,
     "metadata": {},
     "output_type": "execute_result"
    }
   ],
   "source": [
    "# Determinants and Invertability\n",
    "\n",
    "A = np.array([[-4, 11, 8, -10], [0, 0, 10, 2], [0, 0, -2, -6], [0, 0, 0, -5]])\n",
    "\n",
    "np.linalg.det(A)"
   ]
  },
  {
   "attachments": {},
   "cell_type": "markdown",
   "metadata": {},
   "source": [
    "# Cramer's Rule"
   ]
  },
  {
   "attachments": {},
   "cell_type": "markdown",
   "metadata": {},
   "source": [
    "x1 + 2x2 = -11\n",
    "\n",
    "-2x1 + x2 = -13"
   ]
  },
  {
   "cell_type": "code",
   "execution_count": 224,
   "metadata": {},
   "outputs": [
    {
     "data": {
      "text/plain": [
       "5.000000000000001"
      ]
     },
     "execution_count": 224,
     "metadata": {},
     "output_type": "execute_result"
    }
   ],
   "source": [
    "# det(A)\n",
    "\n",
    "detA = np.array([[1, 2], [-2, 1]])\n",
    "\n",
    "np.linalg.det(detA)"
   ]
  },
  {
   "cell_type": "code",
   "execution_count": 225,
   "metadata": {},
   "outputs": [
    {
     "data": {
      "text/plain": [
       "15.0"
      ]
     },
     "execution_count": 225,
     "metadata": {},
     "output_type": "execute_result"
    }
   ],
   "source": [
    "# det(A_1)\n",
    "\n",
    "detA1 = np.array([[-11, 2], [-13, 1]])\n",
    "\n",
    "np.linalg.det(detA1)"
   ]
  },
  {
   "cell_type": "code",
   "execution_count": 226,
   "metadata": {},
   "outputs": [
    {
     "data": {
      "text/plain": [
       "-35.00000000000001"
      ]
     },
     "execution_count": 226,
     "metadata": {},
     "output_type": "execute_result"
    }
   ],
   "source": [
    "# det(A_2)\n",
    "\n",
    "detA2 = np.array([[1, -11], [-2, -13]])\n",
    "\n",
    "np.linalg.det(detA2)"
   ]
  },
  {
   "attachments": {},
   "cell_type": "markdown",
   "metadata": {},
   "source": [
    "SOLVING FOR x1 AND x2\n",
    "\n",
    "x1 = \n",
    "\n",
    "det(A_1) / det(A) = \n",
    "\n",
    "15/3 = 3\n",
    "\n",
    "x2 = \n",
    "\n",
    "det(A_2) / det(A) = \n",
    "\n",
    "-35/5 = -7"
   ]
  },
  {
   "attachments": {},
   "cell_type": "markdown",
   "metadata": {},
   "source": [
    "# Cramer's Rule\n",
    "\n",
    "x1 + x2 - x3 = 7\n",
    "\n",
    "x1 - x2 + x3 = 3\n",
    "\n",
    "x1 - 3x2 + x3 = 1"
   ]
  },
  {
   "cell_type": "code",
   "execution_count": 232,
   "metadata": {},
   "outputs": [
    {
     "data": {
      "text/plain": [
       "4.0"
      ]
     },
     "execution_count": 232,
     "metadata": {},
     "output_type": "execute_result"
    }
   ],
   "source": [
    "# det(A)\n",
    "\n",
    "detA = np.array([[1, 1, -1], [1, -1, 1], [1, -3, 1]])\n",
    "\n",
    "np.linalg.det(detA)"
   ]
  },
  {
   "cell_type": "code",
   "execution_count": 236,
   "metadata": {},
   "outputs": [
    {
     "data": {
      "text/plain": [
       "20.000000000000007"
      ]
     },
     "execution_count": 236,
     "metadata": {},
     "output_type": "execute_result"
    }
   ],
   "source": [
    "# det(A1)\n",
    "\n",
    "detA1 = np.array([[7, 1, -1], [3, -1, 1], [1, -3, 1]])\n",
    "\n",
    "np.linalg.det(detA1)"
   ]
  },
  {
   "cell_type": "code",
   "execution_count": 237,
   "metadata": {},
   "outputs": [
    {
     "data": {
      "text/plain": [
       "4.000000000000001"
      ]
     },
     "execution_count": 237,
     "metadata": {},
     "output_type": "execute_result"
    }
   ],
   "source": [
    "# det(A2)\n",
    "\n",
    "detA2 = np.array([[1, 7, -1], [1, 3, 1], [1, 1, 1]])\n",
    "\n",
    "np.linalg.det(detA2)"
   ]
  },
  {
   "cell_type": "code",
   "execution_count": 238,
   "metadata": {},
   "outputs": [
    {
     "data": {
      "text/plain": [
       "-4.0"
      ]
     },
     "execution_count": 238,
     "metadata": {},
     "output_type": "execute_result"
    }
   ],
   "source": [
    "# det(A3)\n",
    "\n",
    "detA3 = np.array([[1, 1, 7], [1, -1, 3], [1, -3, 1]])\n",
    "\n",
    "np.linalg.det(detA3)"
   ]
  },
  {
   "attachments": {},
   "cell_type": "markdown",
   "metadata": {},
   "source": [
    "SOLVING FOR x1 AND x2 AND x3\n",
    "\n",
    "x1 = \n",
    "\n",
    "det(A_1) / det(A) = \n",
    "\n",
    "20/4 = 5\n",
    "\n",
    "x2 = \n",
    "\n",
    "det(A_2) / det(A) = \n",
    "\n",
    "4/4 = 1\n",
    "\n",
    "det(A_3) / det(A) = \n",
    "\n",
    "-4/4 = -1"
   ]
  },
  {
   "attachments": {},
   "cell_type": "markdown",
   "metadata": {},
   "source": [
    "# Cramer's Rule"
   ]
  },
  {
   "attachments": {},
   "cell_type": "markdown",
   "metadata": {},
   "source": [
    "-x1 + 9x2 = 0\n",
    "\n",
    "-9x1 - 8x2 = -1"
   ]
  },
  {
   "cell_type": "code",
   "execution_count": 243,
   "metadata": {},
   "outputs": [
    {
     "data": {
      "text/plain": [
       "88.99999999999999"
      ]
     },
     "execution_count": 243,
     "metadata": {},
     "output_type": "execute_result"
    }
   ],
   "source": [
    "# det(A)\n",
    "\n",
    "A = np.array([[-1, 9], [-9, -8]])\n",
    "\n",
    "np.linalg.det(A)"
   ]
  },
  {
   "cell_type": "code",
   "execution_count": 245,
   "metadata": {},
   "outputs": [
    {
     "data": {
      "text/plain": [
       "9.000000000000002"
      ]
     },
     "execution_count": 245,
     "metadata": {},
     "output_type": "execute_result"
    }
   ],
   "source": [
    "# det(A1)\n",
    "\n",
    "detA1 = np.array([[0, 9], [-1, -8]])\n",
    "\n",
    "np.linalg.det(detA1)"
   ]
  },
  {
   "attachments": {},
   "cell_type": "markdown",
   "metadata": {},
   "source": [
    "# Cramer's Rule"
   ]
  },
  {
   "attachments": {},
   "cell_type": "markdown",
   "metadata": {},
   "source": [
    "x1 - 2x2 = -5\n",
    "\n",
    "3x1 - 5x2 = -15"
   ]
  },
  {
   "cell_type": "code",
   "execution_count": 246,
   "metadata": {},
   "outputs": [
    {
     "data": {
      "text/plain": [
       "1.0000000000000004"
      ]
     },
     "execution_count": 246,
     "metadata": {},
     "output_type": "execute_result"
    }
   ],
   "source": [
    "# det(A)\n",
    "\n",
    "A = np.array([[1, -2], [3, -5]])\n",
    "\n",
    "np.linalg.det(A)"
   ]
  },
  {
   "cell_type": "code",
   "execution_count": 247,
   "metadata": {},
   "outputs": [
    {
     "data": {
      "text/plain": [
       "-5.000000000000002"
      ]
     },
     "execution_count": 247,
     "metadata": {},
     "output_type": "execute_result"
    }
   ],
   "source": [
    "# det(A1)\n",
    "\n",
    "detA1 = np.array([[-5, -2], [-15, -5]])\n",
    "\n",
    "np.linalg.det(detA1)"
   ]
  },
  {
   "cell_type": "code",
   "execution_count": 248,
   "metadata": {},
   "outputs": [
    {
     "data": {
      "text/plain": [
       "0.0"
      ]
     },
     "execution_count": 248,
     "metadata": {},
     "output_type": "execute_result"
    }
   ],
   "source": [
    "# det(A2)\n",
    "\n",
    "detA2 = np.array([[1, -5], [3, -15]])\n",
    "\n",
    "np.linalg.det(detA2)"
   ]
  },
  {
   "attachments": {},
   "cell_type": "markdown",
   "metadata": {},
   "source": [
    "SOLVING FOR x1 AND x2\n",
    "\n",
    "x1 = \n",
    "\n",
    "det(A_1) / det(A) = \n",
    "\n",
    "-5/1 = -5\n",
    "\n",
    "x2 = \n",
    "\n",
    "det(A_2) / det(A) = \n",
    "\n",
    "0/1 = 0"
   ]
  },
  {
   "attachments": {},
   "cell_type": "markdown",
   "metadata": {},
   "source": [
    "# Cramer's Rule"
   ]
  },
  {
   "attachments": {},
   "cell_type": "markdown",
   "metadata": {},
   "source": [
    "x1 + 2x2 - 2x3 = -12\n",
    "\n",
    "-3x1 - 5x2 + 5x3 = 32\n",
    "\n",
    "2x1 + 4x2 - 3x3 = -19"
   ]
  },
  {
   "cell_type": "code",
   "execution_count": 264,
   "metadata": {},
   "outputs": [
    {
     "data": {
      "text/plain": [
       "1.0000000000000007"
      ]
     },
     "execution_count": 264,
     "metadata": {},
     "output_type": "execute_result"
    }
   ],
   "source": [
    "# det(A)\n",
    "\n",
    "detA = np.array([[1, 2, -2], [-3, -5, 5], [2, 4, -3]])\n",
    "\n",
    "np.linalg.det(detA)"
   ]
  },
  {
   "cell_type": "code",
   "execution_count": 265,
   "metadata": {},
   "outputs": [
    {
     "data": {
      "text/plain": [
       "-15.999999999999998"
      ]
     },
     "execution_count": 265,
     "metadata": {},
     "output_type": "execute_result"
    }
   ],
   "source": [
    "# det(A1)\n",
    "\n",
    "detA1 = np.array([[-12, -1, -1], [32, 4, 4], [-19, -2, -1]])\n",
    "\n",
    "np.linalg.det(detA1)"
   ]
  },
  {
   "cell_type": "code",
   "execution_count": 266,
   "metadata": {},
   "outputs": [
    {
     "data": {
      "text/plain": [
       "-9.000000000000002"
      ]
     },
     "execution_count": 266,
     "metadata": {},
     "output_type": "execute_result"
    }
   ],
   "source": [
    "# det(A2)\n",
    "\n",
    "detA2 = np.array([[1, -12, -1], [-3, 32, 4], [2, -19, -1]])\n",
    "\n",
    "np.linalg.det(detA2)"
   ]
  },
  {
   "cell_type": "code",
   "execution_count": 267,
   "metadata": {},
   "outputs": [
    {
     "data": {
      "text/plain": [
       "4.999999999999999"
      ]
     },
     "execution_count": 267,
     "metadata": {},
     "output_type": "execute_result"
    }
   ],
   "source": [
    "# det(A3)\n",
    "\n",
    "detA3 = np.array([[1, -1, -12], [-3, 4, 32], [2, -2, -19]])\n",
    "\n",
    "np.linalg.det(detA3)"
   ]
  }
 ],
 "metadata": {
  "kernelspec": {
   "display_name": "Env1",
   "language": "python",
   "name": "python3"
  },
  "language_info": {
   "codemirror_mode": {
    "name": "ipython",
    "version": 3
   },
   "file_extension": ".py",
   "mimetype": "text/x-python",
   "name": "python",
   "nbconvert_exporter": "python",
   "pygments_lexer": "ipython3",
   "version": "3.10.11"
  },
  "orig_nbformat": 4
 },
 "nbformat": 4,
 "nbformat_minor": 2
}
