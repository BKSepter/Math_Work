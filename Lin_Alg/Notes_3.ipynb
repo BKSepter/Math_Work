{
 "cells": [
  {
   "cell_type": "code",
   "execution_count": 54,
   "metadata": {},
   "outputs": [],
   "source": [
    "import sympy as smp\n",
    "from sympy import *\n",
    "import numpy as np\n",
    "from numpy import *\n",
    "import scipy as sp\n",
    "from scipy.integrate import solve_ivp\n",
    "from scipy.interpolate import interp1d\n",
    "from scipy.integrate import odeint\n",
    "from fractions import Fraction\n",
    "import matplotlib.pyplot as plt\n",
    "import scienceplots\n",
    "plt.style.use(['science', 'notebook', 'grid'])\n",
    "\n",
    "x, y, t, n, a, b, C, c, r, u, s, A = smp.symbols('x y t n a b C c r u s A')\n",
    "f, g, m = smp.symbols('f g m', cls=smp.Function)"
   ]
  },
  {
   "cell_type": "code",
   "execution_count": 13,
   "metadata": {},
   "outputs": [
    {
     "data": {
      "text/plain": [
       "{x: 0, y: -5}"
      ]
     },
     "execution_count": 13,
     "metadata": {},
     "output_type": "execute_result"
    }
   ],
   "source": [
    "# np.array([[x+2], [2]])\n",
    "# np.array([[y+4], [-1]])\n",
    "\n",
    "# Define the equations\n",
    "eq1 = Eq(x + 2, 2)\n",
    "eq2 = Eq(y + 4, -1)\n",
    "\n",
    "# Solve the equations\n",
    "sol = solve((eq1,eq2), (x, y))\n",
    "\n",
    "sol"
   ]
  },
  {
   "cell_type": "code",
   "execution_count": 12,
   "metadata": {},
   "outputs": [
    {
     "data": {
      "text/plain": [
       "{x: -1, y: -3}"
      ]
     },
     "execution_count": 12,
     "metadata": {},
     "output_type": "execute_result"
    }
   ],
   "source": [
    "# np.array([[x+1], [0]])\n",
    "# np.array([[-6], [y-3]])\n",
    "\n",
    "# Define the equations\n",
    "eq1 = Eq(x + 1, 0)\n",
    "eq2 = Eq(-6, y-3)\n",
    "\n",
    "# Solve the equations\n",
    "sol = solve((eq1,eq2), (x, y))\n",
    "\n",
    "sol"
   ]
  },
  {
   "cell_type": "code",
   "execution_count": 15,
   "metadata": {},
   "outputs": [
    {
     "data": {
      "text/plain": [
       "{x: 2, y: 4}"
      ]
     },
     "execution_count": 15,
     "metadata": {},
     "output_type": "execute_result"
    }
   ],
   "source": [
    "# np.array([[-4x-1], [2], [4y-5]])\n",
    "# np.array([[-9], [2], [11]])\n",
    "\n",
    "eq1 = Eq(-4*x - 1, -9)\n",
    "eq2 = Eq(2, 2)\n",
    "eq3 = Eq(4*y - 5, 11)\n",
    "\n",
    "sol = solve((eq1, eq3), (x, y))\n",
    "\n",
    "sol"
   ]
  },
  {
   "cell_type": "code",
   "execution_count": 17,
   "metadata": {},
   "outputs": [
    {
     "data": {
      "text/plain": [
       "array([-2.,  5.])"
      ]
     },
     "execution_count": 17,
     "metadata": {},
     "output_type": "execute_result"
    }
   ],
   "source": [
    "# np.array([[x+y], [2x+y]])\n",
    "# np.array([[3], [1]])\n",
    "\n",
    "A = np.array([[1, 1], [2, 1]])\n",
    "B = np.array([3, 1])\n",
    "\n",
    "X = np.linalg.solve(A, B)\n",
    "\n",
    "X"
   ]
  },
  {
   "cell_type": "code",
   "execution_count": 19,
   "metadata": {},
   "outputs": [
    {
     "data": {
      "text/plain": [
       "array([[-4],\n",
       "       [ 7]])"
      ]
     },
     "execution_count": 19,
     "metadata": {},
     "output_type": "execute_result"
    }
   ],
   "source": [
    "v1 = np.array([[8], [-8]])\n",
    "v2 = np.array([[4], [-3]])\n",
    "a1 = -2\n",
    "a2 = 3\n",
    "\n",
    "A = np.multiply(a1, v1)\n",
    "B = np.multiply(a2, v2)\n",
    "\n",
    "A + B"
   ]
  },
  {
   "cell_type": "code",
   "execution_count": 20,
   "metadata": {},
   "outputs": [
    {
     "data": {
      "text/plain": [
       "array([[-50],\n",
       "       [ 45],\n",
       "       [-24]])"
      ]
     },
     "execution_count": 20,
     "metadata": {},
     "output_type": "execute_result"
    }
   ],
   "source": [
    "v1 = np.array([[-4], [-6], [-8]])\n",
    "v2 = np.array([[-2], [5], [4]])\n",
    "v3 = np.array([[-8], [8], [-7]])\n",
    "a1 = 2\n",
    "a2 = 5\n",
    "a3 = 4\n",
    "\n",
    "A = np.multiply(a1, v1)\n",
    "B = np.multiply(a2, v2)\n",
    "C = np.multiply(a3, v3)\n",
    "\n",
    "A + B + C"
   ]
  },
  {
   "cell_type": "code",
   "execution_count": 25,
   "metadata": {},
   "outputs": [
    {
     "data": {
      "text/plain": [
       "array([2., 4.])"
      ]
     },
     "execution_count": 25,
     "metadata": {},
     "output_type": "execute_result"
    }
   ],
   "source": [
    "# Find the weights that should be used for b = (a1)(v1) + (a2)(v2) to obtain b\n",
    "\n",
    "v1 = np.array([2, -1])\n",
    "v2 = np.array([2, 2])\n",
    "b = np.array([12, 6])\n",
    "\n",
    "# Combine v1 and v2 into a matrix A\n",
    "A = np.vstack((v1, v2)).T\n",
    "\n",
    "# Solve the system of equations Ax = b for x using least squares method\n",
    "x, residuals, rank, s = np.linalg.lstsq(A, b, rcond=None)\n",
    "\n",
    "x"
   ]
  },
  {
   "cell_type": "code",
   "execution_count": 26,
   "metadata": {},
   "outputs": [
    {
     "data": {
      "text/plain": [
       "array([ 2., -1.])"
      ]
     },
     "execution_count": 26,
     "metadata": {},
     "output_type": "execute_result"
    }
   ],
   "source": [
    "# Find the weights that should be used for b = (a1)(v1) + (a2)(v2) to obtain b\n",
    "\n",
    "a1 = np.array([3, 2])\n",
    "a2 = np.array([-1, 3])\n",
    "b = np.array([7, 1])\n",
    "\n",
    "# Combine v1 and v2 into a matrix A\n",
    "A = np.vstack((a1, a2)).T\n",
    "\n",
    "# Solve the system of equations Ax = b for x using least squares method\n",
    "x, residuals, rank, s = np.linalg.lstsq(A, b, rcond=None)\n",
    "\n",
    "x"
   ]
  },
  {
   "cell_type": "code",
   "execution_count": 27,
   "metadata": {},
   "outputs": [
    {
     "data": {
      "text/plain": [
       "array([1., 3., 2.])"
      ]
     },
     "execution_count": 27,
     "metadata": {},
     "output_type": "execute_result"
    }
   ],
   "source": [
    "# Find the weights that should be used for b = (a1)(v1) + (a2)(v2) to obtain b\n",
    "\n",
    "a1 = np.array([7, 3, 5])\n",
    "a2 = np.array([5, -5, 3])\n",
    "a3 = np.array([-3, 2, -7])\n",
    "b = np.array([16, -8, 0])\n",
    "\n",
    "# Combine v1 and v2 into a matrix A\n",
    "A = np.vstack((a1, a2, a3)).T\n",
    "\n",
    "# Solve the system of equations Ax = b for x using least squares method\n",
    "x, residuals, rank, s = np.linalg.lstsq(A, b, rcond=None)\n",
    "\n",
    "x"
   ]
  },
  {
   "cell_type": "code",
   "execution_count": 30,
   "metadata": {},
   "outputs": [
    {
     "data": {
      "text/latex": [
       "$\\displaystyle \\left[\\begin{matrix}1 & 0 & 0 & 0\\\\0 & 1 & 0 & 0\\\\0 & 0 & 1 & 0\\\\0 & 0 & 0 & 0\\end{matrix}\\right]$"
      ],
      "text/plain": [
       "Matrix([\n",
       "[1, 0, 0, 0],\n",
       "[0, 1, 0, 0],\n",
       "[0, 0, 1, 0],\n",
       "[0, 0, 0, 0]])"
      ]
     },
     "execution_count": 30,
     "metadata": {},
     "output_type": "execute_result"
    }
   ],
   "source": [
    "# Define the matrix\n",
    "matrixS = Matrix([\n",
    "    [1, 2, 0, 0],\n",
    "    [0, 3, 0, 0],\n",
    "    [2, 0, 1, 0],\n",
    "    [0, 0, 0, 0]\n",
    "])\n",
    "\n",
    "# Convert to reduced row echelon form\n",
    "reducedS, pivots = matrixS.rref()\n",
    "\n",
    "reducedS"
   ]
  },
  {
   "attachments": {},
   "cell_type": "markdown",
   "metadata": {},
   "source": [
    "# How to find R^n"
   ]
  },
  {
   "cell_type": "code",
   "execution_count": 35,
   "metadata": {},
   "outputs": [
    {
     "name": "stdout",
     "output_type": "stream",
     "text": [
      "[1. 0. 0. 0. 0. 0. 0. 0. 0. 0.]\n",
      "[0. 1. 0. 0. 0. 0. 0. 0. 0. 0.]\n",
      "[0. 0. 1. 0. 0. 0. 0. 0. 0. 0.]\n",
      "[0. 0. 0. 1. 0. 0. 0. 0. 0. 0.]\n",
      "[0. 0. 0. 0. 1. 0. 0. 0. 0. 0.]\n",
      "[0. 0. 0. 0. 0. 1. 0. 0. 0. 0.]\n",
      "[0. 0. 0. 0. 0. 0. 1. 0. 0. 0.]\n",
      "[0. 0. 0. 0. 0. 0. 0. 1. 0. 0.]\n",
      "[0. 0. 0. 0. 0. 0. 0. 0. 1. 0.]\n",
      "[0. 0. 0. 0. 0. 0. 0. 0. 0. 1.]\n"
     ]
    }
   ],
   "source": [
    "def standard_basis(n):\n",
    "    # Create an n x n identity matrix. Each row of this matrix is a basis vector.\n",
    "    basis = np.eye(n)\n",
    "    return basis\n",
    "\n",
    "n = 10\n",
    "basis = standard_basis(n)\n",
    "\n",
    "# Print the basis\n",
    "for vector in basis:\n",
    "    print(vector)"
   ]
  },
  {
   "cell_type": "code",
   "execution_count": 36,
   "metadata": {},
   "outputs": [
    {
     "name": "stdout",
     "output_type": "stream",
     "text": [
      "[1, 3]\n"
     ]
    }
   ],
   "source": [
    "def standard_basis(n):\n",
    "    # Create an n x n identity matrix. Each row of this matrix is a basis vector.\n",
    "    basis = [[1, 3]]\n",
    "    return basis\n",
    "\n",
    "n = 10\n",
    "basis = standard_basis(n)\n",
    "\n",
    "# Print the basis\n",
    "for vector in basis:\n",
    "    print(vector)"
   ]
  },
  {
   "cell_type": "code",
   "execution_count": 37,
   "metadata": {},
   "outputs": [
    {
     "name": "stdout",
     "output_type": "stream",
     "text": [
      "The rank of the matrix is:\n"
     ]
    },
    {
     "data": {
      "text/plain": [
       "1"
      ]
     },
     "metadata": {},
     "output_type": "display_data"
    }
   ],
   "source": [
    "# Define the matrices\n",
    "M1 = np.array([[1, 0], [-1, 2]])\n",
    "M2 = np.array([[0, 0], [0, 0]])\n",
    "\n",
    "# Stack the matrices horizontally\n",
    "A = np.hstack((M1.reshape(4,1), M2.reshape(4,1)))\n",
    "\n",
    "# Compute the rank of the matrix\n",
    "rank = np.linalg.matrix_rank(A)\n",
    "\n",
    "# The rank of the matrix is equal to the number of linearly independent vectors\n",
    "print(\"The rank of the matrix is:\")\n",
    "display(rank)"
   ]
  },
  {
   "cell_type": "code",
   "execution_count": 38,
   "metadata": {},
   "outputs": [
    {
     "name": "stdout",
     "output_type": "stream",
     "text": [
      "The rank of the matrix is:\n"
     ]
    },
    {
     "data": {
      "text/plain": [
       "1"
      ]
     },
     "metadata": {},
     "output_type": "display_data"
    }
   ],
   "source": [
    "# Define the matrices\n",
    "M1 = np.array([[1, 0], [-1, 2]])\n",
    "M2 = np.array([[0, 0], [0, 0]])\n",
    "\n",
    "# Stack the matrices horizontally\n",
    "A = np.hstack((M1.reshape(4,1), M2.reshape(4,1)))\n",
    "\n",
    "# Compute the rank of the matrix\n",
    "rank = np.linalg.matrix_rank(A)\n",
    "\n",
    "# The rank of the matrix is equal to the number of linearly independent vectors\n",
    "print(\"The rank of the matrix is:\")\n",
    "display(rank)"
   ]
  },
  {
   "cell_type": "code",
   "execution_count": 43,
   "metadata": {},
   "outputs": [
    {
     "name": "stdout",
     "output_type": "stream",
     "text": [
      "M1:\n"
     ]
    },
    {
     "data": {
      "text/latex": [
       "$\\displaystyle \\left[\\begin{matrix}8 & 0\\\\4 & 0\\end{matrix}\\right]$"
      ],
      "text/plain": [
       "Matrix([\n",
       "[8, 0],\n",
       "[4, 0]])"
      ]
     },
     "metadata": {},
     "output_type": "display_data"
    },
    {
     "name": "stdout",
     "output_type": "stream",
     "text": [
      "M2:\n"
     ]
    },
    {
     "data": {
      "text/latex": [
       "$\\displaystyle \\left[\\begin{matrix}2 & 3\\\\0 & 9\\end{matrix}\\right]$"
      ],
      "text/plain": [
       "Matrix([\n",
       "[2, 3],\n",
       "[0, 9]])"
      ]
     },
     "metadata": {},
     "output_type": "display_data"
    }
   ],
   "source": [
    "# Finding a basis for the subspace\n",
    "\n",
    "from sympy import symbols, Eq, solve, Matrix\n",
    "\n",
    "# Define the matrix W\n",
    "W = Matrix([[8*a + 2*b, 3*b], [4*a, 9*b]])\n",
    "\n",
    "# Express W as a linear combination of M1 and M2\n",
    "M1 = Matrix([[W[0,0].coeff(a), 0], [W[1,0].coeff(a), 0]])\n",
    "M2 = Matrix([[W[0,0].coeff(b), W[0,1].coeff(b)], [0, W[1,1].coeff(b)]])\n",
    "\n",
    "print(\"M1:\")\n",
    "display(M1)\n",
    "\n",
    "print(\"M2:\")\n",
    "display(M2)"
   ]
  },
  {
   "attachments": {},
   "cell_type": "markdown",
   "metadata": {},
   "source": [
    "W = {\n",
    "    [\n",
    "        a   b\n",
    "        c   d\n",
    "    ] within R_2x2 | \n",
    "    8a + 3b - c = 0\n",
    "} of R_2x2"
   ]
  },
  {
   "cell_type": "code",
   "execution_count": 51,
   "metadata": {},
   "outputs": [
    {
     "name": "stdout",
     "output_type": "stream",
     "text": [
      "M1:\n"
     ]
    },
    {
     "data": {
      "text/latex": [
       "$\\displaystyle \\left[\\begin{matrix}1 & 0\\\\8 & 0\\end{matrix}\\right]$"
      ],
      "text/plain": [
       "Matrix([\n",
       "[1, 0],\n",
       "[8, 0]])"
      ]
     },
     "metadata": {},
     "output_type": "display_data"
    },
    {
     "name": "stdout",
     "output_type": "stream",
     "text": [
      "M2:\n"
     ]
    },
    {
     "data": {
      "text/latex": [
       "$\\displaystyle \\left[\\begin{matrix}0 & 1\\\\3 & 0\\end{matrix}\\right]$"
      ],
      "text/plain": [
       "Matrix([\n",
       "[0, 1],\n",
       "[3, 0]])"
      ]
     },
     "metadata": {},
     "output_type": "display_data"
    },
    {
     "name": "stdout",
     "output_type": "stream",
     "text": [
      "M3:\n"
     ]
    },
    {
     "data": {
      "text/latex": [
       "$\\displaystyle \\left[\\begin{matrix}0 & 0\\\\0 & 1\\end{matrix}\\right]$"
      ],
      "text/plain": [
       "Matrix([\n",
       "[0, 0],\n",
       "[0, 1]])"
      ]
     },
     "metadata": {},
     "output_type": "display_data"
    }
   ],
   "source": [
    "from sympy import symbols, Eq, solve, Matrix\n",
    "\n",
    "# Define the equation\n",
    "eq = Eq(8*a + 3*b - c, 0)\n",
    "\n",
    "# Solve the equation for c\n",
    "solution = solve(eq, c)[0]\n",
    "\n",
    "# Define the matrices M1, M2, and M3\n",
    "M1 = Matrix([[1, 0], [solution.subs({a:1, b:0}), 0]])\n",
    "M2 = Matrix([[0, 1], [solution.subs({a:0, b:1}), 0]])\n",
    "M3 = Matrix([[0, 0], [0, 1]])\n",
    "\n",
    "print(\"M1:\")\n",
    "display(M1)\n",
    "\n",
    "print(\"M2:\")\n",
    "display(M2)\n",
    "\n",
    "print(\"M3:\")\n",
    "display(M3)"
   ]
  },
  {
   "attachments": {},
   "cell_type": "markdown",
   "metadata": {},
   "source": [
    "# Ordered Basis"
   ]
  },
  {
   "cell_type": "code",
   "execution_count": 64,
   "metadata": {},
   "outputs": [
    {
     "data": {
      "text/plain": [
       "array([3., 5., 1.])"
      ]
     },
     "execution_count": 64,
     "metadata": {},
     "output_type": "execute_result"
    }
   ],
   "source": [
    "# v = np.array([[11], [3], [1]]) within R^3\n",
    "# B = {np.array([[3], [1], [0]]), np.array([[0], [-1], [-]]), np.array([[2], [5], [1]])}\n",
    "\n",
    "\n",
    "# Define the matrix A using the basis vectors and the vector v\n",
    "B = np.array([[3, 0, 2], [1, -1, 5], [0, 0, 1]])\n",
    "v = np.array([11, 3, 1])\n",
    "\n",
    "# Use numpy's linalg.solve() function to solve for [x, y, z]\n",
    "coords = np.linalg.solve(B, v)\n",
    "\n",
    "coords"
   ]
  },
  {
   "cell_type": "code",
   "execution_count": 63,
   "metadata": {},
   "outputs": [
    {
     "data": {
      "text/plain": [
       "array([7., 8.])"
      ]
     },
     "execution_count": 63,
     "metadata": {},
     "output_type": "execute_result"
    }
   ],
   "source": [
    "# Define the matrix A using the basis vectors and the vector v\n",
    "B = np.array([[1, 0], [0, 1]])\n",
    "v = np.array([7, 8])\n",
    "\n",
    "# Use numpy's linalg.solve() function to solve for [x, y, z]\n",
    "coords = np.linalg.solve(B, v)\n",
    "\n",
    "coords"
   ]
  },
  {
   "cell_type": "code",
   "execution_count": 71,
   "metadata": {},
   "outputs": [
    {
     "data": {
      "text/plain": [
       "array([-2.0000000e+00,  6.9388939e-17])"
      ]
     },
     "execution_count": 71,
     "metadata": {},
     "output_type": "execute_result"
    }
   ],
   "source": [
    "# Define the basis vectors\n",
    "u1 = np.array([9, -1])\n",
    "u2 = np.array([-5, 4])\n",
    "\n",
    "# Define the vector v\n",
    "v = np.array([-18, 2])\n",
    "\n",
    "# Create a matrix from the basis vectors\n",
    "B = np.column_stack((u1, u2))\n",
    "\n",
    "# Use the np.linalg.inv function to compute the inverse of the matrix B\n",
    "# Then use the np.dot function to multiply this inverse with the vector v\n",
    "coordinates = np.dot(np.linalg.inv(B), v)\n",
    "\n",
    "coordinates\n",
    "\n",
    "# Answer:\n",
    "# np.array([[-2], [0]])"
   ]
  },
  {
   "cell_type": "code",
   "execution_count": 73,
   "metadata": {},
   "outputs": [
    {
     "data": {
      "text/plain": [
       "array([-1., -3., -2.])"
      ]
     },
     "execution_count": 73,
     "metadata": {},
     "output_type": "execute_result"
    }
   ],
   "source": [
    "# Define the basis vectors\n",
    "u1 = np.array([-3, -8, -5])\n",
    "u2 = np.array([4, -1, 8])\n",
    "u3 = np.array([-7, 1, 0])\n",
    "\n",
    "# Define the vector v\n",
    "v = np.array([5, 9, -19])\n",
    "\n",
    "# Create a matrix from the basis vectors\n",
    "B = np.column_stack((u1, u2, u3))\n",
    "\n",
    "# Use the np.linalg.inv function to compute the inverse of the matrix B\n",
    "# Then use the np.dot function to multiply this inverse with the vector v\n",
    "coordinates = np.dot(np.linalg.inv(B), v)\n",
    "\n",
    "coordinates"
   ]
  },
  {
   "cell_type": "code",
   "execution_count": 75,
   "metadata": {},
   "outputs": [
    {
     "data": {
      "text/plain": [
       "array([2, 9, 8, 7])"
      ]
     },
     "execution_count": 75,
     "metadata": {},
     "output_type": "execute_result"
    }
   ],
   "source": [
    "# Define the matrix A\n",
    "A = np.array([\n",
    "    [2, 9],\n",
    "    [8, 7]\n",
    "])\n",
    "\n",
    "# Flatten the matrix to get the coordinates with respect to the standard basis\n",
    "coordinates = A.flatten()\n",
    "\n",
    "coordinates"
   ]
  },
  {
   "cell_type": "code",
   "execution_count": 76,
   "metadata": {},
   "outputs": [
    {
     "data": {
      "text/plain": [
       "array([-20, -32, -27, -12])"
      ]
     },
     "execution_count": 76,
     "metadata": {},
     "output_type": "execute_result"
    }
   ],
   "source": [
    "# Define the matrix A\n",
    "A = np.array([\n",
    "    [-20, -32],\n",
    "    [-27, -12]\n",
    "])\n",
    "\n",
    "# Flatten the matrix to get the coordinates with respect to the standard basis\n",
    "coordinates = A.flatten()\n",
    "\n",
    "coordinates"
   ]
  },
  {
   "cell_type": "code",
   "execution_count": 78,
   "metadata": {},
   "outputs": [
    {
     "data": {
      "text/plain": [
       "array([-3.,  1.,  2., -1.])"
      ]
     },
     "execution_count": 78,
     "metadata": {},
     "output_type": "execute_result"
    }
   ],
   "source": [
    "# Define the basis matrices\n",
    "A1 = np.array([[3, 9], [8, -1]])\n",
    "A2 = np.array([[-3, -4], [-9, -6]])\n",
    "A3 = np.array([[-3, -5], [7, -8]])\n",
    "A4 = np.array([[2, -9], [8, -7]])\n",
    "\n",
    "# Define the matrix A\n",
    "A = np.array([[-20, -32], [-27, -12]])\n",
    "\n",
    "# Create a matrix from the basis matrices\n",
    "B = np.column_stack((A1.flatten(), A2.flatten(), A3.flatten(), A4.flatten()))\n",
    "\n",
    "# Use the np.linalg.inv function to compute the inverse of the matrix B\n",
    "# Then use the np.dot function to multiply this inverse with the flattened matrix A\n",
    "coordinates = np.dot(np.linalg.inv(B), A.flatten())\n",
    "\n",
    "coordinates"
   ]
  },
  {
   "cell_type": "code",
   "execution_count": 81,
   "metadata": {},
   "outputs": [
    {
     "data": {
      "text/plain": [
       "[6, 7]"
      ]
     },
     "execution_count": 81,
     "metadata": {},
     "output_type": "execute_result"
    }
   ],
   "source": [
    "# Define the polynomial p\n",
    "p = 7 + 6*x\n",
    "\n",
    "# Create a Poly object from the polynomial\n",
    "poly = Poly(p)\n",
    "\n",
    "# Get the coefficients of the polynomial\n",
    "coefficients = poly.all_coeffs()\n",
    "\n",
    "coefficients"
   ]
  },
  {
   "cell_type": "code",
   "execution_count": 82,
   "metadata": {},
   "outputs": [
    {
     "data": {
      "text/plain": [
       "[-2, 10]"
      ]
     },
     "execution_count": 82,
     "metadata": {},
     "output_type": "execute_result"
    }
   ],
   "source": [
    "# Define the polynomial p\n",
    "p = 10 - 2*x\n",
    "\n",
    "# Create a Poly object from the polynomial\n",
    "poly = Poly(p)\n",
    "\n",
    "# Get the coefficients of the polynomial\n",
    "coefficients = poly.all_coeffs()\n",
    "\n",
    "coefficients"
   ]
  },
  {
   "cell_type": "code",
   "execution_count": 83,
   "metadata": {},
   "outputs": [
    {
     "data": {
      "text/plain": [
       "array([3., 2.])"
      ]
     },
     "execution_count": 83,
     "metadata": {},
     "output_type": "execute_result"
    }
   ],
   "source": [
    "# Given the ordered basis B = {p1 = 4 - x, p2 = -4 - 7x}, \n",
    "# find the coordinates of p = 4 - 17x with respect to B\n",
    "\n",
    "# Define the coefficients of the basis polynomials\n",
    "p1 = np.array([4, -1])\n",
    "p2 = np.array([-4, -7])\n",
    "\n",
    "# Define the coefficients of the polynomial p\n",
    "p = np.array([4, -17])\n",
    "\n",
    "# Create a matrix from the coefficients of the basis polynomials\n",
    "B = np.column_stack((p1, p2))\n",
    "\n",
    "# Use the np.linalg.inv function to compute the inverse of the matrix B\n",
    "# Then use the np.dot function to multiply this inverse with the coefficients of p\n",
    "coordinates = np.dot(np.linalg.inv(B), p)\n",
    "\n",
    "coordinates"
   ]
  },
  {
   "cell_type": "code",
   "execution_count": 85,
   "metadata": {},
   "outputs": [
    {
     "data": {
      "text/plain": [
       "array([[ 1.38461538, -1.84615385],\n",
       "       [ 0.84615385,  1.53846154]])"
      ]
     },
     "execution_count": 85,
     "metadata": {},
     "output_type": "execute_result"
    }
   ],
   "source": [
    "# Define the vectors in the bases B and C\n",
    "B = np.array([[1, -4], [2, 5]])\n",
    "C = np.array([[-2, -8], [7, 4]])\n",
    "\n",
    "# Solve the system of equations represented by the augmented matrix for each column of C\n",
    "P = np.linalg.solve(B, C)\n",
    "\n",
    "P"
   ]
  },
  {
   "cell_type": "code",
   "execution_count": 93,
   "metadata": {},
   "outputs": [
    {
     "data": {
      "text/plain": [
       "array([0, 0])"
      ]
     },
     "metadata": {},
     "output_type": "display_data"
    },
    {
     "name": "stdout",
     "output_type": "stream",
     "text": [
      "Is v in null(A)? True\n"
     ]
    }
   ],
   "source": [
    "# Define the matrix A and the vector v\n",
    "A = np.array([[-12, 2], [36, -6]])\n",
    "v = np.array([-2, -12])\n",
    "\n",
    "# Perform the matrix multiplication Av\n",
    "Av = np.dot(A, v)\n",
    "display(Av)\n",
    "\n",
    "# Check if v is in the null space of A\n",
    "is_in_null_space = np.all(Av == 0)\n",
    "print(\"Is v in null(A)?\", is_in_null_space)\n"
   ]
  },
  {
   "attachments": {},
   "cell_type": "markdown",
   "metadata": {},
   "source": [
    "# Rank and Nullity"
   ]
  },
  {
   "cell_type": "code",
   "execution_count": 94,
   "metadata": {},
   "outputs": [
    {
     "name": "stdout",
     "output_type": "stream",
     "text": [
      "Rank of A: 1\n",
      "Nullity of A: 1\n"
     ]
    }
   ],
   "source": [
    "# Define the matrix A\n",
    "A = np.array([[8, -16], [-6, 12]])\n",
    "\n",
    "# Find the rank of A\n",
    "rank = np.linalg.matrix_rank(A)\n",
    "print(\"Rank of A:\", rank)\n",
    "\n",
    "# Find the nullity of A\n",
    "nullity = A.shape[1] - rank\n",
    "print(\"Nullity of A:\", nullity)"
   ]
  },
  {
   "cell_type": "code",
   "execution_count": 95,
   "metadata": {},
   "outputs": [
    {
     "name": "stdout",
     "output_type": "stream",
     "text": [
      "Rank of A: 2\n",
      "Nullity of A: 3\n"
     ]
    }
   ],
   "source": [
    "# Define the matrix A\n",
    "A = np.array([[1, -4, 0, -2, -3], [0, 0, 1, -3, 4], [0, 0, 0, 0, 0]])\n",
    "\n",
    "# Find the rank of A\n",
    "rank = np.linalg.matrix_rank(A)\n",
    "print(\"Rank of A:\", rank)\n",
    "\n",
    "# Find the nullity of A\n",
    "nullity = A.shape[1] - rank\n",
    "print(\"Nullity of A:\", nullity)"
   ]
  },
  {
   "cell_type": "code",
   "execution_count": null,
   "metadata": {},
   "outputs": [],
   "source": []
  }
 ],
 "metadata": {
  "kernelspec": {
   "display_name": "Env1",
   "language": "python",
   "name": "python3"
  },
  "language_info": {
   "codemirror_mode": {
    "name": "ipython",
    "version": 3
   },
   "file_extension": ".py",
   "mimetype": "text/x-python",
   "name": "python",
   "nbconvert_exporter": "python",
   "pygments_lexer": "ipython3",
   "version": "3.10.11"
  },
  "orig_nbformat": 4
 },
 "nbformat": 4,
 "nbformat_minor": 2
}
