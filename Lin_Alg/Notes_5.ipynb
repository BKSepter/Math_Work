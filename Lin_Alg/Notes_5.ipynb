{
 "cells": [
  {
   "cell_type": "code",
   "execution_count": 100,
   "metadata": {},
   "outputs": [],
   "source": [
    "import sympy as smp\n",
    "from sympy import *\n",
    "import numpy as np\n",
    "from numpy import *\n",
    "import scipy as sp\n",
    "from scipy.integrate import solve_ivp\n",
    "from scipy.interpolate import interp1d\n",
    "from scipy.integrate import odeint\n",
    "from fractions import Fraction\n",
    "import matplotlib.pyplot as plt\n",
    "import scienceplots\n",
    "plt.style.use(['science', 'notebook', 'grid'])\n",
    "\n",
    "x, y, t, n, a, b, C, c, r, u, s, A, d = smp.symbols('x y t n a b C c r u s A d')\n",
    "f, g, m = smp.symbols('f g m', cls=smp.Function)"
   ]
  },
  {
   "cell_type": "code",
   "execution_count": 2,
   "metadata": {},
   "outputs": [
    {
     "name": "stdout",
     "output_type": "stream",
     "text": [
      "[4. 2.]\n"
     ]
    }
   ],
   "source": [
    "# Eivenvalues\n",
    "\n",
    "A = np.array([[8, -12], [2, -2]])\n",
    "\n",
    "# Compute the eigenvalues\n",
    "eigenvalues = np.linalg.eigvals(A)\n",
    "\n",
    "print(eigenvalues)"
   ]
  },
  {
   "cell_type": "code",
   "execution_count": 3,
   "metadata": {},
   "outputs": [
    {
     "name": "stdout",
     "output_type": "stream",
     "text": [
      "[3. 1.]\n"
     ]
    }
   ],
   "source": [
    "# Eivenvalues\n",
    "\n",
    "A = np.array([[11, -20], [4, -7]])\n",
    "\n",
    "# Compute the eigenvalues\n",
    "eigenvalues = np.linalg.eigvals(A)\n",
    "\n",
    "print(eigenvalues)"
   ]
  },
  {
   "cell_type": "code",
   "execution_count": 5,
   "metadata": {},
   "outputs": [
    {
     "name": "stdout",
     "output_type": "stream",
     "text": [
      "[4. 3.]\n"
     ]
    }
   ],
   "source": [
    "# Find the spectrum of the matrix\n",
    "\n",
    "A = np.array([[5, -2], [1, 2]])\n",
    "\n",
    "# Compute the eigenvalues\n",
    "eigenvalues = np.linalg.eigvals(A)\n",
    "\n",
    "print(eigenvalues)"
   ]
  },
  {
   "cell_type": "code",
   "execution_count": 6,
   "metadata": {},
   "outputs": [
    {
     "name": "stdout",
     "output_type": "stream",
     "text": [
      "[1. 1.]\n"
     ]
    }
   ],
   "source": [
    "# Find the spectrum of the matrix\n",
    "\n",
    "A = np.array([[1, 0], [0, 1]])\n",
    "\n",
    "# Compute the eigenvalues\n",
    "eigenvalues = np.linalg.eigvals(A)\n",
    "\n",
    "print(eigenvalues)"
   ]
  },
  {
   "cell_type": "code",
   "execution_count": 7,
   "metadata": {},
   "outputs": [
    {
     "name": "stdout",
     "output_type": "stream",
     "text": [
      "[2. 1.]\n"
     ]
    }
   ],
   "source": [
    "# Find the spectrum of the matrix\n",
    "\n",
    "A = np.array([[3, -2], [1, 0]])\n",
    "\n",
    "# Compute the eigenvalues\n",
    "eigenvalues = np.linalg.eigvals(A)\n",
    "\n",
    "print(eigenvalues)"
   ]
  },
  {
   "cell_type": "code",
   "execution_count": 9,
   "metadata": {},
   "outputs": [
    {
     "name": "stdout",
     "output_type": "stream",
     "text": [
      "[2. 1.]\n"
     ]
    }
   ],
   "source": [
    "# Find the spectrum of the matrix\n",
    "\n",
    "A = np.array([[4, -6], [1, -1]])\n",
    "\n",
    "# Compute the eigenvalues\n",
    "eigenvalues = np.linalg.eigvals(A)\n",
    "\n",
    "print(eigenvalues)"
   ]
  },
  {
   "cell_type": "code",
   "execution_count": 11,
   "metadata": {},
   "outputs": [
    {
     "name": "stdout",
     "output_type": "stream",
     "text": [
      "[5. 4. 5. 4.]\n"
     ]
    }
   ],
   "source": [
    "# PART I\n",
    "\n",
    "# Define the matrix\n",
    "A = np.array([[4, 0, 0, 0], [-2, 5, 0, 0], [1, -3, 4, 0], [5, 1, 1, 5]])\n",
    "\n",
    "# Compute the eigenvalues\n",
    "eigenvalues = np.linalg.eigvals(A)\n",
    "\n",
    "# Print the eigenvalues\n",
    "print(eigenvalues)"
   ]
  },
  {
   "cell_type": "code",
   "execution_count": 12,
   "metadata": {},
   "outputs": [
    {
     "name": "stdout",
     "output_type": "stream",
     "text": [
      "Eigenvalue: 5.0, Algebraic multiplicity: 2\n",
      "Eigenvalue: 4.0, Algebraic multiplicity: 2\n"
     ]
    }
   ],
   "source": [
    "# PART II\n",
    "\n",
    "from collections import Counter\n",
    "\n",
    "# Compute the algebraic multiplicities\n",
    "multiplicities = Counter(eigenvalues)\n",
    "\n",
    "# Print the algebraic multiplicities\n",
    "for eigenvalue, multiplicity in multiplicities.items():\n",
    "    print(f\"Eigenvalue: {eigenvalue}, Algebraic multiplicity: {multiplicity}\")"
   ]
  },
  {
   "cell_type": "code",
   "execution_count": 13,
   "metadata": {},
   "outputs": [
    {
     "name": "stdout",
     "output_type": "stream",
     "text": [
      "[7. 9. 7. 9.]\n"
     ]
    }
   ],
   "source": [
    "# PART I\n",
    "\n",
    "# Define the matrix\n",
    "A = np.array([[9, 0, 0, 0], [4, 7, 0, 0], [2, -2, 9, 0], [5, 4, 5, 7]])\n",
    "\n",
    "# Compute the eigenvalues\n",
    "eigenvalues = np.linalg.eigvals(A)\n",
    "\n",
    "# Print the eigenvalues\n",
    "print(eigenvalues)"
   ]
  },
  {
   "cell_type": "code",
   "execution_count": 14,
   "metadata": {},
   "outputs": [
    {
     "name": "stdout",
     "output_type": "stream",
     "text": [
      "Eigenvalue: 7.0, Algebraic multiplicity: 2\n",
      "Eigenvalue: 9.0, Algebraic multiplicity: 2\n"
     ]
    }
   ],
   "source": [
    "# PART II\n",
    "\n",
    "from collections import Counter\n",
    "\n",
    "# Compute the algebraic multiplicities\n",
    "multiplicities = Counter(eigenvalues)\n",
    "\n",
    "# Print the algebraic multiplicities\n",
    "for eigenvalue, multiplicity in multiplicities.items():\n",
    "    print(f\"Eigenvalue: {eigenvalue}, Algebraic multiplicity: {multiplicity}\")"
   ]
  },
  {
   "cell_type": "code",
   "execution_count": 17,
   "metadata": {},
   "outputs": [
    {
     "name": "stdout",
     "output_type": "stream",
     "text": [
      "Eigenvalue: 1.9999999999999998, Algebraic multiplicity: 1\n",
      "Eigenvalue: -2.0000000102548543, Algebraic multiplicity: 1\n",
      "Eigenvalue: -1.9999999897451473, Algebraic multiplicity: 1\n"
     ]
    }
   ],
   "source": [
    "# (lambda)^3 + 2(lambda)^2 - 4(lambda) - 8 = 0\n",
    "\n",
    "from collections import Counter\n",
    "\n",
    "# Define the coefficients of the characteristic polynomial\n",
    "coefficients = [1, 2, -4, -8]\n",
    "\n",
    "# Compute the roots of the polynomial, which are the eigenvalues of the matrix\n",
    "eigenvalues = np.roots(coefficients)\n",
    "\n",
    "# Compute the algebraic multiplicities\n",
    "multiplicities = Counter(eigenvalues)\n",
    "\n",
    "# Print the eigenvalues and their algebraic multiplicities\n",
    "for eigenvalue, multiplicity in multiplicities.items():\n",
    "    print(f\"Eigenvalue: {eigenvalue}, Algebraic multiplicity: {multiplicity}\")"
   ]
  },
  {
   "cell_type": "code",
   "execution_count": 27,
   "metadata": {},
   "outputs": [
    {
     "name": "stdout",
     "output_type": "stream",
     "text": [
      "Eigenvalue: 2.0, Algebraic multiplicity: 1\n",
      "Eigenvalue: -2.0, Algebraic multiplicity: 2\n"
     ]
    }
   ],
   "source": [
    "from collections import Counter\n",
    "\n",
    "# Define the coefficients of the characteristic polynomial\n",
    "coefficients = [1, 2, -4, -8]\n",
    "\n",
    "# Compute the roots of the polynomial, which are the eigenvalues of the matrix\n",
    "eigenvalues = np.roots(coefficients)\n",
    "\n",
    "# Round the eigenvalues to mitigate precision issues\n",
    "eigenvalues = [round(ev, 5) for ev in eigenvalues]\n",
    "\n",
    "# Compute the algebraic multiplicities\n",
    "multiplicities = Counter(eigenvalues)\n",
    "\n",
    "# Print the eigenvalues and their algebraic multiplicities\n",
    "for eigenvalue, multiplicity in multiplicities.items():\n",
    "    print(f\"Eigenvalue: {eigenvalue}, Algebraic multiplicity: {multiplicity}\")"
   ]
  },
  {
   "cell_type": "code",
   "execution_count": 28,
   "metadata": {},
   "outputs": [
    {
     "name": "stdout",
     "output_type": "stream",
     "text": [
      "Eigenvalue: -4.0, Algebraic multiplicity: 1\n",
      "Eigenvalue: 4.0, Algebraic multiplicity: 2\n"
     ]
    }
   ],
   "source": [
    "from collections import Counter\n",
    "\n",
    "# Define the coefficients of the characteristic polynomial\n",
    "coefficients = [1, -4, -16, 64]\n",
    "\n",
    "# Compute the roots of the polynomial, which are the eigenvalues of the matrix\n",
    "eigenvalues = np.roots(coefficients)\n",
    "\n",
    "# Round the eigenvalues to mitigate precision issues\n",
    "eigenvalues = [round(ev, 5) for ev in eigenvalues]\n",
    "\n",
    "# Compute the algebraic multiplicities\n",
    "multiplicities = Counter(eigenvalues)\n",
    "\n",
    "# Print the eigenvalues and their algebraic multiplicities\n",
    "for eigenvalue, multiplicity in multiplicities.items():\n",
    "    print(f\"Eigenvalue: {eigenvalue}, Algebraic multiplicity: {multiplicity}\")"
   ]
  },
  {
   "cell_type": "code",
   "execution_count": 30,
   "metadata": {},
   "outputs": [
    {
     "name": "stdout",
     "output_type": "stream",
     "text": [
      "Geometric multiplicity of lambda = 5: 1\n",
      "Geometric multiplicity of lambda = 1: 3\n"
     ]
    }
   ],
   "source": [
    "# Geometric Multiplicities\n",
    "\n",
    "# Define the eigenbases for each eigenvalue\n",
    "eigenbasis_5 = [[5, 2, 7, 3]]\n",
    "eigenbasis_1 = [[-9, -4, 12, -8], [6, -2, 1, -5], [-6, -11, -7, 4]]\n",
    "\n",
    "# Compute the geometric multiplicities\n",
    "geometric_multiplicity_5 = len(eigenbasis_5)\n",
    "geometric_multiplicity_1 = len(eigenbasis_1)\n",
    "\n",
    "# Print the geometric multiplicities\n",
    "print(f\"Geometric multiplicity of lambda = 5: {geometric_multiplicity_5}\")\n",
    "print(f\"Geometric multiplicity of lambda = 1: {geometric_multiplicity_1}\")"
   ]
  },
  {
   "cell_type": "code",
   "execution_count": 31,
   "metadata": {},
   "outputs": [
    {
     "name": "stdout",
     "output_type": "stream",
     "text": [
      "[[ 16 -30]\n",
      " [  6 -11]]\n"
     ]
    }
   ],
   "source": [
    "# Define the matrices P, D, and P^-1\n",
    "P = np.array([[5, 2], [2, 1]])\n",
    "D = np.array([[4, 0], [0, 1]])\n",
    "P_inv = np.array([[1, -2], [-2, 5]])\n",
    "\n",
    "# Compute the product PDP^-1\n",
    "A = P @ D @ P_inv\n",
    "\n",
    "# Print the result\n",
    "print(A)"
   ]
  },
  {
   "attachments": {},
   "cell_type": "markdown",
   "metadata": {},
   "source": [
    "# Euclidean Inner Product = np.dot"
   ]
  },
  {
   "cell_type": "code",
   "execution_count": 32,
   "metadata": {},
   "outputs": [
    {
     "data": {
      "text/plain": [
       "-8"
      ]
     },
     "execution_count": 32,
     "metadata": {},
     "output_type": "execute_result"
    }
   ],
   "source": [
    "A = np.array([4, 2, -4])\n",
    "B = np.array([1, 0, 3])\n",
    "np.dot(A, B)"
   ]
  },
  {
   "cell_type": "code",
   "execution_count": 33,
   "metadata": {},
   "outputs": [
    {
     "data": {
      "text/plain": [
       "-7"
      ]
     },
     "execution_count": 33,
     "metadata": {},
     "output_type": "execute_result"
    }
   ],
   "source": [
    "A = np.array([-4, -1])\n",
    "B = np.array([1, 3])\n",
    "np.dot(A, B)"
   ]
  },
  {
   "cell_type": "code",
   "execution_count": 36,
   "metadata": {},
   "outputs": [
    {
     "name": "stdout",
     "output_type": "stream",
     "text": [
      "18\n"
     ]
    }
   ],
   "source": [
    "# -3(v1)(u1) - 2(v2)(u2)\n",
    "\n",
    "# Define the vectors\n",
    "u = np.array([-4, -1])\n",
    "v = np.array([1, 3])\n",
    "\n",
    "# Define the weights\n",
    "weights = np.array([-3, -2])\n",
    "\n",
    "# Calculate the weighted inner product\n",
    "inner_product = np.sum(weights * u * v)\n",
    "\n",
    "print(inner_product)"
   ]
  },
  {
   "cell_type": "code",
   "execution_count": 37,
   "metadata": {},
   "outputs": [
    {
     "name": "stdout",
     "output_type": "stream",
     "text": [
      "28\n"
     ]
    }
   ],
   "source": [
    "# 2(v1)(u1) - 4(v2)(u2)\n",
    "\n",
    "# Define the vectors\n",
    "u = np.array([-4, -3])\n",
    "v = np.array([-2, 1])\n",
    "\n",
    "# Define the weights\n",
    "weights = np.array([2, -4])\n",
    "\n",
    "# Calculate the weighted inner product\n",
    "inner_product = np.sum(weights * u * v)\n",
    "\n",
    "print(inner_product)"
   ]
  },
  {
   "attachments": {},
   "cell_type": "markdown",
   "metadata": {},
   "source": [
    "# Frobenius Product = np.sum"
   ]
  },
  {
   "cell_type": "code",
   "execution_count": 38,
   "metadata": {},
   "outputs": [
    {
     "name": "stdout",
     "output_type": "stream",
     "text": [
      "80\n"
     ]
    }
   ],
   "source": [
    "# Define the matrices\n",
    "A = np.array([[0, 2, -8], [-9, -2, -6]])\n",
    "B = np.array([[-9, -3, -2], [-6, -8, 0]])\n",
    "\n",
    "# Calculate the Frobenius inner product\n",
    "inner_product = np.sum(A * B)\n",
    "\n",
    "print(inner_product)"
   ]
  },
  {
   "cell_type": "code",
   "execution_count": 39,
   "metadata": {},
   "outputs": [
    {
     "name": "stdout",
     "output_type": "stream",
     "text": [
      "780.0\n"
     ]
    }
   ],
   "source": [
    "import scipy.integrate as spi\n",
    "\n",
    "# Define the functions\n",
    "def f(x):\n",
    "    return 16*x\n",
    "\n",
    "def g(x):\n",
    "    return 3*x**2\n",
    "\n",
    "# Define the inner product function\n",
    "def inner_product(x):\n",
    "    return f(x) * g(x)\n",
    "\n",
    "# Calculate the inner product\n",
    "inner_product_value, error = spi.quad(inner_product, -2, 3)\n",
    "\n",
    "print(inner_product_value)"
   ]
  },
  {
   "attachments": {},
   "cell_type": "markdown",
   "metadata": {},
   "source": [
    "# Euclidean Distance = np.norm"
   ]
  },
  {
   "cell_type": "code",
   "execution_count": 41,
   "metadata": {},
   "outputs": [
    {
     "name": "stdout",
     "output_type": "stream",
     "text": [
      "25.0\n"
     ]
    }
   ],
   "source": [
    "# Define the vectors\n",
    "m = np.array([-3, 4])\n",
    "n = np.array([-10, -20])\n",
    "\n",
    "# Compute the Euclidean distance\n",
    "distance = np.linalg.norm(m - n)\n",
    "\n",
    "print(distance)"
   ]
  },
  {
   "cell_type": "code",
   "execution_count": 45,
   "metadata": {},
   "outputs": [
    {
     "name": "stdout",
     "output_type": "stream",
     "text": [
      "3.0000000000000004\n"
     ]
    }
   ],
   "source": [
    "# Frobenius Distance\n",
    "\n",
    "# Define the matrices\n",
    "A = np.array([[-2/np.sqrt(18), -4/np.sqrt(18)], [4/np.sqrt(18), 3/np.sqrt(18)]])\n",
    "B = np.array([[-8/np.sqrt(18), -7/np.sqrt(18)], [13/np.sqrt(18), 9/np.sqrt(18)]])\n",
    "\n",
    "# Compute the Frobenius distance\n",
    "distance = np.linalg.norm(A - B)\n",
    "\n",
    "print(distance)"
   ]
  },
  {
   "cell_type": "code",
   "execution_count": 46,
   "metadata": {},
   "outputs": [
    {
     "name": "stdout",
     "output_type": "stream",
     "text": [
      "4.0\n"
     ]
    }
   ],
   "source": [
    "# Frobenius Distance\n",
    "\n",
    "# Define the matrices\n",
    "A = np.array([[-2/np.sqrt(18), 2/np.sqrt(18)], [-1/np.sqrt(18), 3/np.sqrt(18)]])\n",
    "B = np.array([[-10/np.sqrt(18), 14/np.sqrt(18)], [7/np.sqrt(18), -1/np.sqrt(18)]])\n",
    "\n",
    "# Compute the Frobenius distance\n",
    "distance = np.linalg.norm(A - B)\n",
    "\n",
    "print(distance)"
   ]
  },
  {
   "cell_type": "code",
   "execution_count": 47,
   "metadata": {},
   "outputs": [
    {
     "name": "stdout",
     "output_type": "stream",
     "text": [
      "14.0\n"
     ]
    }
   ],
   "source": [
    "# Weighted Euclidean Distance\n",
    "# u, v and weights w\n",
    "\n",
    "# Define the vectors and weights\n",
    "u = np.array([-4, 2])\n",
    "v = np.array([-9, -9])\n",
    "w = np.array([3, 1])\n",
    "\n",
    "# Compute the weighted Euclidean distance\n",
    "distance = np.sqrt(np.sum(w * (u - v)**2))\n",
    "\n",
    "print(distance)"
   ]
  },
  {
   "cell_type": "code",
   "execution_count": 50,
   "metadata": {},
   "outputs": [
    {
     "name": "stdout",
     "output_type": "stream",
     "text": [
      "3.0\n"
     ]
    }
   ],
   "source": [
    "from scipy.integrate import quad\n",
    "\n",
    "# Define the functions\n",
    "def f(x):\n",
    "    return 12*x - 1\n",
    "\n",
    "def g(x):\n",
    "    return 3*x + 5\n",
    "\n",
    "# Define the integrand\n",
    "def integrand(x):\n",
    "    return (f(x) - g(x))**2\n",
    "\n",
    "# Compute the integration distance\n",
    "result, error = quad(integrand, 0, 1)\n",
    "distance = np.sqrt(result)\n",
    "\n",
    "print(distance)"
   ]
  },
  {
   "cell_type": "code",
   "execution_count": 52,
   "metadata": {},
   "outputs": [
    {
     "name": "stdout",
     "output_type": "stream",
     "text": [
      "5.5677643628300215\n"
     ]
    }
   ],
   "source": [
    "# Weighted Integration Distance\n",
    "\n",
    "from scipy.integrate import quad\n",
    "\n",
    "# Define the functions\n",
    "def f(x):\n",
    "    return 5*x+1\n",
    "\n",
    "def g(x):\n",
    "    return 2*x-3\n",
    "\n",
    "# Define the integrand\n",
    "def integrand(x):\n",
    "    return (f(x) - g(x))**2\n",
    "\n",
    "# Compute the integration distance\n",
    "result, error = quad(integrand, 0, 1)\n",
    "distance = np.sqrt(result)\n",
    "\n",
    "print(distance)"
   ]
  },
  {
   "cell_type": "code",
   "execution_count": 54,
   "metadata": {},
   "outputs": [
    {
     "name": "stdout",
     "output_type": "stream",
     "text": [
      "4.69041575982343\n"
     ]
    }
   ],
   "source": [
    "# Weighted Integration Distance\n",
    "\n",
    "from scipy.integrate import quad\n",
    "\n",
    "# Define the functions\n",
    "def f(x):\n",
    "    return 3*x+1\n",
    "\n",
    "def g(x):\n",
    "    return 2*x+4\n",
    "\n",
    "# Define the weight function\n",
    "def w(x):\n",
    "    # replace this with your weight function\n",
    "    return 8*x\n",
    "\n",
    "# Define the integrand\n",
    "def integrand(x):\n",
    "    return w(x) * (f(x) - g(x))**2\n",
    "\n",
    "# Compute the weighted integration distance\n",
    "result, error = quad(integrand, 0, 1)\n",
    "distance = np.sqrt(result)\n",
    "\n",
    "print(distance)"
   ]
  },
  {
   "cell_type": "code",
   "execution_count": 55,
   "metadata": {},
   "outputs": [
    {
     "name": "stdout",
     "output_type": "stream",
     "text": [
      "5.744562646538029\n"
     ]
    }
   ],
   "source": [
    "# Weighted Integration Distance\n",
    "\n",
    "from scipy.integrate import quad\n",
    "\n",
    "# Define the functions\n",
    "def f(x):\n",
    "    return 3*x-1\n",
    "\n",
    "def g(x):\n",
    "    return 2*x+2\n",
    "\n",
    "# Define the weight function\n",
    "def w(x):\n",
    "    # replace this with your weight function\n",
    "    return 12*x\n",
    "\n",
    "# Define the integrand\n",
    "def integrand(x):\n",
    "    return w(x) * (f(x) - g(x))**2\n",
    "\n",
    "# Compute the weighted integration distance\n",
    "result, error = quad(integrand, 0, 1)\n",
    "distance = np.sqrt(result)\n",
    "\n",
    "print(distance)"
   ]
  },
  {
   "cell_type": "code",
   "execution_count": 56,
   "metadata": {},
   "outputs": [
    {
     "name": "stdout",
     "output_type": "stream",
     "text": [
      "5.0\n"
     ]
    }
   ],
   "source": [
    "# Define the vectors\n",
    "m = np.array([3, 4])\n",
    "\n",
    "# Compute the Euclidean distance\n",
    "distance = np.linalg.norm(m)\n",
    "\n",
    "print(distance)"
   ]
  },
  {
   "cell_type": "code",
   "execution_count": 59,
   "metadata": {},
   "outputs": [
    {
     "name": "stdout",
     "output_type": "stream",
     "text": [
      "4.0\n"
     ]
    }
   ],
   "source": [
    "# Frobenius Norm\n",
    "\n",
    "# Define the matrix\n",
    "A = np.array([[8/np.sqrt(10), -8/np.sqrt(10)], [4/np.sqrt(10), -4/np.sqrt(10)]])\n",
    "\n",
    "# Compute the Frobenius norm\n",
    "norm = np.linalg.norm(A)\n",
    "\n",
    "print(norm)"
   ]
  },
  {
   "cell_type": "code",
   "execution_count": 60,
   "metadata": {},
   "outputs": [
    {
     "name": "stdout",
     "output_type": "stream",
     "text": [
      "1.0\n"
     ]
    }
   ],
   "source": [
    "# Frobenius Norm\n",
    "\n",
    "# Define the matrix\n",
    "A = np.array([[2/np.sqrt(18), -2/np.sqrt(18)], [3/np.sqrt(18), 1/np.sqrt(18)]])\n",
    "\n",
    "# Compute the Frobenius norm\n",
    "norm = np.linalg.norm(A)\n",
    "\n",
    "print(norm)"
   ]
  },
  {
   "cell_type": "code",
   "execution_count": 61,
   "metadata": {},
   "outputs": [
    {
     "name": "stdout",
     "output_type": "stream",
     "text": [
      "11.0\n"
     ]
    }
   ],
   "source": [
    "# Weighted Euclidean Distance\n",
    "# v and weights w\n",
    "\n",
    "# Define the vectors and weights\n",
    "v = np.array([7, 6])\n",
    "w = np.array([1, 2])\n",
    "\n",
    "# Compute the weighted Euclidean distance\n",
    "distance = np.sqrt(np.sum(w * (v)**2))\n",
    "\n",
    "print(distance)"
   ]
  },
  {
   "cell_type": "code",
   "execution_count": 63,
   "metadata": {},
   "outputs": [
    {
     "name": "stdout",
     "output_type": "stream",
     "text": [
      "The integration norm is: 10.5\n"
     ]
    }
   ],
   "source": [
    "# Integration Norm of the given polynomial on C[0, 1]\n",
    "# f(x) = 9x+6\n",
    "\n",
    "from scipy.integrate import quad\n",
    "\n",
    "# Define the function\n",
    "def f(x):\n",
    "    return 9*x + 6\n",
    "\n",
    "# Perform the integration\n",
    "result, error = quad(f, 0, 1)\n",
    "\n",
    "print(\"The integration norm is:\", result)"
   ]
  },
  {
   "cell_type": "code",
   "execution_count": 64,
   "metadata": {},
   "outputs": [
    {
     "name": "stdout",
     "output_type": "stream",
     "text": [
      "1.7320508075688774\n"
     ]
    }
   ],
   "source": [
    "# Weighted Integration norm <f, f> = ∫(0, 1)f(x)f(x)w(x)dx of the given polynomial on C[0,1]\n",
    "# f(x) = x+3 with w(x) = 4x\n",
    "\n"
   ]
  },
  {
   "cell_type": "code",
   "execution_count": 66,
   "metadata": {},
   "outputs": [
    {
     "name": "stdout",
     "output_type": "stream",
     "text": [
      "5.744562646538029\n"
     ]
    }
   ],
   "source": [
    "# Weighted Integration Norm\n",
    "\n",
    "from scipy.integrate import quad\n",
    "\n",
    "# Define the functions\n",
    "def f(x):\n",
    "    return x-3\n",
    "\n",
    "# Define the weight function\n",
    "def w(x):\n",
    "    # replace this with your weight function\n",
    "    return 12*x\n",
    "\n",
    "# Define the integrand\n",
    "def integrand(x):\n",
    "    return w(x) * (f(x))**2\n",
    "\n",
    "# Compute the weighted integration distance\n",
    "result, error = quad(integrand, 0, 1)\n",
    "distance = np.sqrt(result)\n",
    "\n",
    "print(distance)"
   ]
  },
  {
   "attachments": {},
   "cell_type": "markdown",
   "metadata": {},
   "source": [
    "# Orthogonal Basis"
   ]
  },
  {
   "cell_type": "code",
   "execution_count": 68,
   "metadata": {},
   "outputs": [
    {
     "name": "stdout",
     "output_type": "stream",
     "text": [
      "v1: [-3  0]\n",
      "v2: [0. 2.]\n"
     ]
    }
   ],
   "source": [
    "# Define the original vectors\n",
    "u1 = np.array([-3, 0])\n",
    "u2 = np.array([-4, 2])\n",
    "\n",
    "# Initialize the orthogonal vectors\n",
    "v1 = u1\n",
    "v2 = u2\n",
    "\n",
    "# Apply the Gram-Schmidt process\n",
    "v2 = u2 - (np.dot(u2, v1) / np.dot(v1, v1)) * v1\n",
    "\n",
    "# Print the orthogonal vectors\n",
    "print(\"v1:\", v1)\n",
    "print(\"v2:\", v2)"
   ]
  },
  {
   "cell_type": "code",
   "execution_count": 69,
   "metadata": {},
   "outputs": [
    {
     "name": "stdout",
     "output_type": "stream",
     "text": [
      "v1: [2 4 0]\n",
      "v2: [-40.  20.  20.]\n",
      "v3: [ 0.93333333 -0.46666667  2.33333333]\n"
     ]
    }
   ],
   "source": [
    "# Define the original vectors\n",
    "u1 = np.array([2, 4, 0])\n",
    "u2 = np.array([-40, 20, 20])\n",
    "u3 = np.array([3, -3, 1])\n",
    "\n",
    "# Initialize the orthogonal vectors\n",
    "v1 = u1\n",
    "v2 = u2\n",
    "v3 = u3\n",
    "\n",
    "# Apply the Gram-Schmidt process\n",
    "v2 = u2 - (np.dot(u2, v1) / np.dot(v1, v1)) * v1\n",
    "v3 = u3 - (np.dot(u3, v1) / np.dot(v1, v1)) * v1 - (np.dot(u3, v2) / np.dot(v2, v2)) * v2\n",
    "\n",
    "# Print the orthogonal vectors\n",
    "print(\"v1:\", v1)\n",
    "print(\"v2:\", v2)\n",
    "print(\"v3:\", v3)"
   ]
  },
  {
   "cell_type": "code",
   "execution_count": 70,
   "metadata": {},
   "outputs": [
    {
     "name": "stdout",
     "output_type": "stream",
     "text": [
      "v1: [-1  0  0]\n",
      "v2: [ 0. -3.  0.]\n",
      "v3: [ 0.  0. -4.]\n"
     ]
    }
   ],
   "source": [
    "# Define the original vectors\n",
    "u1 = np.array([-1, 0, 0])\n",
    "u2 = np.array([1, -3, 0])\n",
    "u3 = np.array([2, 3, -4])\n",
    "\n",
    "# Initialize the orthogonal vectors\n",
    "v1 = u1\n",
    "v2 = u2\n",
    "v3 = u3\n",
    "\n",
    "# Apply the Gram-Schmidt process\n",
    "v2 = u2 - (np.dot(u2, v1) / np.dot(v1, v1)) * v1\n",
    "v3 = u3 - (np.dot(u3, v1) / np.dot(v1, v1)) * v1 - (np.dot(u3, v2) / np.dot(v2, v2)) * v2\n",
    "\n",
    "# Print the orthogonal vectors\n",
    "print(\"v1:\", v1)\n",
    "print(\"v2:\", v2)\n",
    "print(\"v3:\", v3)"
   ]
  },
  {
   "cell_type": "code",
   "execution_count": 71,
   "metadata": {},
   "outputs": [
    {
     "name": "stdout",
     "output_type": "stream",
     "text": [
      "v1: [2 0 0]\n",
      "v2: [0. 1. 0.]\n",
      "v3: [ 0.  0. -2.]\n"
     ]
    }
   ],
   "source": [
    "# Define the original vectors\n",
    "u1 = np.array([2, 0, 0])\n",
    "u2 = np.array([-1, 1, 0])\n",
    "u3 = np.array([-3, 3, -2])\n",
    "\n",
    "# Initialize the orthogonal vectors\n",
    "v1 = u1\n",
    "v2 = u2\n",
    "v3 = u3\n",
    "\n",
    "# Apply the Gram-Schmidt process\n",
    "v2 = u2 - (np.dot(u2, v1) / np.dot(v1, v1)) * v1\n",
    "v3 = u3 - (np.dot(u3, v1) / np.dot(v1, v1)) * v1 - (np.dot(u3, v2) / np.dot(v2, v2)) * v2\n",
    "\n",
    "# Print the orthogonal vectors\n",
    "print(\"v1:\", v1)\n",
    "print(\"v2:\", v2)\n",
    "print(\"v3:\", v3)"
   ]
  },
  {
   "cell_type": "code",
   "execution_count": 73,
   "metadata": {},
   "outputs": [
    {
     "name": "stdout",
     "output_type": "stream",
     "text": [
      "V1:\n",
      " [[-1  0]\n",
      " [-2  2]]\n",
      "V2:\n",
      " [[ -4. -18.]\n",
      " [ 10.   8.]]\n",
      "V3:\n",
      " [[-1.00000000e+00  5.00000000e-01]\n",
      " [ 5.00000000e-01  1.11022302e-16]]\n"
     ]
    }
   ],
   "source": [
    "# Define the original matrices\n",
    "U1 = np.array([[-1, 0], [-2, 2]])\n",
    "U2 = np.array([[0, -18], [18, 0]])\n",
    "U3 = np.array([[-2, -1], [0, 2]])\n",
    "\n",
    "# Initialize the orthogonal matrices\n",
    "V1 = U1\n",
    "V2 = U2\n",
    "V3 = U3\n",
    "\n",
    "# Define the Frobenius inner product\n",
    "def frobenius_inner_product(A, B):\n",
    "    return np.sum(A * B)\n",
    "\n",
    "# Apply the Gram-Schmidt process\n",
    "V2 = U2 - (frobenius_inner_product(U2, V1) / frobenius_inner_product(V1, V1)) * V1\n",
    "V3 = U3 - (frobenius_inner_product(U3, V1) / frobenius_inner_product(V1, V1)) * V1 - (frobenius_inner_product(U3, V2) / frobenius_inner_product(V2, V2)) * V2\n",
    "\n",
    "# Print the orthogonal matrices\n",
    "print(\"V1:\\n\", V1)\n",
    "print(\"V2:\\n\", V2)\n",
    "print(\"V3:\\n\", V3)"
   ]
  },
  {
   "cell_type": "code",
   "execution_count": 74,
   "metadata": {},
   "outputs": [
    {
     "name": "stdout",
     "output_type": "stream",
     "text": [
      "V1:\n",
      " [[ 1  0]\n",
      " [-2 -1]]\n",
      "V2:\n",
      " [[ 2.  6.]\n",
      " [ 2. -2.]]\n",
      "V3:\n",
      " [[ 1.75 -0.75]\n",
      " [ 0.75  0.25]]\n"
     ]
    }
   ],
   "source": [
    "# Define the original matrices\n",
    "U1 = np.array([[1, 0], [-2, -1]])\n",
    "U2 = np.array([[0, 6], [6, 0]])\n",
    "U3 = np.array([[1, -3], [0, 1]])\n",
    "\n",
    "# Initialize the orthogonal matrices\n",
    "V1 = U1\n",
    "V2 = U2\n",
    "V3 = U3\n",
    "\n",
    "# Define the Frobenius inner product\n",
    "def frobenius_inner_product(A, B):\n",
    "    return np.sum(A * B)\n",
    "\n",
    "# Apply the Gram-Schmidt process\n",
    "V2 = U2 - (frobenius_inner_product(U2, V1) / frobenius_inner_product(V1, V1)) * V1\n",
    "V3 = U3 - (frobenius_inner_product(U3, V1) / frobenius_inner_product(V1, V1)) * V1 - (frobenius_inner_product(U3, V2) / frobenius_inner_product(V2, V2)) * V2\n",
    "\n",
    "# Print the orthogonal matrices\n",
    "print(\"V1:\\n\", V1)\n",
    "print(\"V2:\\n\", V2)\n",
    "print(\"V3:\\n\", V3)"
   ]
  },
  {
   "attachments": {},
   "cell_type": "markdown",
   "metadata": {},
   "source": [
    "# Orthogonal Projection"
   ]
  },
  {
   "cell_type": "code",
   "execution_count": 76,
   "metadata": {},
   "outputs": [
    {
     "name": "stdout",
     "output_type": "stream",
     "text": [
      "[ 3.  0. -3.  6.]\n"
     ]
    }
   ],
   "source": [
    "# Define the vectors\n",
    "y = np.array([5, 1, -7, 3])\n",
    "u = np.array([1, 0, -1, 2])\n",
    "\n",
    "# Calculate the dot products\n",
    "dot_product_yu = np.dot(y, u)\n",
    "dot_product_uu = np.dot(u, u)\n",
    "\n",
    "# Calculate the scalar multiple\n",
    "scalar = dot_product_yu / dot_product_uu\n",
    "\n",
    "# Calculate the orthogonal projection\n",
    "projection = scalar * u\n",
    "\n",
    "print(projection)"
   ]
  },
  {
   "cell_type": "code",
   "execution_count": 78,
   "metadata": {},
   "outputs": [
    {
     "name": "stdout",
     "output_type": "stream",
     "text": [
      "[-4. -0.  5.]\n"
     ]
    }
   ],
   "source": [
    "# Define the vectors\n",
    "y = np.array([-4, 1, 5])\n",
    "u1 = np.array([2, 0, -3])\n",
    "u2 = np.array([3, 0, 2])\n",
    "\n",
    "# Calculate the dot products\n",
    "dot_product_yu1 = np.dot(y, u1)\n",
    "dot_product_u1u1 = np.dot(u1, u1)\n",
    "dot_product_yu2 = np.dot(y, u2)\n",
    "dot_product_u2u2 = np.dot(u2, u2)\n",
    "\n",
    "# Calculate the scalar multiples\n",
    "scalar1 = dot_product_yu1 / dot_product_u1u1\n",
    "scalar2 = dot_product_yu2 / dot_product_u2u2\n",
    "\n",
    "# Calculate the orthogonal projections\n",
    "projection1 = scalar1 * u1\n",
    "projection2 = scalar2 * u2\n",
    "\n",
    "# The orthogonal projection of y onto W is the sum of the projections onto u1 and u2\n",
    "projection = projection1 + projection2\n",
    "\n",
    "print(projection)"
   ]
  },
  {
   "cell_type": "code",
   "execution_count": 79,
   "metadata": {},
   "outputs": [
    {
     "name": "stdout",
     "output_type": "stream",
     "text": [
      "[1 1 1]\n"
     ]
    }
   ],
   "source": [
    "# Define the vectors\n",
    "y = np.array([2, 5, 1])\n",
    "y_parallel_W = np.array([1, 4, 0])  # replace with the actual values of y_parallel_W\n",
    "\n",
    "# Calculate y_perp_W\n",
    "y_perp_W = y - y_parallel_W\n",
    "\n",
    "print(y_perp_W)"
   ]
  },
  {
   "cell_type": "code",
   "execution_count": 83,
   "metadata": {},
   "outputs": [
    {
     "name": "stdout",
     "output_type": "stream",
     "text": [
      "v1: [3 0 0]\n",
      "v2: [0. 2. 0.]\n",
      "v3: [0. 0. 1.]\n"
     ]
    }
   ],
   "source": [
    "# For A, find the orthogonal vectors v1, v2, v3 to be used in constructing the orthogonal matrix Q\n",
    "\n",
    "# Define the column vectors of A\n",
    "a1 = np.array([3, 0, 0])\n",
    "a2 = np.array([-1, 2, 0])\n",
    "a3 = np.array([-3, -4, 1])\n",
    "\n",
    "# Apply the Gram-Schmidt process\n",
    "v1 = a1\n",
    "v2 = a2 - np.dot(a2, v1) / np.dot(v1, v1) * v1\n",
    "v3 = a3 - np.dot(a3, v1) / np.dot(v1, v1) * v1 - np.dot(a3, v2) / np.dot(v2, v2) * v2\n",
    "\n",
    "print(\"v1:\", v1)\n",
    "print(\"v2:\", v2)\n",
    "print(\"v3:\", v3)"
   ]
  },
  {
   "cell_type": "code",
   "execution_count": 89,
   "metadata": {},
   "outputs": [
    {
     "name": "stdout",
     "output_type": "stream",
     "text": [
      "[[ 0.4472136   0.36514837 -0.8181263 ]\n",
      " [ 0.         -0.91287093 -0.40661367]\n",
      " [-0.89442719  0.18257419 -0.40661367]]\n"
     ]
    }
   ],
   "source": [
    "# Find Q for the QR factorization of A given the orthogonal vectors v1, v2, v3\n",
    "\n",
    "# Define the vectors\n",
    "v1 = np.array([1, 0, -2])\n",
    "v2 = np.array([4, -10, 2])\n",
    "v3 = np.array([-1.67, -0.83, -0.83])\n",
    "\n",
    "# Calculate the norms of the vectors\n",
    "norm_v1 = np.linalg.norm(v1)\n",
    "norm_v2 = np.linalg.norm(v2)\n",
    "norm_v3 = np.linalg.norm(v3)\n",
    "\n",
    "# Normalize the vectors\n",
    "v1_normalized = v1 / norm_v1\n",
    "v2_normalized = v2 / norm_v2\n",
    "v3_normalized = v3 / norm_v3\n",
    "\n",
    "# Form the Q matrix\n",
    "Q = np.column_stack((v1_normalized, v2_normalized, v3_normalized))\n",
    "\n",
    "print(Q)"
   ]
  },
  {
   "cell_type": "code",
   "execution_count": 91,
   "metadata": {},
   "outputs": [
    {
     "name": "stdout",
     "output_type": "stream",
     "text": [
      "Matrix R:\n",
      "[[ 5.68  1.42  0.71]\n",
      " [ 0.    1.74 -0.58]\n",
      " [ 0.    0.    0.41]]\n"
     ]
    }
   ],
   "source": [
    "# Find QR factorization of A given Q\n",
    "\n",
    "# Define matrix A\n",
    "A = np.array([\n",
    "    [0, -1, 0],\n",
    "    [4, 0, 1],\n",
    "    [-4, -2, 0]\n",
    "])\n",
    "\n",
    "# Define matrix Q\n",
    "Q = np.array([\n",
    "    [0, -0.58, -0.82],\n",
    "    [0.71, -0.58, 0.41],\n",
    "    [-0.71, -0.58, 0.41]\n",
    "])\n",
    "\n",
    "# Compute R\n",
    "R = np.dot(Q.T, A)\n",
    "\n",
    "print(\"Matrix R:\")\n",
    "print(R)"
   ]
  },
  {
   "cell_type": "code",
   "execution_count": 94,
   "metadata": {},
   "outputs": [
    {
     "name": "stdout",
     "output_type": "stream",
     "text": [
      "Matrix R:\n",
      "[[ 5.68000000e+00  7.10000000e-01 -2.13000000e+00]\n",
      " [ 0.00000000e+00  3.07000000e+00  4.80000000e-01]\n",
      " [ 0.00000000e+00 -1.11022302e-16  2.07000000e+00]]\n"
     ]
    }
   ],
   "source": [
    "# Find QR factorization of A given Q\n",
    "\n",
    "# Define matrix A\n",
    "A = np.array([\n",
    "    [0, 3, 0],\n",
    "    [4, 0, -3],\n",
    "    [-4, -1, 0]\n",
    "])\n",
    "\n",
    "# Define matrix Q\n",
    "Q = np.array([\n",
    "    [0, 0.97, -0.23],\n",
    "    [0.71, -0.16, -0.69],\n",
    "    [-0.71, -0.16, -0.69]\n",
    "])\n",
    "\n",
    "# Compute R\n",
    "R = np.dot(Q.T, A)\n",
    "\n",
    "print(\"Matrix R:\")\n",
    "print(R)"
   ]
  },
  {
   "cell_type": "code",
   "execution_count": 95,
   "metadata": {},
   "outputs": [
    {
     "name": "stdout",
     "output_type": "stream",
     "text": [
      "Matrix Q:\n",
      "[[ 0.70710678  0.70710678]\n",
      " [-0.70710678  0.70710678]]\n",
      "\n",
      "Matrix R:\n",
      "[[1.41421356e+00 2.12132034e+00]\n",
      " [2.22044605e-16 2.12132034e+00]]\n"
     ]
    }
   ],
   "source": [
    "# Find the QR factorization of A\n",
    "\n",
    "# Define matrix A\n",
    "A = np.array([\n",
    "    [1, 3],\n",
    "    [-1, 0]\n",
    "])\n",
    "\n",
    "# Calculate the first column of Q (q1) as the normalization of the first column of A\n",
    "q1 = A[:, 0] / np.linalg.norm(A[:, 0])\n",
    "\n",
    "# Calculate the second column of Q (q2) as the orthogonalization of the second column of A with respect to q1, and then normalize it\n",
    "q2 = (A[:, 1] - np.dot(q1, A[:, 1]) * q1) / np.linalg.norm(A[:, 1] - np.dot(q1, A[:, 1]) * q1)\n",
    "\n",
    "# Form the Q matrix\n",
    "Q = np.column_stack((q1, q2))\n",
    "\n",
    "# Compute R\n",
    "R = np.dot(Q.T, A)\n",
    "\n",
    "print(\"Matrix Q:\")\n",
    "print(Q)\n",
    "print(\"\\nMatrix R:\")\n",
    "print(R)"
   ]
  },
  {
   "cell_type": "code",
   "execution_count": 96,
   "metadata": {},
   "outputs": [
    {
     "name": "stdout",
     "output_type": "stream",
     "text": [
      "Sigma matrix:\n",
      "[[2.44948974 0.        ]\n",
      " [0.         1.        ]\n",
      " [0.         0.        ]\n",
      " [0.         0.        ]]\n"
     ]
    }
   ],
   "source": [
    "# In a singular value decomposition of matrix A where the eigenvalues of (A^T)A are (lambda)1 and (lambda)2, what is Sigma?\n",
    "\n",
    "# Define the eigenvalues\n",
    "eigenvalues = np.array([6, 1])\n",
    "\n",
    "# Calculate the singular values as the square roots of the eigenvalues\n",
    "singular_values = np.sqrt(eigenvalues)\n",
    "\n",
    "# Create the Sigma matrix\n",
    "Sigma = np.zeros((4, 2))\n",
    "Sigma[0, 0] = singular_values[0]\n",
    "Sigma[1, 1] = singular_values[1]\n",
    "\n",
    "print(\"Sigma matrix:\")\n",
    "print(Sigma)"
   ]
  },
  {
   "cell_type": "code",
   "execution_count": 98,
   "metadata": {},
   "outputs": [
    {
     "name": "stdout",
     "output_type": "stream",
     "text": [
      "Matrix V:\n"
     ]
    },
    {
     "data": {
      "text/latex": [
       "$\\displaystyle \\left[\\begin{matrix}- \\frac{2 \\sqrt{5}}{5} & \\frac{\\sqrt{5}}{5}\\\\\\frac{\\sqrt{5}}{5} & \\frac{2 \\sqrt{5}}{5}\\end{matrix}\\right]$"
      ],
      "text/plain": [
       "Matrix([\n",
       "[-2*sqrt(5)/5,   sqrt(5)/5],\n",
       "[   sqrt(5)/5, 2*sqrt(5)/5]])"
      ]
     },
     "execution_count": 98,
     "metadata": {},
     "output_type": "execute_result"
    }
   ],
   "source": [
    "from sympy import Matrix, sqrt\n",
    "\n",
    "# Define the matrix A\n",
    "A = Matrix([\n",
    "    [1, 0],\n",
    "    [0, 1],\n",
    "    [0, 0],\n",
    "    [-2, 1]\n",
    "])\n",
    "\n",
    "# Compute A^T * A\n",
    "AtA = A.transpose() * A\n",
    "\n",
    "# Compute the eigenvectors of A^T * A\n",
    "eigenvectors = AtA.eigenvects()\n",
    "\n",
    "# Extract the eigenvectors corresponding to the eigenvalues 6 and 1\n",
    "# Note: The eigenvects() function returns a list of tuples, where each tuple is of the form (eigenvalue, multiplicity, [eigenvector])\n",
    "v1 = eigenvectors[0][2][0] if eigenvectors[0][0] == 6 else eigenvectors[1][2][0]\n",
    "v2 = eigenvectors[0][2][0] if eigenvectors[0][0] == 1 else eigenvectors[1][2][0]\n",
    "\n",
    "# Normalize the eigenvectors\n",
    "v1_normalized = v1 / v1.norm()\n",
    "v2_normalized = v2 / v2.norm()\n",
    "\n",
    "# Form the V matrix\n",
    "V = Matrix.hstack(v1_normalized, v2_normalized)\n",
    "\n",
    "print(\"Matrix V:\")\n",
    "V"
   ]
  },
  {
   "cell_type": "code",
   "execution_count": 99,
   "metadata": {},
   "outputs": [
    {
     "name": "stdout",
     "output_type": "stream",
     "text": [
      "Matrix U:\n",
      "[[ 0.70733864 -0.71      ]\n",
      " [ 0.70733864  0.71      ]]\n"
     ]
    }
   ],
   "source": [
    "# In a singular value decomposition of matrix A with Sigma and V, what is U?\n",
    "\n",
    "# Define the matrix A\n",
    "A = np.array([\n",
    "    [8, -4, -4, 0],\n",
    "    [0, -4, -4, 8]\n",
    "])\n",
    "\n",
    "# Define the matrix Sigma\n",
    "Sigma = np.array([\n",
    "    [11.31, 0, 0, 0],\n",
    "    [0, 8, 0, 0]\n",
    "])\n",
    "\n",
    "# Define the matrix V\n",
    "V = np.array([\n",
    "    [0.5, -0.71, 0.41, 0],\n",
    "    [-0.5, 0, 0.82, -0.71],\n",
    "    [-0.5, 0, 0, 0.71],\n",
    "    [0.5, 0.71, 0.41, 0]\n",
    "])\n",
    "\n",
    "# Compute U\n",
    "U = A @ V[:, :2] @ np.linalg.inv(Sigma[:2, :2])\n",
    "\n",
    "print(\"Matrix U:\")\n",
    "print(U)"
   ]
  },
  {
   "attachments": {},
   "cell_type": "markdown",
   "metadata": {},
   "source": [
    "# Pseudoinverse"
   ]
  },
  {
   "cell_type": "code",
   "execution_count": 101,
   "metadata": {},
   "outputs": [
    {
     "name": "stdout",
     "output_type": "stream",
     "text": [
      "[[ 1.00000000e+00 -1.00000000e+00]\n",
      " [-8.51707167e-17  1.00000000e+00]]\n"
     ]
    }
   ],
   "source": [
    "# Define the matrix\n",
    "A = np.array([[1, 1], [0, 1]])\n",
    "\n",
    "# Compute the pseudoinverse\n",
    "A_pinv = np.linalg.pinv(A)\n",
    "\n",
    "print(A_pinv)"
   ]
  },
  {
   "cell_type": "code",
   "execution_count": 102,
   "metadata": {},
   "outputs": [
    {
     "name": "stdout",
     "output_type": "stream",
     "text": [
      "[[0.33333333 0.16666667 0.16666667]]\n"
     ]
    }
   ],
   "source": [
    "# Define the matrix\n",
    "A = np.array([[2], [1], [1]])\n",
    "\n",
    "# Compute the pseudoinverse\n",
    "A_pinv = np.linalg.pinv(A)\n",
    "\n",
    "print(A_pinv)"
   ]
  },
  {
   "cell_type": "code",
   "execution_count": 103,
   "metadata": {},
   "outputs": [
    {
     "name": "stdout",
     "output_type": "stream",
     "text": [
      "[[0.2 0.2]\n",
      " [0.1 0.1]]\n"
     ]
    }
   ],
   "source": [
    "# Define the matrix\n",
    "A = np.array([[2, 1], [2, 1]])\n",
    "\n",
    "# Compute the pseudoinverse\n",
    "A_pinv = np.linalg.pinv(A)\n",
    "\n",
    "print(A_pinv)"
   ]
  },
  {
   "attachments": {},
   "cell_type": "markdown",
   "metadata": {},
   "source": [
    "# Conjugate Transpose"
   ]
  },
  {
   "cell_type": "code",
   "execution_count": 104,
   "metadata": {},
   "outputs": [
    {
     "name": "stdout",
     "output_type": "stream",
     "text": [
      "[[ 1.+4.j  3.+1.j]\n",
      " [-3.+2.j  2.-4.j]]\n"
     ]
    }
   ],
   "source": [
    "# Define the matrix\n",
    "A = np.array([[1-4j, -3-2j], [3-1j, 2+4j]])\n",
    "\n",
    "# Compute the conjugate transpose\n",
    "A_star = A.conj().T\n",
    "\n",
    "print(A_star)"
   ]
  },
  {
   "cell_type": "code",
   "execution_count": 105,
   "metadata": {},
   "outputs": [
    {
     "name": "stdout",
     "output_type": "stream",
     "text": [
      "[[-2.-0.j  0.-1.j]\n",
      " [ 4.+3.j  2.+5.j]]\n"
     ]
    }
   ],
   "source": [
    "# Define the matrix\n",
    "A = np.array([[-2, 4-3j], [1j, 2-5j]])\n",
    "\n",
    "# Compute the conjugate transpose\n",
    "A_star = A.conj().T\n",
    "\n",
    "print(A_star)"
   ]
  },
  {
   "cell_type": "code",
   "execution_count": 106,
   "metadata": {},
   "outputs": [
    {
     "name": "stdout",
     "output_type": "stream",
     "text": [
      "[[-4.-0.j  0.-3.j]\n",
      " [-3.-1.j  2.+2.j]]\n"
     ]
    }
   ],
   "source": [
    "# Define the matrix\n",
    "A = np.array([[-4, -3+1j], [3j, 2-2j]])\n",
    "\n",
    "# Compute the conjugate transpose\n",
    "A_star = A.conj().T\n",
    "\n",
    "print(A_star)"
   ]
  },
  {
   "cell_type": "code",
   "execution_count": 107,
   "metadata": {},
   "outputs": [
    {
     "name": "stdout",
     "output_type": "stream",
     "text": [
      "[[-7.-0.j  1.+3.j]\n",
      " [-2.+6.j  4.-3.j]\n",
      " [-5.-2.j -1.-6.j]]\n"
     ]
    }
   ],
   "source": [
    "# Define the matrix\n",
    "A = np.array([[-7, -2-6j, -5+2j], [1-3j, 4+3j, -1+6j]])\n",
    "\n",
    "# Compute the conjugate transpose\n",
    "A_star = A.conj().T\n",
    "\n",
    "print(A_star)"
   ]
  },
  {
   "cell_type": "code",
   "execution_count": 108,
   "metadata": {},
   "outputs": [
    {
     "name": "stdout",
     "output_type": "stream",
     "text": [
      "(A^T)A:\n",
      "[[   4   72]\n",
      " [  72 1342]]\n",
      "(A^T)b:\n",
      "[[ 1263.8]\n",
      " [23400.8]]\n"
     ]
    }
   ],
   "source": [
    "# Calculate (A^T)A and (A^T)b given A and b\n",
    "\n",
    "# Define the matrix A and vector b\n",
    "A = np.array([[1, 13], [1, 22], [1, 17], [1, 20]])\n",
    "b = np.array([[242.8], [368.8], [304.4], [347.8]])\n",
    "\n",
    "# Compute (A^T)A\n",
    "AtA = np.dot(A.T, A)\n",
    "\n",
    "# Compute (A^T)b\n",
    "Atb = np.dot(A.T, b)\n",
    "\n",
    "print(\"(A^T)A:\")\n",
    "print(AtA)\n",
    "\n",
    "print(\"(A^T)b:\")\n",
    "print(Atb)"
   ]
  },
  {
   "cell_type": "code",
   "execution_count": 110,
   "metadata": {},
   "outputs": [
    {
     "name": "stdout",
     "output_type": "stream",
     "text": [
      "The coefficients are: [70.65310345 18.42827586]\n"
     ]
    }
   ],
   "source": [
    "# Find the least-squares line given the matrix products (A^T)A and (A^T)b\n",
    "\n",
    "# Define the matrix (A^T)A and vector (A^T)b\n",
    "AtA = np.array([[4, 42], [42, 586]])\n",
    "Atb = np.array([1056.6, 13766.4])\n",
    "\n",
    "# Solve for x\n",
    "x = np.linalg.solve(AtA, Atb)\n",
    "\n",
    "print(\"The coefficients are:\", x)\n",
    "\n",
    "# y = 70.65 + 18.73x"
   ]
  },
  {
   "cell_type": "code",
   "execution_count": 115,
   "metadata": {},
   "outputs": [
    {
     "name": "stdout",
     "output_type": "stream",
     "text": [
      "The coefficients are: [-25.05   23.375]\n"
     ]
    }
   ],
   "source": [
    "# Find the least-squares line given the matrix products (A^T)A and (A^T)b\n",
    "\n",
    "# Define the matrix (A^T)A and vector (A^T)b\n",
    "AtA = np.array([[4, 72], [72, 1304]])\n",
    "Atb = np.array([1582.8, 28677.4])\n",
    "\n",
    "# Solve for x\n",
    "x = np.linalg.solve(AtA, Atb)\n",
    "\n",
    "print(\"The coefficients are:\", x)\n",
    "\n",
    "# y = -25.05 + 23.375x"
   ]
  },
  {
   "cell_type": "code",
   "execution_count": null,
   "metadata": {},
   "outputs": [],
   "source": []
  }
 ],
 "metadata": {
  "kernelspec": {
   "display_name": "Env1",
   "language": "python",
   "name": "python3"
  },
  "language_info": {
   "codemirror_mode": {
    "name": "ipython",
    "version": 3
   },
   "file_extension": ".py",
   "mimetype": "text/x-python",
   "name": "python",
   "nbconvert_exporter": "python",
   "pygments_lexer": "ipython3",
   "version": "3.10.11"
  },
  "orig_nbformat": 4
 },
 "nbformat": 4,
 "nbformat_minor": 2
}
