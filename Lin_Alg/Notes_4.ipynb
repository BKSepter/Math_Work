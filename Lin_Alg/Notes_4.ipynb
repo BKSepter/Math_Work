{
 "cells": [
  {
   "cell_type": "code",
   "execution_count": 72,
   "metadata": {},
   "outputs": [],
   "source": [
    "import sympy as smp\n",
    "from sympy import *\n",
    "import numpy as np\n",
    "from numpy import *\n",
    "import scipy as sp\n",
    "from scipy.integrate import solve_ivp\n",
    "from scipy.interpolate import interp1d\n",
    "from scipy.integrate import odeint\n",
    "from fractions import Fraction\n",
    "import matplotlib.pyplot as plt\n",
    "import scienceplots\n",
    "plt.style.use(['science', 'notebook', 'grid'])\n",
    "\n",
    "x, y, t, n, a, b, C, c, r, u, s, A, d = smp.symbols('x y t n a b C c r u s A d')\n",
    "f, g, m = smp.symbols('f g m', cls=smp.Function)"
   ]
  },
  {
   "attachments": {},
   "cell_type": "markdown",
   "metadata": {},
   "source": [
    "# Evaluating transformations"
   ]
  },
  {
   "attachments": {},
   "cell_type": "markdown",
   "metadata": {},
   "source": [
    "T: R^2 -> R^2\n",
    "\n",
    "T(x) = [\n",
    "    (x1)(x2)\n",
    "    \n",
    "    (x1)^2 + (x2)^2\n",
    "]\n",
    "\n",
    "T([1\n",
    "\n",
    "   1]) = ?"
   ]
  },
  {
   "cell_type": "code",
   "execution_count": 2,
   "metadata": {},
   "outputs": [
    {
     "data": {
      "text/plain": [
       "array([1, 2])"
      ]
     },
     "execution_count": 2,
     "metadata": {},
     "output_type": "execute_result"
    }
   ],
   "source": [
    "def T(x):\n",
    "    return np.array([x[0]*x[1], x[0]**2 + x[1]**2])\n",
    "\n",
    "x = np.array([1, 1])\n",
    "result = T(x)\n",
    "\n",
    "result"
   ]
  },
  {
   "attachments": {},
   "cell_type": "markdown",
   "metadata": {},
   "source": [
    "T: R^3 -> R^2\n",
    "\n",
    "T(x) = [\n",
    "    2x1 + x2 + x3\n",
    "\n",
    "    x1 - x2 - x3\n",
    "]\n",
    "\n",
    "T([\n",
    "\n",
    "    1\n",
    "\n",
    "    1\n",
    "\n",
    "    1\n",
    "]) = ?"
   ]
  },
  {
   "cell_type": "code",
   "execution_count": 3,
   "metadata": {},
   "outputs": [
    {
     "data": {
      "text/plain": [
       "array([ 4, -1])"
      ]
     },
     "execution_count": 3,
     "metadata": {},
     "output_type": "execute_result"
    }
   ],
   "source": [
    "def T(x):\n",
    "    return np.array([2*(x[0]) + x[1] + x[2], x[0] - x[1] - x[2]])\n",
    "\n",
    "x = np.array([1, 1, 1])\n",
    "result = T(x)\n",
    "\n",
    "result"
   ]
  },
  {
   "cell_type": "code",
   "execution_count": 4,
   "metadata": {},
   "outputs": [
    {
     "data": {
      "text/plain": [
       "array([ 2,  0, -2])"
      ]
     },
     "execution_count": 4,
     "metadata": {},
     "output_type": "execute_result"
    }
   ],
   "source": [
    "def T(x):\n",
    "    return np.array([x[0] + x[1], 0, x[1] - 3])\n",
    "\n",
    "x = np.array([1, 1])\n",
    "result = T(x)\n",
    "\n",
    "result"
   ]
  },
  {
   "cell_type": "code",
   "execution_count": 5,
   "metadata": {},
   "outputs": [
    {
     "data": {
      "text/plain": [
       "array([-5,  0, -1])"
      ]
     },
     "execution_count": 5,
     "metadata": {},
     "output_type": "execute_result"
    }
   ],
   "source": [
    "def T(x):\n",
    "    return np.array([5*(x[0]) + x[1], 5*(x[1]), x[0] - 4*(x[1])])\n",
    "\n",
    "x = np.array([-1, 0])\n",
    "result = T(x)\n",
    "\n",
    "result"
   ]
  },
  {
   "cell_type": "code",
   "execution_count": 6,
   "metadata": {},
   "outputs": [
    {
     "data": {
      "text/plain": [
       "array([26,  3,  1])"
      ]
     },
     "execution_count": 6,
     "metadata": {},
     "output_type": "execute_result"
    }
   ],
   "source": [
    "def T(x):\n",
    "    return np.array([5*(x[0]) + x[1], 3*(x[1]), x[0] - 4*(x[1])])\n",
    "\n",
    "x = np.array([5, 1])\n",
    "result = T(x)\n",
    "\n",
    "result"
   ]
  },
  {
   "cell_type": "code",
   "execution_count": 8,
   "metadata": {},
   "outputs": [
    {
     "data": {
      "text/plain": [
       "array([-12,   5])"
      ]
     },
     "execution_count": 8,
     "metadata": {},
     "output_type": "execute_result"
    }
   ],
   "source": [
    "def T(x):\n",
    "    return np.array([3*(x[0]) - x[1] - x[2], x[0] + 4*(x[2])])\n",
    "\n",
    "x = np.array([-3, 1, 2])\n",
    "result = T(x)\n",
    "\n",
    "result"
   ]
  },
  {
   "attachments": {},
   "cell_type": "markdown",
   "metadata": {},
   "source": [
    "Let T be an operator on R^2 that projects a vector onto a line L\n",
    "\n",
    "This makes an angle of theta = 60 degrees with respect to the horizontal axis x1. \n",
    "\n",
    "What is the unit vector v in the direction of L?"
   ]
  },
  {
   "cell_type": "code",
   "execution_count": 9,
   "metadata": {},
   "outputs": [
    {
     "data": {
      "text/plain": [
       "array([0.5      , 0.8660254])"
      ]
     },
     "execution_count": 9,
     "metadata": {},
     "output_type": "execute_result"
    }
   ],
   "source": [
    "# Convert the angle to radians\n",
    "theta = np.deg2rad(60)\n",
    "\n",
    "# Calculate the components of the unit vector\n",
    "v1 = np.cos(theta)\n",
    "v2 = np.sin(theta)\n",
    "\n",
    "# Create the unit vector\n",
    "v = np.array([v1, v2])\n",
    "\n",
    "v"
   ]
  },
  {
   "cell_type": "code",
   "execution_count": 19,
   "metadata": {},
   "outputs": [
    {
     "data": {
      "text/plain": [
       "array([0.250011  , 0.43301905])"
      ]
     },
     "execution_count": 19,
     "metadata": {},
     "output_type": "execute_result"
    }
   ],
   "source": [
    "# T(e1)\n",
    "\n",
    "def T(u, v):\n",
    "    return (np.dot(u, v) / np.dot(v, v)) * v\n",
    "\n",
    "e1 = np.array([1, 0])\n",
    "v = np.array([0.5, 0.866])\n",
    "\n",
    "T1 = T(e1, v)\n",
    "\n",
    "T1"
   ]
  },
  {
   "cell_type": "code",
   "execution_count": 18,
   "metadata": {},
   "outputs": [
    {
     "data": {
      "text/plain": [
       "array([0.43301905, 0.749989  ])"
      ]
     },
     "execution_count": 18,
     "metadata": {},
     "output_type": "execute_result"
    }
   ],
   "source": [
    "# T(e2)\n",
    "\n",
    "def T(u, v):\n",
    "    return (np.dot(u, v) / np.dot(v, v)) * v\n",
    "\n",
    "e2 = np.array([0, 1])\n",
    "v = np.array([0.5, 0.866])\n",
    "\n",
    "T2 = T(e2, v)\n",
    "\n",
    "T2"
   ]
  },
  {
   "cell_type": "code",
   "execution_count": 33,
   "metadata": {},
   "outputs": [
    {
     "data": {
      "text/plain": [
       "array([-0.049   , -0.084868])"
      ]
     },
     "execution_count": 33,
     "metadata": {},
     "output_type": "execute_result"
    }
   ],
   "source": [
    "# Use the standart matrix to find the projection of v = np.array([5, -3])\n",
    "# on to the line which makes a 60 degree angle with the horizontal axis\n",
    "\n",
    "def T(u, v):\n",
    "    return (np.dot(v, u)) * u\n",
    "\n",
    "v = np.array([5, -3])\n",
    "u = np.array([0.5, 0.866])\n",
    "\n",
    "result = T(u, v)\n",
    "\n",
    "result"
   ]
  },
  {
   "cell_type": "code",
   "execution_count": 35,
   "metadata": {},
   "outputs": [
    {
     "data": {
      "text/plain": [
       "[8, 24]"
      ]
     },
     "execution_count": 35,
     "metadata": {},
     "output_type": "execute_result"
    }
   ],
   "source": [
    "def T(a1, a2, a3):\n",
    "    return [2*a1 - a2, -3*a2 + 5*a3]\n",
    "\n",
    "result = T(5, 2, 6)\n",
    "\n",
    "result"
   ]
  },
  {
   "cell_type": "code",
   "execution_count": 36,
   "metadata": {},
   "outputs": [
    {
     "data": {
      "text/plain": [
       "[[-4, 15], [9, 2]]"
      ]
     },
     "execution_count": 36,
     "metadata": {},
     "output_type": "execute_result"
    }
   ],
   "source": [
    "def T(x1, x2):\n",
    "    return [[-4*x1, 5*x2], [3*x2, 2*x1]]\n",
    "\n",
    "result = T(1, 3)\n",
    "\n",
    "result"
   ]
  },
  {
   "cell_type": "code",
   "execution_count": 40,
   "metadata": {},
   "outputs": [
    {
     "data": {
      "text/latex": [
       "$\\displaystyle 4 x + 3$"
      ],
      "text/plain": [
       "4*x + 3"
      ]
     },
     "execution_count": 40,
     "metadata": {},
     "output_type": "execute_result"
    }
   ],
   "source": [
    "# Let T: (rho)1 -> (rho)2 be the linear transformation defined by:\n",
    "# T(ax^2 + bx + c) = (d/dx)(ax^2 + bx + c)\n",
    "# T(2x^2 + 3x + 2)\n",
    "\n",
    "# Define the polynomial\n",
    "polynomial = 2*x**2 + 3*x + 2\n",
    "\n",
    "# Compute the derivative\n",
    "derivative = smp.diff(polynomial, x)\n",
    "\n",
    "derivative"
   ]
  },
  {
   "attachments": {},
   "cell_type": "markdown",
   "metadata": {},
   "source": [
    "# Standard Matrices are reversed"
   ]
  },
  {
   "cell_type": "code",
   "execution_count": 47,
   "metadata": {},
   "outputs": [
    {
     "data": {
      "text/plain": [
       "[[-2, 0], [0, 4]]"
      ]
     },
     "execution_count": 47,
     "metadata": {},
     "output_type": "execute_result"
    }
   ],
   "source": [
    "# Let T: (Rho)1 -> R^2 be a linear transformation defined by \n",
    "# T((a1)x + a2) = [-2a1, 4a2]\n",
    "# Let B = {1, x} be a basis for (Rho)1 and B' = {[[1, 0], [0, 1]]} be a basis for R^2\n",
    "\n",
    "def T(a1, a2):\n",
    "    return [-2*a1, 4*a2]\n",
    "\n",
    "# Apply the transformation to the basis vectors\n",
    "result1 = T(1, 0)  # Coefficients for x\n",
    "result2 = T(0, 1)  # Coefficients for 1\n",
    "\n",
    "# Combine the results into a matrix\n",
    "standard_matrix = [result1, result2]\n",
    "\n",
    "standard_matrix\n",
    "# The answer is reversed"
   ]
  },
  {
   "cell_type": "code",
   "execution_count": 49,
   "metadata": {},
   "outputs": [
    {
     "data": {
      "text/plain": [
       "[[-5, 0], [0, 4]]"
      ]
     },
     "execution_count": 49,
     "metadata": {},
     "output_type": "execute_result"
    }
   ],
   "source": [
    "def T(a1, a2):\n",
    "    return [-5*a1, 4*a2]\n",
    "\n",
    "# Apply the transformation to the basis vectors\n",
    "result1 = T(1, 0)  # Coefficients for x\n",
    "result2 = T(0, 1)  # Coefficients for 1\n",
    "\n",
    "# Combine the results into a matrix\n",
    "standard_matrix = [result1, result2]\n",
    "\n",
    "standard_matrix\n",
    "# The answer is reversed"
   ]
  },
  {
   "cell_type": "code",
   "execution_count": 51,
   "metadata": {},
   "outputs": [
    {
     "data": {
      "text/plain": [
       "[[9, 2], [6, 8]]"
      ]
     },
     "execution_count": 51,
     "metadata": {},
     "output_type": "execute_result"
    }
   ],
   "source": [
    "def T(x1, x2):\n",
    "    return [9*x1 + 6*x2, 2*x1 + 8*x2]\n",
    "\n",
    "# Apply the transformation to the basis vectors\n",
    "result1 = T(1, 0)  # Coefficients for x\n",
    "result2 = T(0, 1)  # Coefficients for 1\n",
    "\n",
    "# Combine the results into a matrix\n",
    "standard_matrix = [result1, result2]\n",
    "\n",
    "standard_matrix\n",
    "# The answer is reversed"
   ]
  },
  {
   "cell_type": "code",
   "execution_count": 52,
   "metadata": {},
   "outputs": [
    {
     "data": {
      "text/plain": [
       "[[-5, 0], [0, 2]]"
      ]
     },
     "execution_count": 52,
     "metadata": {},
     "output_type": "execute_result"
    }
   ],
   "source": [
    "def T(a1, a2):\n",
    "    return [-5*a1, 2*a2]\n",
    "\n",
    "# Apply the transformation to the basis vectors\n",
    "result1 = T(1, 0)  # Coefficients for x\n",
    "result2 = T(0, 1)  # Coefficients for 1\n",
    "\n",
    "# Combine the results into a matrix\n",
    "standard_matrix = [result1, result2]\n",
    "\n",
    "standard_matrix"
   ]
  },
  {
   "cell_type": "code",
   "execution_count": 54,
   "metadata": {},
   "outputs": [
    {
     "data": {
      "text/plain": [
       "[[9, 4], [6, 3]]"
      ]
     },
     "execution_count": 54,
     "metadata": {},
     "output_type": "execute_result"
    }
   ],
   "source": [
    "def T(x1, x2):\n",
    "    return [9*x1 + 6*x2, 4*x1 + 3*x2]\n",
    "\n",
    "# Apply the transformation to the basis vectors\n",
    "result1 = T(1, 0)  # Vector [1, 0]\n",
    "result2 = T(0, 1)  # Vector [0, 1]\n",
    "\n",
    "# Combine the results into a matrix\n",
    "standard_matrix = [result1, result2]\n",
    "\n",
    "standard_matrix\n",
    "# Answer = [[9, 6], [4, 3]]"
   ]
  },
  {
   "cell_type": "code",
   "execution_count": 56,
   "metadata": {},
   "outputs": [
    {
     "data": {
      "text/plain": [
       "[[0, -4], [1, -1]]"
      ]
     },
     "execution_count": 56,
     "metadata": {},
     "output_type": "execute_result"
    }
   ],
   "source": [
    "def T(a, b):\n",
    "    return [b, -4*a - b]\n",
    "\n",
    "# Apply the transformation to the basis vectors\n",
    "result1 = T(1, 0)  # Vector [1, 0]\n",
    "result2 = T(0, 1)  # Vector [0, 1]\n",
    "\n",
    "# Combine the results into a matrix\n",
    "standard_matrix = [result1, result2]\n",
    "\n",
    "standard_matrix\n",
    "# Answer = [[0, 1], [-4, -1]]"
   ]
  },
  {
   "cell_type": "code",
   "execution_count": 58,
   "metadata": {},
   "outputs": [
    {
     "data": {
      "text/plain": [
       "array([[3, 3, 0, 0],\n",
       "       [0, 0, 6, 6]])"
      ]
     },
     "execution_count": 58,
     "metadata": {},
     "output_type": "execute_result"
    }
   ],
   "source": [
    "def T(matrix):\n",
    "    a, b, c, d = matrix.flatten()\n",
    "    return [3*(a+b), 6*(c+d)]\n",
    "\n",
    "# Define the basis matrices\n",
    "basis_matrices = [\n",
    "    np.array([[1, 0], [0, 0]]),\n",
    "    np.array([[0, 1], [0, 0]]),\n",
    "    np.array([[0, 0], [1, 0]]),\n",
    "    np.array([[0, 0], [0, 1]])\n",
    "]\n",
    "\n",
    "# Apply the transformation to the basis matrices\n",
    "results = [T(matrix) for matrix in basis_matrices]\n",
    "\n",
    "# Combine the results into a matrix\n",
    "standard_matrix = np.column_stack(results)\n",
    "\n",
    "standard_matrix"
   ]
  },
  {
   "attachments": {},
   "cell_type": "markdown",
   "metadata": {},
   "source": [
    "T((a1)x + a2) = [[5a1, 4a2]]\n",
    "\n",
    "Using the basis {-2x - 7, -3x}"
   ]
  },
  {
   "cell_type": "code",
   "execution_count": 59,
   "metadata": {},
   "outputs": [
    {
     "data": {
      "text/plain": [
       "[[-10, -28], [-15, 0]]"
      ]
     },
     "execution_count": 59,
     "metadata": {},
     "output_type": "execute_result"
    }
   ],
   "source": [
    "def T(a1, a2):\n",
    "    return [5*a1, 4*a2]\n",
    "\n",
    "# Apply the transformation to the coefficients of the basis polynomials\n",
    "result1 = T(-2, -7)  # Coefficients for -2x - 7\n",
    "result2 = T(-3, 0)  # Coefficients for -3x\n",
    "\n",
    "# Combine the results into a list\n",
    "basis_R2 = [result1, result2]\n",
    "\n",
    "basis_R2"
   ]
  },
  {
   "cell_type": "code",
   "execution_count": 60,
   "metadata": {},
   "outputs": [
    {
     "data": {
      "text/plain": [
       "['0x^2 + 2x + 8', '7x^2 + 0x + 0', '0x^2 + 1x + 0']"
      ]
     },
     "execution_count": 60,
     "metadata": {},
     "output_type": "execute_result"
    }
   ],
   "source": [
    "def T(a1, a2, a3):\n",
    "    return f\"{7*a2}x^2 + {2*a1 + a3}x + {8*a1}\"\n",
    "\n",
    "# Apply the transformation to the vectors in the basis\n",
    "result1 = T(1, 0, 0)  # Vector [1, 0, 0]\n",
    "result2 = T(0, 1, 0)  # Vector [0, 1, 0]\n",
    "result3 = T(0, 0, 1)  # Vector [0, 0, 1]\n",
    "\n",
    "# Combine the results into a list\n",
    "basis_P2 = [result1, result2, result3]\n",
    "\n",
    "basis_P2"
   ]
  },
  {
   "attachments": {},
   "cell_type": "markdown",
   "metadata": {},
   "source": [
    "# Compositions of Linear Transformations"
   ]
  },
  {
   "cell_type": "code",
   "execution_count": 61,
   "metadata": {},
   "outputs": [
    {
     "data": {
      "text/plain": [
       "array([20, 27])"
      ]
     },
     "execution_count": 61,
     "metadata": {},
     "output_type": "execute_result"
    }
   ],
   "source": [
    "def T1(x):\n",
    "    return np.array([4*x[0], 3*x[0] + 2*x[1]])\n",
    "\n",
    "def T2(x):\n",
    "    return np.array([-5*x[0], -2*x[1]])\n",
    "\n",
    "x = np.array([-1, -3])\n",
    "\n",
    "# Apply T2 to x\n",
    "x = T2(x)\n",
    "\n",
    "# Apply T1 to the result\n",
    "x = T1(x)\n",
    "\n",
    "x"
   ]
  },
  {
   "cell_type": "code",
   "execution_count": 62,
   "metadata": {},
   "outputs": [
    {
     "data": {
      "text/plain": [
       "array([-12, -12])"
      ]
     },
     "execution_count": 62,
     "metadata": {},
     "output_type": "execute_result"
    }
   ],
   "source": [
    "# Part I\n",
    "# T1 ∘ T2\n",
    "\n",
    "def T1(x):\n",
    "    return np.array([-3*x[0], -5*x[0] + 4*x[1]])\n",
    "\n",
    "def T2(x):\n",
    "    return np.array([-4*x[0], 2*x[1]])\n",
    "\n",
    "x = np.array([-1, 1])\n",
    "\n",
    "# Apply T2 to x\n",
    "x = T2(x)\n",
    "\n",
    "# Apply T1 to the result\n",
    "x = T1(x)\n",
    "\n",
    "x"
   ]
  },
  {
   "cell_type": "code",
   "execution_count": 63,
   "metadata": {},
   "outputs": [
    {
     "data": {
      "text/plain": [
       "array([-12,  18])"
      ]
     },
     "execution_count": 63,
     "metadata": {},
     "output_type": "execute_result"
    }
   ],
   "source": [
    "# Part II\n",
    "# T2 ∘ T1\n",
    "\n",
    "def T1(x):\n",
    "    return np.array([-3*x[0], -5*x[0] + 4*x[1]])\n",
    "\n",
    "def T2(x):\n",
    "    return np.array([-4*x[0], 2*x[1]])\n",
    "\n",
    "x = np.array([-1, 1])\n",
    "\n",
    "# Apply T1 to x\n",
    "x = T1(x)\n",
    "\n",
    "# Apply T2 to the result\n",
    "x = T2(x)\n",
    "\n",
    "x"
   ]
  },
  {
   "cell_type": "code",
   "execution_count": 69,
   "metadata": {},
   "outputs": [
    {
     "data": {
      "text/plain": [
       "array([[ 3, -3],\n",
       "       [-7, -5]])"
      ]
     },
     "execution_count": 69,
     "metadata": {},
     "output_type": "execute_result"
    }
   ],
   "source": [
    "def T1(a, b, c):\n",
    "    return np.array([a + b, b - c])\n",
    "\n",
    "def T2(x):\n",
    "    return np.array([[-3*x[0], 3*x[0]], [-7*x[1], -5*x[1]]])\n",
    "\n",
    "# Coefficients of the quadratic polynomial -4x^2 + 3x + 2\n",
    "a, b, c = -4, 3, 2\n",
    "\n",
    "# Apply T1 to the coefficients\n",
    "x = T1(a, b, c)\n",
    "\n",
    "# Apply T2 to the result\n",
    "x = T2(x)\n",
    "\n",
    "x"
   ]
  },
  {
   "cell_type": "code",
   "execution_count": 73,
   "metadata": {},
   "outputs": [
    {
     "name": "stdout",
     "output_type": "stream",
     "text": [
      "T(u) = [3 7]\n",
      "[T(u)]_C = [3. 1.]\n"
     ]
    }
   ],
   "source": [
    "def T(x):\n",
    "    return np.array([x[0], x[0] + x[1]])\n",
    "\n",
    "u = np.array([3, 4])\n",
    "\n",
    "# Apply T to u\n",
    "Tu = T(u)\n",
    "\n",
    "print(\"T(u) =\", Tu)\n",
    "\n",
    "# Basis vectors\n",
    "v1 = np.array([1, 2])\n",
    "v2 = np.array([0, 1])\n",
    "\n",
    "# Matrix with basis vectors as columns\n",
    "C = np.column_stack((v1, v2))\n",
    "\n",
    "# Solve for the coordinates of Tu in the basis C\n",
    "coords = np.linalg.solve(C, Tu)\n",
    "\n",
    "print(\"[T(u)]_C =\", coords)"
   ]
  },
  {
   "cell_type": "code",
   "execution_count": 76,
   "metadata": {},
   "outputs": [
    {
     "name": "stdout",
     "output_type": "stream",
     "text": [
      "Augmented matrix:\n",
      "[[  3  -6  13  12 -10]\n",
      " [  7   0  15   3   9]]\n"
     ]
    }
   ],
   "source": [
    "def T(x):\n",
    "    return np.array([2*x[0] - x[1], -3*x[2]])\n",
    "\n",
    "# Basis vectors for B\n",
    "u1 = np.array([7, 1, -5])\n",
    "u2 = np.array([4, -4, -1])\n",
    "u3 = np.array([-6, -2, -3])\n",
    "\n",
    "# Apply T to each vector in B\n",
    "Tu1 = T(u1)\n",
    "Tu2 = T(u2)\n",
    "Tu3 = T(u3)\n",
    "\n",
    "# Basis vectors for C\n",
    "v1 = np.array([3, 7])\n",
    "v2 = np.array([-6, 0])\n",
    "\n",
    "# Matrix with basis vectors for C as columns\n",
    "C = np.column_stack((v1, v2))\n",
    "\n",
    "# Augmented matrix for the system of equations to express T(ui) in terms of C\n",
    "augmented_matrix = np.column_stack((C, Tu1, Tu2, Tu3))\n",
    "\n",
    "print(\"Augmented matrix:\")\n",
    "print(augmented_matrix)"
   ]
  },
  {
   "cell_type": "code",
   "execution_count": 80,
   "metadata": {},
   "outputs": [
    {
     "name": "stdout",
     "output_type": "stream",
     "text": [
      "[T]^C_B:\n",
      "[[0 5]\n",
      " [3 18]]\n"
     ]
    }
   ],
   "source": [
    "def T(x):\n",
    "    return np.array([x[0], x[0] - x[1]])\n",
    "\n",
    "# Basis vectors for B\n",
    "u1 = np.array([0, -3])\n",
    "u2 = np.array([5, 2])\n",
    "\n",
    "# Apply T to each vector in B\n",
    "Tu1 = T(u1)\n",
    "Tu2 = T(u2)\n",
    "\n",
    "# Basis vectors for C\n",
    "v1 = np.array([1, -3])\n",
    "v2 = np.array([0, 1])\n",
    "\n",
    "# Matrix with basis vectors for C as columns\n",
    "C = np.column_stack((v1, v2))\n",
    "\n",
    "# Convert to sympy matrices for solving\n",
    "C_sympy = Matrix(C)\n",
    "Tu1_sympy = Matrix(Tu1)\n",
    "Tu2_sympy = Matrix(Tu2)\n",
    "\n",
    "# Solve for the coordinates of Tu1 and Tu2 in the basis C\n",
    "c1, c2 = symbols('c1 c2')\n",
    "sol_Tu1 = linsolve((C_sympy, Tu1_sympy), c1, c2)\n",
    "sol_Tu2 = linsolve((C_sympy, Tu2_sympy), c1, c2)\n",
    "\n",
    "# The matrix representation of T with respect to the bases B and C\n",
    "T_C_B = np.column_stack((list(sol_Tu1)[0], list(sol_Tu2)[0]))\n",
    "\n",
    "print(\"[T]^C_B:\")\n",
    "print(T_C_B)"
   ]
  },
  {
   "cell_type": "code",
   "execution_count": 88,
   "metadata": {},
   "outputs": [
    {
     "name": "stdout",
     "output_type": "stream",
     "text": [
      "[[ 1. -2.]\n",
      " [-2.  5.]]\n"
     ]
    }
   ],
   "source": [
    "# Define the vectors u1 and u2\n",
    "u1 = np.array([5, 2])\n",
    "u2 = np.array([2, 1])\n",
    "\n",
    "# Create the matrix B using u1 and u2 as columns\n",
    "B = np.column_stack((u1, u2))\n",
    "\n",
    "# Compute the inverse of B to get the transition matrix P_B\n",
    "P_B = np.linalg.inv(B)\n",
    "\n",
    "print(P_B)"
   ]
  },
  {
   "cell_type": "code",
   "execution_count": null,
   "metadata": {},
   "outputs": [],
   "source": []
  }
 ],
 "metadata": {
  "kernelspec": {
   "display_name": "Env1",
   "language": "python",
   "name": "python3"
  },
  "language_info": {
   "codemirror_mode": {
    "name": "ipython",
    "version": 3
   },
   "file_extension": ".py",
   "mimetype": "text/x-python",
   "name": "python",
   "nbconvert_exporter": "python",
   "pygments_lexer": "ipython3",
   "version": "3.10.11"
  },
  "orig_nbformat": 4
 },
 "nbformat": 4,
 "nbformat_minor": 2
}
