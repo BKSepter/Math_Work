{
 "cells": [
  {
   "cell_type": "code",
   "execution_count": 57,
   "metadata": {},
   "outputs": [],
   "source": [
    "import sympy as smp\n",
    "from sympy import *\n",
    "import numpy as np\n",
    "from numpy import *\n",
    "import scipy as sp\n",
    "from scipy.integrate import solve_ivp\n",
    "from scipy.interpolate import interp1d\n",
    "from scipy.integrate import odeint\n",
    "from fractions import Fraction\n",
    "import matplotlib.pyplot as plt\n",
    "import scienceplots\n",
    "plt.style.use(['science', 'notebook', 'grid'])\n",
    "\n",
    "x, y, t, n, a, b, C, c, r, u, s, A = smp.symbols('x y t n a b C c r u s A')\n",
    "f, g, m = smp.symbols('f g m', cls=smp.Function)"
   ]
  },
  {
   "attachments": {},
   "cell_type": "markdown",
   "metadata": {},
   "source": [
    "# 1"
   ]
  },
  {
   "cell_type": "code",
   "execution_count": 2,
   "metadata": {},
   "outputs": [
    {
     "data": {
      "text/plain": [
       "array([-5.,  5.])"
      ]
     },
     "execution_count": 2,
     "metadata": {},
     "output_type": "execute_result"
    }
   ],
   "source": [
    "# Define the coefficient matrix and constant vector\n",
    "A = np.array([[2, -2], [0, 1]])\n",
    "b = np.array([-20, 5])\n",
    "\n",
    "# Solve the system of equations\n",
    "np.linalg.solve(A, b)"
   ]
  },
  {
   "cell_type": "code",
   "execution_count": 3,
   "metadata": {},
   "outputs": [
    {
     "data": {
      "text/plain": [
       "array([-4.,  1.])"
      ]
     },
     "execution_count": 3,
     "metadata": {},
     "output_type": "execute_result"
    }
   ],
   "source": [
    "# Define the coefficient matrix and constant vector\n",
    "A = np.array([[1, 1], [-3, -2]])\n",
    "b = np.array([-3, 10])\n",
    "\n",
    "# Solve the system of equations\n",
    "np.linalg.solve(A, b)"
   ]
  },
  {
   "cell_type": "code",
   "execution_count": 4,
   "metadata": {},
   "outputs": [
    {
     "data": {
      "text/plain": [
       "array([-4., -3.])"
      ]
     },
     "execution_count": 4,
     "metadata": {},
     "output_type": "execute_result"
    }
   ],
   "source": [
    "# Solve for x_1 and x_2\n",
    "\n",
    "# x_1 - 3x_2 = 5\n",
    "# x_1 - 2x_2 = 2\n",
    "\n",
    "# Define the coefficient matrix and constant vector\n",
    "A = np.array([[1, -3], [1, -2]])\n",
    "b = np.array([5, 2])\n",
    "\n",
    "np.linalg.solve(A, b)"
   ]
  },
  {
   "cell_type": "code",
   "execution_count": 5,
   "metadata": {},
   "outputs": [
    {
     "data": {
      "text/plain": [
       "array([-3.,  2., -4.])"
      ]
     },
     "execution_count": 5,
     "metadata": {},
     "output_type": "execute_result"
    }
   ],
   "source": [
    "# Solve for x_1, x_2, x_3\n",
    "\n",
    "# x_1 + 2x_2 - 6x_3 = 25\n",
    "# 2x_1 + 5x_2 - 15x_3 = 64\n",
    "# -3x_1 - 6x_2 + 19x_3 = -79\n",
    "\n",
    "A = np.array([[1, 2, -6], [2, 5, -15], [-3, -6, 19]])\n",
    "b = np.array([25, 64, -79])\n",
    "\n",
    "np.linalg.solve(A, b)"
   ]
  },
  {
   "cell_type": "code",
   "execution_count": 6,
   "metadata": {},
   "outputs": [
    {
     "data": {
      "text/plain": [
       "array([2., 3., 1.])"
      ]
     },
     "execution_count": 6,
     "metadata": {},
     "output_type": "execute_result"
    }
   ],
   "source": [
    "# Solve for x_1, x_2, x_3\n",
    "\n",
    "# x_1 + 3x_2 + 3x_3 = 14\n",
    "# x_1 + 4x_2 + 4x_3 = 18\n",
    "# 2x_1 + 6x_2 + 7x_3 = 29\n",
    "\n",
    "A = np.array([[1, 3, 3], [1, 4, 4], [2, 6, 7]])\n",
    "b = np.array([14, 18, 29])\n",
    "\n",
    "np.linalg.solve(A, b)"
   ]
  },
  {
   "attachments": {},
   "cell_type": "markdown",
   "metadata": {},
   "source": [
    "# 2"
   ]
  },
  {
   "cell_type": "code",
   "execution_count": 7,
   "metadata": {},
   "outputs": [
    {
     "data": {
      "text/plain": [
       "array([[-3, 12],\n",
       "       [-6, -5],\n",
       "       [-2, 14]])"
      ]
     },
     "execution_count": 7,
     "metadata": {},
     "output_type": "execute_result"
    }
   ],
   "source": [
    "A = np.array([[2, 4], [-2, 1], [5, 9]])\n",
    "B = np.array([[5, -8], [4, 6], [7, -5]])\n",
    "\n",
    "np.subtract(A, B)\n",
    "#np.add(A, B)"
   ]
  },
  {
   "cell_type": "code",
   "execution_count": 8,
   "metadata": {},
   "outputs": [
    {
     "data": {
      "text/plain": [
       "array([[ 5,  1,  8],\n",
       "       [-5, -2, -8]])"
      ]
     },
     "execution_count": 8,
     "metadata": {},
     "output_type": "execute_result"
    }
   ],
   "source": [
    "A = np.array([[0, 8, 9], [-2, -4, 1]])\n",
    "B = np.array([[5, -7, -1], [-3, 2, -9]])\n",
    "\n",
    "np.add(A, B)"
   ]
  },
  {
   "cell_type": "code",
   "execution_count": 9,
   "metadata": {},
   "outputs": [
    {
     "data": {
      "text/plain": [
       "array([[ 0, -2],\n",
       "       [ 4, -8]])"
      ]
     },
     "execution_count": 9,
     "metadata": {},
     "output_type": "execute_result"
    }
   ],
   "source": [
    "A = np.array([[-2, 1], [4, 0]])\n",
    "B = np.array([[2, -3], [0, -8]])\n",
    "\n",
    "np.add(A, B)"
   ]
  },
  {
   "cell_type": "code",
   "execution_count": 10,
   "metadata": {},
   "outputs": [
    {
     "data": {
      "text/plain": [
       "array([[ 1,  0],\n",
       "       [ 0,  0],\n",
       "       [-3,  2]])"
      ]
     },
     "execution_count": 10,
     "metadata": {},
     "output_type": "execute_result"
    }
   ],
   "source": [
    "A = np.array([[3, -5], [7, -3], [-2, 1]])\n",
    "B = np.array([[4, -1], [6, 2], [1, 1]])\n",
    "C = np.array([[2, 4], [-1, 5], [0, 2]])\n",
    "\n",
    "Ans1 = np.subtract(A, B)\n",
    "Ans2 = np.add(Ans1, C)\n",
    "\n",
    "Ans2"
   ]
  },
  {
   "cell_type": "code",
   "execution_count": 11,
   "metadata": {},
   "outputs": [
    {
     "ename": "ValueError",
     "evalue": "operands could not be broadcast together with shapes (2,2) (3,3) ",
     "output_type": "error",
     "traceback": [
      "\u001b[0;31m---------------------------------------------------------------------------\u001b[0m",
      "\u001b[0;31mValueError\u001b[0m                                Traceback (most recent call last)",
      "Cell \u001b[0;32mIn[11], line 8\u001b[0m\n\u001b[1;32m      5\u001b[0m C \u001b[39m=\u001b[39m np\u001b[39m.\u001b[39marray([[\u001b[39m4\u001b[39m, \u001b[39m2\u001b[39m, \u001b[39m1\u001b[39m], [\u001b[39m5\u001b[39m, \u001b[39m0\u001b[39m, \u001b[39m2\u001b[39m], [\u001b[39m-\u001b[39m\u001b[39m1\u001b[39m, \u001b[39m1\u001b[39m, \u001b[39m5\u001b[39m]])\n\u001b[1;32m      7\u001b[0m Ans1 \u001b[39m=\u001b[39m np\u001b[39m.\u001b[39mmultiply(B, \u001b[39m2\u001b[39m)\n\u001b[0;32m----> 8\u001b[0m Ans2 \u001b[39m=\u001b[39m np\u001b[39m.\u001b[39;49madd(Ans1, C)\n\u001b[1;32m     10\u001b[0m Ans2\n",
      "\u001b[0;31mValueError\u001b[0m: operands could not be broadcast together with shapes (2,2) (3,3) "
     ]
    }
   ],
   "source": [
    "# DNE\n",
    "\n",
    "A = np.array([[-1, -2, 1], [0, 2, 4], [0, 0, -2]])\n",
    "B = np.array([[5, -1], [1, 0]])\n",
    "C = np.array([[4, 2, 1], [5, 0, 2], [-1, 1, 5]])\n",
    "\n",
    "Ans1 = np.multiply(B, 2)\n",
    "Ans2 = np.add(Ans1, C)\n",
    "\n",
    "Ans2"
   ]
  },
  {
   "cell_type": "code",
   "execution_count": 12,
   "metadata": {},
   "outputs": [
    {
     "data": {
      "text/plain": [
       "array([[ 6,  0,  4],\n",
       "       [10,  4, 12],\n",
       "       [-2,  2,  6]])"
      ]
     },
     "execution_count": 12,
     "metadata": {},
     "output_type": "execute_result"
    }
   ],
   "source": [
    "A = np.array([[-1, -2, 1], [0, 2, 4], [0, 0, -2]])\n",
    "B = np.array([[5, -1], [1, 0]])\n",
    "C = np.array([[4, 2, 1], [5, 0, 2], [-1, 1, 5]])\n",
    "\n",
    "Ans1 = np.add(C, A)\n",
    "Ans2 = np.multiply(Ans1, 2)\n",
    "Ans2"
   ]
  },
  {
   "cell_type": "code",
   "execution_count": 13,
   "metadata": {},
   "outputs": [
    {
     "data": {
      "text/plain": [
       "array([[-13,  -8,  -2],\n",
       "       [-15,   2,  -2],\n",
       "       [  3,  -3, -17]])"
      ]
     },
     "execution_count": 13,
     "metadata": {},
     "output_type": "execute_result"
    }
   ],
   "source": [
    "A = np.array([[-1, -2, 1], [0, 2, 4], [0, 0, -2]])\n",
    "B = np.array([[5, -1], [1, 0]])\n",
    "C = np.array([[4, 2, 1], [5, 0, 2], [-1, 1, 5]])\n",
    "\n",
    "Ans1 = np.multiply(C, 3)\n",
    "Ans2 = np.subtract(A, Ans1)\n",
    "\n",
    "Ans2"
   ]
  },
  {
   "cell_type": "code",
   "execution_count": 14,
   "metadata": {},
   "outputs": [
    {
     "data": {
      "text/plain": [
       "array([[ 1, -1,  2],\n",
       "       [ 3,  4,  0]])"
      ]
     },
     "execution_count": 14,
     "metadata": {},
     "output_type": "execute_result"
    }
   ],
   "source": [
    "A = np.array([[1, -1, 2], [3, 4, 0]])\n",
    "B = np.array([[0, 0, 0], [0, 0, 0]])\n",
    "\n",
    "np.add(A,B)"
   ]
  },
  {
   "cell_type": "code",
   "execution_count": 15,
   "metadata": {},
   "outputs": [
    {
     "data": {
      "text/plain": [
       "array([[ 5, -5,  5],\n",
       "       [-5,  5, -5],\n",
       "       [ 5, -5,  5]])"
      ]
     },
     "execution_count": 15,
     "metadata": {},
     "output_type": "execute_result"
    }
   ],
   "source": [
    "A = np.array([[1, -1, 1], [-1, 1, -1], [1, -1, 1]])\n",
    "B = np.array([[1, -1, 1], [-1, 1, -1], [1, -1, 1]])\n",
    "\n",
    "A1 = np.multiply(A, 2)\n",
    "A2 = np.multiply(B, 3)\n",
    "\n",
    "np.add(A1, A2)"
   ]
  },
  {
   "cell_type": "code",
   "execution_count": 16,
   "metadata": {},
   "outputs": [
    {
     "data": {
      "text/plain": [
       "array([[  8,  16],\n",
       "       [-24,  -8]])"
      ]
     },
     "execution_count": 16,
     "metadata": {},
     "output_type": "execute_result"
    }
   ],
   "source": [
    "A = np.array([[4, 8], [-12, -4]])\n",
    "\n",
    "np.multiply(A, 2)"
   ]
  },
  {
   "cell_type": "code",
   "execution_count": 17,
   "metadata": {},
   "outputs": [
    {
     "data": {
      "text/plain": [
       "array([[ -3, -17],\n",
       "       [  4,  -1]])"
      ]
     },
     "execution_count": 17,
     "metadata": {},
     "output_type": "execute_result"
    }
   ],
   "source": [
    "A = np.array([[-7, -9], [-3, -2]])\n",
    "B = np.array([[4, -8], [7, 1]])\n",
    "\n",
    "np.add(A, B)"
   ]
  },
  {
   "cell_type": "code",
   "execution_count": 18,
   "metadata": {},
   "outputs": [
    {
     "data": {
      "text/plain": [
       "array([[-11,   6],\n",
       "       [ -9, -10]])"
      ]
     },
     "execution_count": 18,
     "metadata": {},
     "output_type": "execute_result"
    }
   ],
   "source": [
    "A = np.array([[-9, 4], [-1, -4]])\n",
    "B = np.array([[2, -2], [8, 6]])\n",
    "\n",
    "np.subtract(A, B)"
   ]
  },
  {
   "cell_type": "code",
   "execution_count": 19,
   "metadata": {},
   "outputs": [
    {
     "data": {
      "text/plain": [
       "array([[  8, -27],\n",
       "       [-27,  41]])"
      ]
     },
     "execution_count": 19,
     "metadata": {},
     "output_type": "execute_result"
    }
   ],
   "source": [
    "A = np.array([[-1, 7], [6, -9]])\n",
    "B = np.array([[4, 1], [-3, 5]])\n",
    "\n",
    "Ans1 = np.multiply(A, -4)\n",
    "Ans2 = np.add(Ans1, B)\n",
    "\n",
    "Ans2"
   ]
  },
  {
   "cell_type": "code",
   "execution_count": 20,
   "metadata": {},
   "outputs": [
    {
     "data": {
      "text/plain": [
       "array([[-52,   0],\n",
       "       [  8,  12]])"
      ]
     },
     "execution_count": 20,
     "metadata": {},
     "output_type": "execute_result"
    }
   ],
   "source": [
    "A = np.array([[-6, 8], [2, 4]])\n",
    "B = np.array([[-7, -8], [0, -1]])\n",
    "\n",
    "Ans = np.add(A, B)\n",
    "np.multiply(Ans, 4)"
   ]
  },
  {
   "cell_type": "code",
   "execution_count": 21,
   "metadata": {},
   "outputs": [
    {
     "data": {
      "text/plain": [
       "array([[18, -6, 30],\n",
       "       [ 0,  0,  0],\n",
       "       [12, -4, 20]])"
      ]
     },
     "execution_count": 21,
     "metadata": {},
     "output_type": "execute_result"
    }
   ],
   "source": [
    "A = np.array([[3, -1, 5]])\n",
    "B = np.array([[6], [0], [4]])\n",
    "\n",
    "np.multiply(A, B)"
   ]
  },
  {
   "cell_type": "code",
   "execution_count": 22,
   "metadata": {},
   "outputs": [
    {
     "data": {
      "text/plain": [
       "array([[-1,  0],\n",
       "       [ 6, -4],\n",
       "       [ 9, -8]])"
      ]
     },
     "execution_count": 22,
     "metadata": {},
     "output_type": "execute_result"
    }
   ],
   "source": [
    "A = np.array([[-1, 0], [0, 2], [-3, 4]])\n",
    "B = np.array([[1, 0], [3, -2]])\n",
    "\n",
    "# Non-element-wise matrix multiplication\n",
    "np.dot(A, B)"
   ]
  },
  {
   "cell_type": "code",
   "execution_count": 23,
   "metadata": {},
   "outputs": [
    {
     "data": {
      "text/plain": [
       "array([[ 4, -7],\n",
       "       [-5, 15],\n",
       "       [-5, 25]])"
      ]
     },
     "execution_count": 23,
     "metadata": {},
     "output_type": "execute_result"
    }
   ],
   "source": [
    "A = np.array([[3, -1], [0, 4]])\n",
    "B = np.array([[0, 1, -2], [1, 0, 3], [-1, 5, 2]])\n",
    "C = np.array([[2, -2], [1, 0]])\n",
    "D = np.array([[1, 0], [0, 3], [-2, 5]])\n",
    "\n",
    "#np.dot(A, C)\n",
    "#np.dot(D, C)\n",
    "np.dot(B, D)"
   ]
  },
  {
   "cell_type": "code",
   "execution_count": 24,
   "metadata": {},
   "outputs": [
    {
     "data": {
      "text/plain": [
       "array([[-2,  0],\n",
       "       [ 4, -2]])"
      ]
     },
     "execution_count": 24,
     "metadata": {},
     "output_type": "execute_result"
    }
   ],
   "source": [
    "A = np.array([[0, 1], [-2, -1]])\n",
    "B = np.array([[-1, 1], [-2, 0]])\n",
    "\n",
    "np.dot(A, B)"
   ]
  },
  {
   "cell_type": "code",
   "execution_count": 25,
   "metadata": {},
   "outputs": [
    {
     "data": {
      "text/plain": [
       "array([[-3, 12],\n",
       "       [ 2,  4]])"
      ]
     },
     "execution_count": 25,
     "metadata": {},
     "output_type": "execute_result"
    }
   ],
   "source": [
    "A = np.array([[-1, -3, 1], [2, -2, 0]])\n",
    "B = np.array([[1, -1], [0, -3], [-2, 2]])\n",
    "\n",
    "np.dot(A, B)"
   ]
  },
  {
   "cell_type": "code",
   "execution_count": 26,
   "metadata": {},
   "outputs": [
    {
     "data": {
      "text/plain": [
       "array([[ -7, -10,  16],\n",
       "       [  2,   5,  -2],\n",
       "       [ 11,  14, -20]])"
      ]
     },
     "execution_count": 26,
     "metadata": {},
     "output_type": "execute_result"
    }
   ],
   "source": [
    "A = np.array([[-1, 0, 4], [2, -3, 1], [3, -2, -4]])\n",
    "B = np.array([[3, -2, 0], [1, -4, 2], [-1, -3, 4]])\n",
    "\n",
    "np.dot(A, B)"
   ]
  },
  {
   "cell_type": "code",
   "execution_count": 27,
   "metadata": {},
   "outputs": [
    {
     "data": {
      "text/plain": [
       "array([[56,  0,  0],\n",
       "       [ 0, 20,  0],\n",
       "       [ 0,  0,  6]])"
      ]
     },
     "execution_count": 27,
     "metadata": {},
     "output_type": "execute_result"
    }
   ],
   "source": [
    "A = np.array([[7, 0, 0], [0, 5, 0], [0, 0, 6]])\n",
    "B = np.array([[8, 0, 0], [0, 4, 0], [0, 0, 1]])\n",
    "\n",
    "np.dot(A, B)"
   ]
  },
  {
   "cell_type": "code",
   "execution_count": 28,
   "metadata": {},
   "outputs": [
    {
     "data": {
      "text/plain": [
       "array([[ 1,  0],\n",
       "       [ 0, -8]])"
      ]
     },
     "execution_count": 28,
     "metadata": {},
     "output_type": "execute_result"
    }
   ],
   "source": [
    "A = np.array([[1, 0], [0, -2]])\n",
    "\n",
    "np.linalg.matrix_power(A, 3)"
   ]
  },
  {
   "cell_type": "code",
   "execution_count": 29,
   "metadata": {},
   "outputs": [
    {
     "data": {
      "text/plain": [
       "array([[-2,  2],\n",
       "       [-7, -5]])"
      ]
     },
     "execution_count": 29,
     "metadata": {},
     "output_type": "execute_result"
    }
   ],
   "source": [
    "A = np.array([[1, 0], [0, 1]])\n",
    "B = np.array([[-2, 2], [-7, -5]])\n",
    "\n",
    "np.dot(B, A)"
   ]
  },
  {
   "cell_type": "code",
   "execution_count": 30,
   "metadata": {},
   "outputs": [
    {
     "data": {
      "text/plain": [
       "array([[-14,  13],\n",
       "       [  5,   3]])"
      ]
     },
     "execution_count": 30,
     "metadata": {},
     "output_type": "execute_result"
    }
   ],
   "source": [
    "I = np.array([[1, 0], [0, 1]])\n",
    "A = np.array([[-7, 5], [7, -6]])\n",
    "B = np.array([[-7, 8], [-2, 9]])\n",
    "\n",
    "Ans = np.add(A, B)\n",
    "np.dot(I, Ans)"
   ]
  },
  {
   "cell_type": "code",
   "execution_count": 31,
   "metadata": {},
   "outputs": [
    {
     "data": {
      "text/plain": [
       "array([[-1., -3.],\n",
       "       [ 9.,  3.]])"
      ]
     },
     "execution_count": 31,
     "metadata": {},
     "output_type": "execute_result"
    }
   ],
   "source": [
    "A = np.array([[5, 2], [-3, -7]])\n",
    "B = np.array([[1, 2], [6, -2]])\n",
    "C = np.array([[-2, -5], [3, 5]])\n",
    "\n",
    "Ans1 = np.multiply(A, B)\n",
    "Ans2 = np.multiply(A, C)\n",
    "Ans3 = np.add(Ans1, Ans2)\n",
    "np.divide(Ans3, A)"
   ]
  },
  {
   "cell_type": "code",
   "execution_count": 32,
   "metadata": {},
   "outputs": [
    {
     "data": {
      "text/plain": [
       "array([[11., 14.],\n",
       "       [ 1.,  1.]])"
      ]
     },
     "execution_count": 32,
     "metadata": {},
     "output_type": "execute_result"
    }
   ],
   "source": [
    "A = np.array([[6, 2], [3, -5]])\n",
    "B = np.array([[2, 7], [-1, 1]])\n",
    "C = np.array([[9, 7], [2, 0]])\n",
    "\n",
    "Ans1 = np.multiply(B, A)\n",
    "Ans2 = np.multiply(C, A)\n",
    "Ans3 = np.add(Ans1, Ans2)\n",
    "np.divide(Ans3, A)"
   ]
  },
  {
   "cell_type": "code",
   "execution_count": 33,
   "metadata": {},
   "outputs": [
    {
     "data": {
      "text/plain": [
       "array([[  6.,   3.],\n",
       "       [ -9., -18.]])"
      ]
     },
     "execution_count": 33,
     "metadata": {},
     "output_type": "execute_result"
    }
   ],
   "source": [
    "A = np.array([[9, -3], [2, -9]])\n",
    "B = np.array([[2, 1], [-3, -6]])\n",
    "\n",
    "Ans1 = np.multiply(A, B)\n",
    "Ans2 = np.multiply(Ans1, 3)\n",
    "np.divide(Ans2, A)"
   ]
  },
  {
   "cell_type": "code",
   "execution_count": 34,
   "metadata": {},
   "outputs": [
    {
     "data": {
      "text/plain": [
       "array([[2., 1.],\n",
       "       [7., 4.]])"
      ]
     },
     "execution_count": 34,
     "metadata": {},
     "output_type": "execute_result"
    }
   ],
   "source": [
    "A = np.array([[4, -1], [-7, 2]])\n",
    "\n",
    "np.linalg.matrix_power(A, -1)"
   ]
  },
  {
   "cell_type": "code",
   "execution_count": 35,
   "metadata": {},
   "outputs": [
    {
     "data": {
      "text/plain": [
       "array([[ 0.33333333, -0.66666667],\n",
       "       [ 0.        ,  1.        ]])"
      ]
     },
     "execution_count": 35,
     "metadata": {},
     "output_type": "execute_result"
    }
   ],
   "source": [
    "A = np.array([[3, 2], [0, 1]])\n",
    "\n",
    "np.linalg.matrix_power(A, -1)"
   ]
  },
  {
   "cell_type": "code",
   "execution_count": 36,
   "metadata": {},
   "outputs": [
    {
     "data": {
      "text/plain": [
       "array([[3.  , 0.  ],\n",
       "       [0.  , 0.75]])"
      ]
     },
     "execution_count": 36,
     "metadata": {},
     "output_type": "execute_result"
    }
   ],
   "source": [
    "A = np.array([[(1/3), 0], [0, (4/3)]])\n",
    "\n",
    "np.linalg.matrix_power(A, -1)"
   ]
  },
  {
   "cell_type": "code",
   "execution_count": 37,
   "metadata": {},
   "outputs": [
    {
     "data": {
      "text/plain": [
       "array([[-1., -1.,  2.],\n",
       "       [-5., -3.,  5.],\n",
       "       [ 3.,  2., -3.]])"
      ]
     },
     "execution_count": 37,
     "metadata": {},
     "output_type": "execute_result"
    }
   ],
   "source": [
    "A = np.array([[1, -1, -1], [0, 3, 5], [1, 1, 2]])\n",
    "\n",
    "np.linalg.matrix_power(A, -1)"
   ]
  },
  {
   "cell_type": "code",
   "execution_count": 38,
   "metadata": {},
   "outputs": [
    {
     "data": {
      "text/plain": [
       "array([[5., 4.],\n",
       "       [6., 5.]])"
      ]
     },
     "execution_count": 38,
     "metadata": {},
     "output_type": "execute_result"
    }
   ],
   "source": [
    "A = np.array([[5, -4], [-6, 5]])\n",
    "\n",
    "np.linalg.matrix_power(A, -1)"
   ]
  },
  {
   "cell_type": "code",
   "execution_count": 39,
   "metadata": {},
   "outputs": [
    {
     "ename": "LinAlgError",
     "evalue": "Last 2 dimensions of the array must be square",
     "output_type": "error",
     "traceback": [
      "\u001b[0;31m---------------------------------------------------------------------------\u001b[0m",
      "\u001b[0;31mLinAlgError\u001b[0m                               Traceback (most recent call last)",
      "Cell \u001b[0;32mIn[39], line 5\u001b[0m\n\u001b[1;32m      1\u001b[0m \u001b[39m# DNE\u001b[39;00m\n\u001b[1;32m      3\u001b[0m A \u001b[39m=\u001b[39m np\u001b[39m.\u001b[39marray([[(\u001b[39m2\u001b[39m\u001b[39m/\u001b[39m\u001b[39m5\u001b[39m), (\u001b[39m-\u001b[39m\u001b[39m3\u001b[39m\u001b[39m/\u001b[39m\u001b[39m5\u001b[39m)]])\n\u001b[0;32m----> 5\u001b[0m np\u001b[39m.\u001b[39;49mlinalg\u001b[39m.\u001b[39;49mmatrix_power(A, \u001b[39m-\u001b[39;49m\u001b[39m1\u001b[39;49m)\n",
      "File \u001b[0;32m~/anaconda3/envs/Env1/lib/python3.10/site-packages/numpy/linalg/linalg.py:636\u001b[0m, in \u001b[0;36mmatrix_power\u001b[0;34m(a, n)\u001b[0m\n\u001b[1;32m    634\u001b[0m a \u001b[39m=\u001b[39m asanyarray(a)\n\u001b[1;32m    635\u001b[0m _assert_stacked_2d(a)\n\u001b[0;32m--> 636\u001b[0m _assert_stacked_square(a)\n\u001b[1;32m    638\u001b[0m \u001b[39mtry\u001b[39;00m:\n\u001b[1;32m    639\u001b[0m     n \u001b[39m=\u001b[39m operator\u001b[39m.\u001b[39mindex(n)\n",
      "File \u001b[0;32m~/anaconda3/envs/Env1/lib/python3.10/site-packages/numpy/linalg/linalg.py:213\u001b[0m, in \u001b[0;36m_assert_stacked_square\u001b[0;34m(*arrays)\u001b[0m\n\u001b[1;32m    211\u001b[0m m, n \u001b[39m=\u001b[39m a\u001b[39m.\u001b[39mshape[\u001b[39m-\u001b[39m\u001b[39m2\u001b[39m:]\n\u001b[1;32m    212\u001b[0m \u001b[39mif\u001b[39;00m m \u001b[39m!=\u001b[39m n:\n\u001b[0;32m--> 213\u001b[0m     \u001b[39mraise\u001b[39;00m LinAlgError(\u001b[39m'\u001b[39m\u001b[39mLast 2 dimensions of the array must be square\u001b[39m\u001b[39m'\u001b[39m)\n",
      "\u001b[0;31mLinAlgError\u001b[0m: Last 2 dimensions of the array must be square"
     ]
    }
   ],
   "source": [
    "# DNE\n",
    "\n",
    "A = np.array([[(2/5), (-3/5)]])\n",
    "\n",
    "np.linalg.matrix_power(A, -1)"
   ]
  },
  {
   "cell_type": "code",
   "execution_count": 40,
   "metadata": {},
   "outputs": [
    {
     "data": {
      "text/plain": [
       "array([[-3.        ,  1.        ],\n",
       "       [-1.66666667,  0.66666667]])"
      ]
     },
     "execution_count": 40,
     "metadata": {},
     "output_type": "execute_result"
    }
   ],
   "source": [
    "A = np.array([[-2, 3], [-5, 9]])\n",
    "\n",
    "np.linalg.matrix_power(A, -1)"
   ]
  },
  {
   "cell_type": "code",
   "execution_count": 41,
   "metadata": {},
   "outputs": [
    {
     "data": {
      "text/plain": [
       "array([[ 1.,  0.],\n",
       "       [-2.,  1.]])"
      ]
     },
     "execution_count": 41,
     "metadata": {},
     "output_type": "execute_result"
    }
   ],
   "source": [
    "A = np.array([[1, 0], [2, 1]])\n",
    "\n",
    "np.linalg.matrix_power(A, -1)"
   ]
  },
  {
   "cell_type": "code",
   "execution_count": 42,
   "metadata": {},
   "outputs": [
    {
     "data": {
      "text/plain": [
       "array([[-4., -0., -0.],\n",
       "       [-0., -8., -0.],\n",
       "       [ 0.,  0.,  2.]])"
      ]
     },
     "execution_count": 42,
     "metadata": {},
     "output_type": "execute_result"
    }
   ],
   "source": [
    "A = np.array([[(-1/4), 0, 0], [0, (-1/8), 0], [0, 0, (1/2)]])\n",
    "\n",
    "np.linalg.matrix_power(A, -1)"
   ]
  },
  {
   "cell_type": "code",
   "execution_count": 43,
   "metadata": {},
   "outputs": [
    {
     "data": {
      "text/plain": [
       "array([[ 10.,  -3.,   3.],\n",
       "       [-12.,   4.,  -3.],\n",
       "       [  3.,  -1.,   1.]])"
      ]
     },
     "execution_count": 43,
     "metadata": {},
     "output_type": "execute_result"
    }
   ],
   "source": [
    "A = np.array([[1, 0, -3], [3, 1, -6], [0, 1, 4]])\n",
    "\n",
    "np.linalg.matrix_power(A, -1)"
   ]
  },
  {
   "cell_type": "code",
   "execution_count": 44,
   "metadata": {},
   "outputs": [
    {
     "data": {
      "text/plain": [
       "array([[-2.,  7.],\n",
       "       [ 1., -4.]])"
      ]
     },
     "execution_count": 44,
     "metadata": {},
     "output_type": "execute_result"
    }
   ],
   "source": [
    "A = np.array([[-4, -7], [-1, -2]])\n",
    "\n",
    "np.linalg.matrix_power(A, -1)"
   ]
  },
  {
   "cell_type": "code",
   "execution_count": 45,
   "metadata": {},
   "outputs": [
    {
     "data": {
      "text/plain": [
       "array([[-9, -7,  6],\n",
       "       [ 7, -8,  2],\n",
       "       [ 0, -5, -4]])"
      ]
     },
     "execution_count": 45,
     "metadata": {},
     "output_type": "execute_result"
    }
   ],
   "source": [
    "# Elementary Row Operation = Use np.dot\n",
    "\n",
    "A = np.array([[1, 0, 0], [0, 0, 1], [0, 1, 0]])\n",
    "B = np.array([[-9, -7, 6], [0, -5, -4], [7, -8, 2]])\n",
    "\n",
    "np.dot(A, B)"
   ]
  },
  {
   "cell_type": "code",
   "execution_count": 46,
   "metadata": {},
   "outputs": [
    {
     "data": {
      "text/plain": [
       "array([[ 1,  5,  4],\n",
       "       [-7, -2,  9],\n",
       "       [ 3,  7, -1]])"
      ]
     },
     "execution_count": 46,
     "metadata": {},
     "output_type": "execute_result"
    }
   ],
   "source": [
    "# Elementary Row Operation = Use np.dot\n",
    "\n",
    "A = np.array([[1, 0, 0], [0, 0, 1], [0, 1, 0]])\n",
    "B = np.array([[1, 5, 4], [3, 7, -1], [-7, -2, 9]])\n",
    "\n",
    "np.dot(A, B)"
   ]
  },
  {
   "cell_type": "code",
   "execution_count": 47,
   "metadata": {},
   "outputs": [
    {
     "data": {
      "text/plain": [
       "array([[  0,   6,   2],\n",
       "       [ -7,   9,  -1],\n",
       "       [  4, -14,  -8]])"
      ]
     },
     "execution_count": 47,
     "metadata": {},
     "output_type": "execute_result"
    }
   ],
   "source": [
    "# Elementary Row Operation = Use np.dot\n",
    "\n",
    "A = np.array([[1, 0, 0], [0, 1, 0], [0, 0, -2]])\n",
    "B = np.array([[0, 6, 2], [-7, 9, -1], [-2, 7, 4]])\n",
    "\n",
    "np.dot(A, B)"
   ]
  },
  {
   "cell_type": "code",
   "execution_count": 48,
   "metadata": {},
   "outputs": [
    {
     "data": {
      "text/plain": [
       "array([[ 8, -7, -3],\n",
       "       [-4,  8,  0],\n",
       "       [-8, -1, -6]])"
      ]
     },
     "execution_count": 48,
     "metadata": {},
     "output_type": "execute_result"
    }
   ],
   "source": [
    "# Elementary Row Operation = Use np.dot\n",
    "\n",
    "A = np.array([[1, 0, 0], [0, 1, 1], [0, 0, 1]])\n",
    "B = np.array([[8, -7, -3], [4, 9, 6], [-8, -1, -6]])\n",
    "\n",
    "np.dot(A, B)"
   ]
  },
  {
   "cell_type": "code",
   "execution_count": 49,
   "metadata": {},
   "outputs": [
    {
     "data": {
      "text/plain": [
       "array([[ -2,   9,   1],\n",
       "       [ -1,  -8,   5],\n",
       "       [ -1, -35,  26]])"
      ]
     },
     "execution_count": 49,
     "metadata": {},
     "output_type": "execute_result"
    }
   ],
   "source": [
    "# Elementary Row Operation = Use np.dot\n",
    "\n",
    "A = np.array([[1, 0, 0], [0, 1, 0], [0, 4, 1]])\n",
    "B = np.array([[-2, 9, 1], [-1, -8, 5], [3, -3, 6]])\n",
    "\n",
    "np.dot(A, B)"
   ]
  },
  {
   "attachments": {},
   "cell_type": "markdown",
   "metadata": {},
   "source": [
    "# Linear System of Equations"
   ]
  },
  {
   "cell_type": "code",
   "execution_count": 4,
   "metadata": {},
   "outputs": [
    {
     "data": {
      "text/latex": [
       "$\\displaystyle \\left\\{\\left( 1, \\  -1\\right)\\right\\}$"
      ],
      "text/plain": [
       "{(1, -1)}"
      ]
     },
     "execution_count": 4,
     "metadata": {},
     "output_type": "execute_result"
    }
   ],
   "source": [
    "# 3x_1 + x_2 = 2\n",
    "# x_1 - 4x_2 = 5\n",
    "\n",
    "# A^-1 = (1/13) ([[4, 1], [1, -3]])\n",
    "\n",
    "# Define the symbols\n",
    "x1, x2 = symbols('x1 x2')\n",
    "\n",
    "# Define the equations\n",
    "eq1 = Eq(3*x1 + x2, 2)\n",
    "eq2 = Eq(x1 - 4*x2, 5)\n",
    "\n",
    "# Use sympy.linsolve to solve the system of equations\n",
    "solution = linsolve([eq1, eq2], (x1, x2))\n",
    "\n",
    "solution"
   ]
  },
  {
   "cell_type": "code",
   "execution_count": 5,
   "metadata": {},
   "outputs": [
    {
     "data": {
      "text/latex": [
       "$\\displaystyle \\left\\{\\left( 2, \\  -3\\right)\\right\\}$"
      ],
      "text/plain": [
       "{(2, -3)}"
      ]
     },
     "execution_count": 5,
     "metadata": {},
     "output_type": "execute_result"
    }
   ],
   "source": [
    "# -2x_1 + x_2 = -7\n",
    "# 3x_1 + 2x_2 = 0\n",
    "\n",
    "# A^-1 = (1/7) ([[-1, 1], [3, 2]])\n",
    "\n",
    "# Define the symbols\n",
    "x1, x2 = symbols('x1 x2')\n",
    "\n",
    "# Define the equations\n",
    "eq1 = Eq(-2*x1 + x2, -7)\n",
    "eq2 = Eq(3*x1 + 2*x2, 0)\n",
    "\n",
    "# Use sympy.linsolve to solve the system of equations\n",
    "solution = linsolve([eq1, eq2], (x1, x2))\n",
    "\n",
    "solution"
   ]
  },
  {
   "cell_type": "code",
   "execution_count": 6,
   "metadata": {},
   "outputs": [
    {
     "data": {
      "text/latex": [
       "$\\displaystyle \\left\\{\\left( 3, \\  -3, \\  1\\right)\\right\\}$"
      ],
      "text/plain": [
       "{(3, -3, 1)}"
      ]
     },
     "execution_count": 6,
     "metadata": {},
     "output_type": "execute_result"
    }
   ],
   "source": [
    "# 5x_1 + 6x_2 = -3\n",
    "# x_1 + 2x_2 + 3x_3 = 0\n",
    "# x_2 + 4x_3 = 1\n",
    "\n",
    "# A^-1 = ([[5, -24, 18], [-4, 20, -15], [1, -5, 4]])\n",
    "\n",
    "# Define the symbols\n",
    "x1, x2, x3 = symbols('x1 x2 x3')\n",
    "\n",
    "# Define the equations\n",
    "eq1 = Eq(5*x1 + 6*x2, -3)\n",
    "eq2 = Eq(x1 + 2*x2 + 3*x3, 0)\n",
    "eq3 = Eq(x2 + 4*x3, 1)\n",
    "\n",
    "# Use sympy.linsolve to solve the system of equations\n",
    "solution = linsolve([eq1, eq2, eq3], (x1, x2, x3))\n",
    "\n",
    "solution"
   ]
  },
  {
   "cell_type": "code",
   "execution_count": 7,
   "metadata": {},
   "outputs": [
    {
     "data": {
      "text/latex": [
       "$\\displaystyle \\left\\{\\left( -1, \\  -2, \\  2\\right)\\right\\}$"
      ],
      "text/plain": [
       "{(-1, -2, 2)}"
      ]
     },
     "execution_count": 7,
     "metadata": {},
     "output_type": "execute_result"
    }
   ],
   "source": [
    "# x_1 - x_2 + x_3 = 3\n",
    "# 2x_1 + x_2 + 3x_3 = 2\n",
    "# -x_1 + 2x_2 + x_3 = -1\n",
    "\n",
    "# A^-1 = (1/5)([[-5, 3, -4], [-5, 2, -1], [5, -1, 3]])\n",
    "\n",
    "# Define the symbols\n",
    "x1, x2, x3 = symbols('x1 x2 x3')\n",
    "\n",
    "# Define the equations\n",
    "eq1 = Eq(x1 - x2 + x3, 3)\n",
    "eq2 = Eq(2*x1 + x2 + 3*x3, 2)\n",
    "eq3 = Eq(-x1 + 2*x2 + x3, -1)\n",
    "\n",
    "# Use sympy.linsolve to solve the system of equations\n",
    "solution = linsolve([eq1, eq2, eq3], (x1, x2, x3))\n",
    "\n",
    "solution"
   ]
  },
  {
   "cell_type": "code",
   "execution_count": 9,
   "metadata": {},
   "outputs": [
    {
     "data": {
      "text/latex": [
       "$\\displaystyle \\left\\{\\left( 3, \\  4\\right)\\right\\}$"
      ],
      "text/plain": [
       "{(3, 4)}"
      ]
     },
     "execution_count": 9,
     "metadata": {},
     "output_type": "execute_result"
    }
   ],
   "source": [
    "# -x_1 + x_2 = 1\n",
    "# -3x_1 + 2x_2 = -1\n",
    "\n",
    "# A^-1 = ([[2, -1], [3, -1]])\n",
    "\n",
    "# Define the symbols\n",
    "x1, x2 = symbols('x1 x2')\n",
    "\n",
    "# Define the equations\n",
    "eq1 = Eq(-x1 + x2, 1)\n",
    "eq2 = Eq(-3*x1 + 2*x2, -1)\n",
    "\n",
    "# Use sympy.linsolve to solve the system of equations\n",
    "solution = linsolve([eq1, eq2], (x1, x2))\n",
    "\n",
    "solution"
   ]
  },
  {
   "cell_type": "code",
   "execution_count": 10,
   "metadata": {},
   "outputs": [
    {
     "data": {
      "text/latex": [
       "$\\displaystyle \\left\\{\\left( -18, \\  -11\\right)\\right\\}$"
      ],
      "text/plain": [
       "{(-18, -11)}"
      ]
     },
     "execution_count": 10,
     "metadata": {},
     "output_type": "execute_result"
    }
   ],
   "source": [
    "# 2x_1 - 3x_2 = -3\n",
    "# -5x_1 + 8x_2 = 2\n",
    "\n",
    "# Define the symbols\n",
    "x1, x2 = symbols('x1 x2')\n",
    "\n",
    "# Define the equations\n",
    "eq1 = Eq(2*x1 - 3*x2, -3)\n",
    "eq2 = Eq(-5*x1 + 8*x2, 2)\n",
    "\n",
    "# Use sympy.linsolve to solve the system of equations\n",
    "solution = linsolve([eq1, eq2], (x1, x2))\n",
    "\n",
    "solution"
   ]
  },
  {
   "attachments": {},
   "cell_type": "markdown",
   "metadata": {},
   "source": [
    "# LU Decomposition"
   ]
  },
  {
   "attachments": {},
   "cell_type": "markdown",
   "metadata": {},
   "source": [
    "Given that A is transformed into U by the elementary row operations below, find (E_1)^-1 and (E_2)^-1:\n",
    "\n",
    "A = ([[8, -2, 3], [-24, 13, -4], [-16, 4, -4]])\n",
    "\n",
    "2R1 + R3 -> R3\n",
    "\n",
    "([[8, -2, 3], [-24, 13, -4], [0, 0, 2]])\n",
    "\n",
    "3R1 + R2 -> R2\n",
    "\n",
    "U = ([[8, -2, 3], [0, 7, 5], [0, 0, 2]])"
   ]
  },
  {
   "cell_type": "code",
   "execution_count": 68,
   "metadata": {},
   "outputs": [
    {
     "name": "stdout",
     "output_type": "stream",
     "text": [
      "E1 = \n",
      "[[1. 0. 0.]\n",
      " [0. 1. 0.]\n",
      " [2. 0. 1.]]\n",
      "\n",
      "E2 = \n",
      "[[1. 0. 0.]\n",
      " [3. 1. 0.]\n",
      " [0. 0. 1.]]\n"
     ]
    }
   ],
   "source": [
    "# Define the matrix A and U\n",
    "A = np.array([[8, -2, 3], [-24, 13, -4], [-16, 4, -4]])\n",
    "U = np.array([[8, -2, 3], [0, 7, 5], [0, 0, 2]])\n",
    "\n",
    "# Start with identity matrices for E1 and E2\n",
    "E1 = np.eye(3)\n",
    "E2 = np.eye(3)\n",
    "\n",
    "# Perform the operations on E1 and E2\n",
    "E1[2] = 2*E1[0] + E1[2] # 2R1 + R3 -> R3\n",
    "E2[1] = 3*E2[0] + E2[1] # 3R1 + R2 -> R2\n",
    "\n",
    "# Print the elementary matrices E1 and E2\n",
    "print(\"E1 = \")\n",
    "print(E1)\n",
    "print(\"\\nE2 = \")\n",
    "print(E2)"
   ]
  },
  {
   "cell_type": "code",
   "execution_count": 66,
   "metadata": {},
   "outputs": [
    {
     "data": {
      "text/plain": [
       "array([[ 1.,  0.,  0.],\n",
       "       [ 0.,  1.,  0.],\n",
       "       [-2., -0.,  1.]])"
      ]
     },
     "execution_count": 66,
     "metadata": {},
     "output_type": "execute_result"
    }
   ],
   "source": [
    "np.linalg.matrix_power(E1, -1)"
   ]
  },
  {
   "cell_type": "code",
   "execution_count": 67,
   "metadata": {},
   "outputs": [
    {
     "data": {
      "text/plain": [
       "array([[ 1.,  0.,  0.],\n",
       "       [-3.,  1., -0.],\n",
       "       [ 0.,  0.,  1.]])"
      ]
     },
     "execution_count": 67,
     "metadata": {},
     "output_type": "execute_result"
    }
   ],
   "source": [
    "np.linalg.matrix_power(E2, -1)"
   ]
  },
  {
   "attachments": {},
   "cell_type": "markdown",
   "metadata": {},
   "source": [
    "Given that A is transformed into U by the elementary row operations below, find (E_1)^-1 and (E_2)^-1:\n",
    "\n",
    "A = ([[-7, -4, 6], [21, 19, -16], [14, 8, -7]])\n",
    "\n",
    "2R1 + R3 -> R3\n",
    "\n",
    "([[-7, -4, 6], [21, 19, -16], [0, 0, 5]])\n",
    "\n",
    "3R1 + R2 -> R2\n",
    "\n",
    "U = ([[-7, -4, 6], [0, 7, 2], [0, 0, 5]])"
   ]
  },
  {
   "cell_type": "code",
   "execution_count": 69,
   "metadata": {},
   "outputs": [
    {
     "name": "stdout",
     "output_type": "stream",
     "text": [
      "E1 = \n",
      "[[1. 0. 0.]\n",
      " [0. 1. 0.]\n",
      " [2. 0. 1.]]\n",
      "\n",
      "E2 = \n",
      "[[1. 0. 0.]\n",
      " [3. 1. 0.]\n",
      " [0. 0. 1.]]\n"
     ]
    }
   ],
   "source": [
    "# Define the matrix A and U\n",
    "A = np.array([[-7, -4, 6], [21, 19, -16], [14, 8, -7]])\n",
    "U = np.array([[-7, -4, 6], [0, 7, 2], [0, 0, 5]])\n",
    "\n",
    "# Start with identity matrices for E1 and E2\n",
    "E1 = np.eye(3)\n",
    "E2 = np.eye(3)\n",
    "\n",
    "# Perform the operations on E1 and E2\n",
    "E1[2] = 2*E1[0] + E1[2] # 2R1 + R3 -> R3\n",
    "E2[1] = 3*E2[0] + E2[1] # 3R1 + R2 -> R2\n",
    "\n",
    "# Print the elementary matrices E1 and E2\n",
    "print(\"E1 = \")\n",
    "print(E1)\n",
    "print(\"\\nE2 = \")\n",
    "print(E2)"
   ]
  },
  {
   "cell_type": "code",
   "execution_count": 70,
   "metadata": {},
   "outputs": [
    {
     "data": {
      "text/plain": [
       "array([[ 1.,  0.,  0.],\n",
       "       [ 0.,  1.,  0.],\n",
       "       [-2., -0.,  1.]])"
      ]
     },
     "execution_count": 70,
     "metadata": {},
     "output_type": "execute_result"
    }
   ],
   "source": [
    "np.linalg.matrix_power(E1, -1)"
   ]
  },
  {
   "cell_type": "code",
   "execution_count": 71,
   "metadata": {},
   "outputs": [
    {
     "data": {
      "text/plain": [
       "array([[ 1.,  0.,  0.],\n",
       "       [-3.,  1., -0.],\n",
       "       [ 0.,  0.,  1.]])"
      ]
     },
     "execution_count": 71,
     "metadata": {},
     "output_type": "execute_result"
    }
   ],
   "source": [
    "np.linalg.matrix_power(E2, -1)"
   ]
  },
  {
   "attachments": {},
   "cell_type": "markdown",
   "metadata": {},
   "source": [
    "Given that A is transformed into U by the elementary row operations below, find L\n",
    "\n",
    "A = ([[-5, -6, -8], [15, 11, 26], [-10, -12, -9]])\n",
    "\n",
    "-2R1 + R3 -> R3\n",
    "\n",
    "([[-5, -6, -8], [15, 11, 26], [0, 0, 7]])\n",
    "\n",
    "3R1 + R2 -> R2\n",
    "\n",
    "U = ([[-5, -6, -8], [0, -7, 2], [0, 0, 7]])\n",
    "\n",
    "L = (E1)^-1 * (E2)^-1"
   ]
  },
  {
   "cell_type": "code",
   "execution_count": 76,
   "metadata": {},
   "outputs": [
    {
     "name": "stdout",
     "output_type": "stream",
     "text": [
      "E1 = \n",
      "[[ 1.  0.  0.]\n",
      " [ 0.  1.  0.]\n",
      " [-2.  0.  1.]]\n",
      "\n",
      "E2 = \n",
      "[[1. 0. 0.]\n",
      " [3. 1. 0.]\n",
      " [0. 0. 1.]]\n"
     ]
    }
   ],
   "source": [
    "# Define the matrix A and U\n",
    "A = np.array([[-5, -6, -8], [15, 11, 26], [-10, -12, -9]])\n",
    "U = np.array([[-5, -6, -8], [0, -7, 2], [0, 0, 7]])\n",
    "\n",
    "# Start with identity matrices for E1 and E2\n",
    "E1 = np.eye(3)\n",
    "E2 = np.eye(3)\n",
    "\n",
    "# Perform the operations on E1 and E2\n",
    "E1[2] = -2*E1[0] + E1[2] # -2R1 + R3 -> R3\n",
    "E2[1] = 3*E2[0] + E2[1] # 3R1 + R2 -> R2\n",
    "\n",
    "# Print the elementary matrices E1 and E2\n",
    "print(\"E1 = \")\n",
    "print(E1)\n",
    "print(\"\\nE2 = \")\n",
    "print(E2)"
   ]
  },
  {
   "cell_type": "code",
   "execution_count": 80,
   "metadata": {},
   "outputs": [
    {
     "data": {
      "text/plain": [
       "array([[ 1.,  0.,  0.],\n",
       "       [-3.,  1.,  0.],\n",
       "       [ 2.,  0.,  1.]])"
      ]
     },
     "execution_count": 80,
     "metadata": {},
     "output_type": "execute_result"
    }
   ],
   "source": [
    "A = np.linalg.matrix_power(E1, -1)\n",
    "B = np.linalg.matrix_power(E2, -1)\n",
    "\n",
    "np.dot(A, B)"
   ]
  },
  {
   "attachments": {},
   "cell_type": "markdown",
   "metadata": {},
   "source": [
    "Given that A is transformed into U by the elementary row operations below, find L\n",
    "\n",
    "A = ([[3, 2, 8], [9, -2, 25], [-9, -6, -33]])\n",
    "\n",
    "3R1 + R3 -> R3\n",
    "\n",
    "([[3, 2, 8], [9, -2, 25], [0, 0, -9]])\n",
    "\n",
    "-3R1 + R2 -> R2\n",
    "\n",
    "U = ([[3, 2, 8], [0, -8, 1], [0, 0, -9]])\n",
    "\n",
    "L = (E1)^-1 * (E2)^-1"
   ]
  },
  {
   "cell_type": "code",
   "execution_count": 83,
   "metadata": {},
   "outputs": [
    {
     "name": "stdout",
     "output_type": "stream",
     "text": [
      "E1 = \n",
      "[[1. 0. 0.]\n",
      " [0. 1. 0.]\n",
      " [3. 0. 1.]]\n",
      "\n",
      "E2 = \n",
      "[[ 1.  0.  0.]\n",
      " [-3.  1.  0.]\n",
      " [ 0.  0.  1.]]\n"
     ]
    }
   ],
   "source": [
    "# Define the matrix A and U\n",
    "A = np.array([[3, 2, 8], [9, -2, 25], [-9, -6, -33]])\n",
    "U = np.array([[3, 2, 8], [0, -8, 1], [0, 0, -9]])\n",
    "\n",
    "# Start with identity matrices for E1 and E2\n",
    "E1 = np.eye(3)\n",
    "E2 = np.eye(3)\n",
    "\n",
    "# Perform the operations on E1 and E2\n",
    "E1[2] = 3*E1[0] + E1[2] # 3R1 + R3 -> R3\n",
    "E2[1] = -3*E2[0] + E2[1] # -3R1 + R2 -> R2\n",
    "\n",
    "# Print the elementary matrices E1 and E2\n",
    "print(\"E1 = \")\n",
    "print(E1)\n",
    "print(\"\\nE2 = \")\n",
    "print(E2)"
   ]
  },
  {
   "cell_type": "code",
   "execution_count": 84,
   "metadata": {},
   "outputs": [
    {
     "data": {
      "text/plain": [
       "array([[ 1.,  0.,  0.],\n",
       "       [ 3.,  1.,  0.],\n",
       "       [-3.,  0.,  1.]])"
      ]
     },
     "execution_count": 84,
     "metadata": {},
     "output_type": "execute_result"
    }
   ],
   "source": [
    "A = np.linalg.matrix_power(E1, -1)\n",
    "B = np.linalg.matrix_power(E2, -1)\n",
    "\n",
    "np.dot(A, B)"
   ]
  },
  {
   "attachments": {},
   "cell_type": "markdown",
   "metadata": {},
   "source": [
    "Given the matrices below and that A = LU, solve Ax = b\n",
    "\n",
    "A = ([[1, 1, -4], [-3, -2, 10], [3, -3, 1]])\n",
    "\n",
    "b = ([[-4], [13], [-16]])\n",
    "\n",
    "L = ([[1, 0, 0], [-3, 1, 0], [3, -6, 1]])\n",
    "\n",
    "U = ([[1, 1, -4], [0, 1, -2], [0, 0, 1]])"
   ]
  },
  {
   "cell_type": "code",
   "execution_count": 85,
   "metadata": {},
   "outputs": [
    {
     "name": "stdout",
     "output_type": "stream",
     "text": [
      "x = \n"
     ]
    },
    {
     "data": {
      "text/plain": [
       "array([[-1.],\n",
       "       [ 5.],\n",
       "       [ 2.]])"
      ]
     },
     "execution_count": 85,
     "metadata": {},
     "output_type": "execute_result"
    }
   ],
   "source": [
    "# Define the matrices L, U, and b\n",
    "L = np.array([[1, 0, 0], [-3, 1, 0], [3, -6, 1]])\n",
    "U = np.array([[1, 1, -4], [0, 1, -2], [0, 0, 1]])\n",
    "b = np.array([[-4], [13], [-16]])\n",
    "\n",
    "# Solve the system Ly = b for y\n",
    "y = np.linalg.solve(L, b)\n",
    "\n",
    "# Solve the system Ux = y for x\n",
    "x = np.linalg.solve(U, y)\n",
    "\n",
    "# Print the solution x\n",
    "print(\"x = \")\n",
    "x"
   ]
  },
  {
   "attachments": {},
   "cell_type": "markdown",
   "metadata": {},
   "source": [
    "Given the matrices below and that A = LU, complete L^-1 * U^-1 and A^-1\n",
    "\n",
    "A = ([[1, -5, 5], [4, -19, 23], [2, -9, 14]])\n",
    "\n",
    "L = ([[1, 0, 0], [4, 1, 0], [2, 1, 1]])\n",
    "\n",
    "U = ([[1, -5, 5], [0, 1, 3], [0, 0, 1]])"
   ]
  },
  {
   "cell_type": "code",
   "execution_count": 86,
   "metadata": {},
   "outputs": [
    {
     "name": "stdout",
     "output_type": "stream",
     "text": [
      "A^-1 = \n",
      "[[-59.  25. -20.]\n",
      " [-10.   4.  -3.]\n",
      " [  2.  -1.   1.]]\n",
      "L^-1 = \n",
      "[[ 1.  0.  0.]\n",
      " [-4.  1.  0.]\n",
      " [ 2. -1.  1.]]\n",
      "U^-1 = \n",
      "[[  1.   5. -20.]\n",
      " [  0.   1.  -3.]\n",
      " [  0.   0.   1.]]\n"
     ]
    }
   ],
   "source": [
    "A = np.array([[1, -5, 5], [4, -19, 23], [2, -9, 14]])\n",
    "L = np.array([[1, 0, 0], [4, 1, 0], [2, 1, 1]])\n",
    "U = np.array([[1, -5, 5], [0, 1, 3], [0, 0, 1]])\n",
    "\n",
    "print(\"A^-1 = \")\n",
    "print(np.linalg.matrix_power(A, -1))\n",
    "\n",
    "print(\"L^-1 = \")\n",
    "print(np.linalg.matrix_power(L, -1))\n",
    "\n",
    "print(\"U^-1 = \")\n",
    "print(np.linalg.matrix_power(U, -1))"
   ]
  },
  {
   "cell_type": "code",
   "execution_count": null,
   "metadata": {},
   "outputs": [],
   "source": []
  }
 ],
 "metadata": {
  "kernelspec": {
   "display_name": "Env1",
   "language": "python",
   "name": "python3"
  },
  "language_info": {
   "codemirror_mode": {
    "name": "ipython",
    "version": 3
   },
   "file_extension": ".py",
   "mimetype": "text/x-python",
   "name": "python",
   "nbconvert_exporter": "python",
   "pygments_lexer": "ipython3",
   "version": "3.10.11"
  },
  "orig_nbformat": 4
 },
 "nbformat": 4,
 "nbformat_minor": 2
}
